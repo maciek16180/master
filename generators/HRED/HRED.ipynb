{
 "cells": [
  {
   "cell_type": "code",
   "execution_count": 1,
   "metadata": {
    "collapsed": false
   },
   "outputs": [
    {
     "name": "stderr",
     "output_type": "stream",
     "text": [
      "WARNING (theano.sandbox.cuda): The cuda backend is deprecated and will be removed in the next release (v0.10).  Please switch to the gpuarray backend. You can get more information about how to switch at this URL:\n",
      " https://github.com/Theano/Theano/wiki/Converting-to-the-new-gpu-back-end%28gpuarray%29\n",
      "\n",
      "Using gpu device 0: GeForce GTX 780 (CNMeM is enabled with initial size: 80.0% of memory, cuDNN 4007)\n"
     ]
    }
   ],
   "source": [
    "import sys\n",
    "sys.path.insert(0, '../')\n",
    "\n",
    "import numpy as np\n",
    "import theano\n",
    "import theano.tensor as T\n",
    "import time\n",
    "\n",
    "import lasagne as L\n",
    "\n",
    "from HRED import HRED\n",
    "from data_load.mt_load import load_mt, get_mt_voc, get_w2v_embs\n",
    "from data_load.subtle_load import load_subtle\n",
    "from diverse_beam_search import diverse_beam_search"
   ]
  },
  {
   "cell_type": "code",
   "execution_count": 2,
   "metadata": {
    "collapsed": true
   },
   "outputs": [],
   "source": [
    "# remember, now the pad value is the same as the <utt_end> token\n",
    "\n",
    "pad_value = -1 # <utt_end>'s vector is the last one"
   ]
  },
  {
   "cell_type": "code",
   "execution_count": 3,
   "metadata": {
    "collapsed": false
   },
   "outputs": [
    {
     "ename": "IOError",
     "evalue": "Failed to interpret file '/pio/data/data/mtriples/Subtle_Dataset.triples.pkl' as a pickle",
     "output_type": "error",
     "traceback": [
      "\u001b[1;31m---------------------------------------------------------------------------\u001b[0m",
      "\u001b[1;31mIOError\u001b[0m                                   Traceback (most recent call last)",
      "\u001b[1;32m<ipython-input-3-a96cd8c94280>\u001b[0m in \u001b[0;36m<module>\u001b[1;34m()\u001b[0m\n\u001b[0;32m      2\u001b[0m \u001b[0msubtle_path\u001b[0m \u001b[1;33m=\u001b[0m \u001b[1;34m\"/pio/data/data/mtriples/\"\u001b[0m\u001b[1;33m\u001b[0m\u001b[0m\n\u001b[0;32m      3\u001b[0m \u001b[1;33m\u001b[0m\u001b[0m\n\u001b[1;32m----> 4\u001b[1;33m \u001b[0mtrain_subtle\u001b[0m \u001b[1;33m=\u001b[0m \u001b[0mload_subtle\u001b[0m\u001b[1;33m(\u001b[0m\u001b[0msubtle_path\u001b[0m\u001b[1;33m,\u001b[0m \u001b[0msplit\u001b[0m\u001b[1;33m=\u001b[0m\u001b[0mTrue\u001b[0m\u001b[1;33m,\u001b[0m \u001b[0mtrim\u001b[0m\u001b[1;33m=\u001b[0m\u001b[1;36m200\u001b[0m\u001b[1;33m)\u001b[0m\u001b[1;33m\u001b[0m\u001b[0m\n\u001b[0m\u001b[0;32m      5\u001b[0m \u001b[1;32mprint\u001b[0m \u001b[0mtime\u001b[0m\u001b[1;33m.\u001b[0m\u001b[0mtime\u001b[0m\u001b[1;33m(\u001b[0m\u001b[1;33m)\u001b[0m \u001b[1;33m-\u001b[0m \u001b[0mt0\u001b[0m\u001b[1;33m\u001b[0m\u001b[0m\n",
      "\u001b[1;32m/home/i258346/Desktop/masters_thesis/HRED/load_subtle.pyc\u001b[0m in \u001b[0;36mload_subtle\u001b[1;34m(path, split, trim)\u001b[0m\n\u001b[0;32m     11\u001b[0m \u001b[1;33m\u001b[0m\u001b[0m\n\u001b[0;32m     12\u001b[0m \u001b[1;32mdef\u001b[0m \u001b[0mload_subtle\u001b[0m\u001b[1;33m(\u001b[0m\u001b[0mpath\u001b[0m\u001b[1;33m,\u001b[0m \u001b[0msplit\u001b[0m\u001b[1;33m=\u001b[0m\u001b[0mFalse\u001b[0m\u001b[1;33m,\u001b[0m \u001b[0mtrim\u001b[0m\u001b[1;33m=\u001b[0m\u001b[1;36m200\u001b[0m\u001b[1;33m)\u001b[0m\u001b[1;33m:\u001b[0m\u001b[1;33m\u001b[0m\u001b[0m\n\u001b[1;32m---> 13\u001b[1;33m     \u001b[0mdata\u001b[0m \u001b[1;33m=\u001b[0m \u001b[0mnp\u001b[0m\u001b[1;33m.\u001b[0m\u001b[0mload\u001b[0m\u001b[1;33m(\u001b[0m\u001b[0mpath\u001b[0m \u001b[1;33m+\u001b[0m \u001b[1;34m'Subtle_Dataset.triples.pkl'\u001b[0m\u001b[1;33m)\u001b[0m\u001b[1;33m\u001b[0m\u001b[0m\n\u001b[0m\u001b[0;32m     14\u001b[0m \u001b[1;33m\u001b[0m\u001b[0m\n\u001b[0;32m     15\u001b[0m     \u001b[1;32mif\u001b[0m \u001b[0msplit\u001b[0m\u001b[1;33m:\u001b[0m\u001b[1;33m\u001b[0m\u001b[0m\n",
      "\u001b[1;32m/home/i258346/.local/lib/python2.7/site-packages/numpy/lib/npyio.pyc\u001b[0m in \u001b[0;36mload\u001b[1;34m(file, mmap_mode, allow_pickle, fix_imports, encoding)\u001b[0m\n\u001b[0;32m    427\u001b[0m             \u001b[1;32mexcept\u001b[0m\u001b[1;33m:\u001b[0m\u001b[1;33m\u001b[0m\u001b[0m\n\u001b[0;32m    428\u001b[0m                 raise IOError(\n\u001b[1;32m--> 429\u001b[1;33m                     \"Failed to interpret file %s as a pickle\" % repr(file))\n\u001b[0m\u001b[0;32m    430\u001b[0m     \u001b[1;32mfinally\u001b[0m\u001b[1;33m:\u001b[0m\u001b[1;33m\u001b[0m\u001b[0m\n\u001b[0;32m    431\u001b[0m         \u001b[1;32mif\u001b[0m \u001b[0mown_fid\u001b[0m\u001b[1;33m:\u001b[0m\u001b[1;33m\u001b[0m\u001b[0m\n",
      "\u001b[1;31mIOError\u001b[0m: Failed to interpret file '/pio/data/data/mtriples/Subtle_Dataset.triples.pkl' as a pickle"
     ]
    }
   ],
   "source": [
    "t0 = time.time()\n",
    "subtle_path = \"/pio/data/data/mtriples/\"\n",
    "\n",
    "train_subtle = load_subtle(subtle_path, split=True, trim=200)\n",
    "print time.time() - t0"
   ]
  },
  {
   "cell_type": "code",
   "execution_count": 3,
   "metadata": {
    "collapsed": false
   },
   "outputs": [],
   "source": [
    "mt_path = \"/pio/data/data/mtriples/\"\n",
    "# mt_path = \"../DATA/MovieTriples_Dataset/\"\n",
    "\n",
    "train, valid, test = load_mt(path=mt_path, split=True, trim=200)\n",
    "idx_to_w, w_to_idx, voc_size, freqs = get_mt_voc(path=mt_path, train_len=len(train))"
   ]
  },
  {
   "cell_type": "code",
   "execution_count": 4,
   "metadata": {
    "collapsed": false
   },
   "outputs": [],
   "source": [
    "word2vec_embs, word2vec_embs_mask = get_w2v_embs(path=mt_path)\n",
    "\n",
    "w2v_train_mask = np.where(word2vec_embs_mask[:,0] == 1)[0]"
   ]
  },
  {
   "cell_type": "code",
   "execution_count": 5,
   "metadata": {
    "collapsed": false
   },
   "outputs": [
    {
     "name": "stdout",
     "output_type": "stream",
     "text": [
      "Building the model...\n",
      "Compiling theano functions...\n",
      "Building a network for generating...\n",
      "Done\n",
      "CPU times: user 38.8 s, sys: 1.27 s, total: 40.1 s\n",
      "Wall time: 1min 14s\n"
     ]
    }
   ],
   "source": [
    "%%time\n",
    "hred_net = HRED(voc_size=voc_size,\n",
    "                emb_size=300,\n",
    "                lv1_rec_size=300, \n",
    "                lv2_rec_size=300, \n",
    "                out_emb_size=300, \n",
    "                num_sampled=200,\n",
    "                ssoft_probs=freqs,\n",
    "                emb_init=word2vec_embs)"
   ]
  },
  {
   "cell_type": "code",
   "execution_count": 6,
   "metadata": {
    "collapsed": true
   },
   "outputs": [],
   "source": [
    "hred_net.load_params('trained_models/subtleFixed_300_300_300_300_ssoft200unigr_bs30_cut200_early5.npz')"
   ]
  },
  {
   "cell_type": "code",
   "execution_count": 7,
   "metadata": {
    "collapsed": true
   },
   "outputs": [],
   "source": [
    "def print_utt(utt):\n",
    "    return ' '.join([idx_to_w[x] for x in utt])\n",
    "\n",
    "def rnd_next_word(probs, size=1):\n",
    "    return np.random.choice(np.append(np.arange(probs.shape[0]-1), -1).astype(np.int32), \n",
    "                            size=size, p=probs)\n",
    "\n",
    "def utt_to_array(utt):\n",
    "    arr = np.array([w_to_idx.get(w, w_to_idx['<unk>']) for w in utt])[np.newaxis].astype(np.int32)\n",
    "    arr[arr == -voc_size] = -1\n",
    "    return arr\n",
    "\n",
    "def context_summary(context, lookup=True):\n",
    "    con_init = np.zeros((1, hred_net.lv2_rec_size), dtype=np.float32)\n",
    "    for utt in context:\n",
    "        con_init = hred_net.get_new_con_init_fn(utt_to_array(utt) if lookup else utt, con_init)\n",
    "    return con_init"
   ]
  },
  {
   "cell_type": "code",
   "execution_count": 9,
   "metadata": {
    "collapsed": false,
    "scrolled": true
   },
   "outputs": [
    {
     "name": "stdout",
     "output_type": "stream",
     "text": [
      "<s> i couldn ' t say . </s>\n",
      "<s> you were a prosecutor . </s>\n"
     ]
    }
   ],
   "source": [
    "context = map(lambda x: np.array(x, dtype=np.int32)[np.newaxis], train[99:101])\n",
    "lookup = False\n",
    "for u in context:\n",
    "    print print_utt(u[0])"
   ]
  },
  {
   "cell_type": "code",
   "execution_count": 8,
   "metadata": {
    "collapsed": true
   },
   "outputs": [],
   "source": [
    "context = ['<s> hi . </s>'.split(), '<s> hello , what \\' s up ? </s>'.split()]\n",
    "lookup = True"
   ]
  },
  {
   "cell_type": "code",
   "execution_count": 14,
   "metadata": {
    "collapsed": true
   },
   "outputs": [],
   "source": [
    "context = ['<s> yeah , okay . </s>'.split(), '<s> well , i guess i \\' ll be going now . </s>'.split()]\n",
    "lookup = True"
   ]
  },
  {
   "cell_type": "code",
   "execution_count": 17,
   "metadata": {
    "collapsed": true
   },
   "outputs": [],
   "source": [
    "context= ['<s> what would the table think about if it could think ? </s>'.split()]\n",
    "lookup = True"
   ]
  },
  {
   "cell_type": "code",
   "execution_count": 19,
   "metadata": {
    "collapsed": true
   },
   "outputs": [],
   "source": [
    "context= ['<s> i saw a pretty good movie yesterday . </s>'.split()]\n",
    "lookup = True"
   ]
  },
  {
   "cell_type": "code",
   "execution_count": 31,
   "metadata": {
    "collapsed": true
   },
   "outputs": [],
   "source": [
    "context= ['<s> hi . </s>'.split()]\n",
    "lookup = True"
   ]
  },
  {
   "cell_type": "code",
   "execution_count": 20,
   "metadata": {
    "collapsed": false,
    "scrolled": true
   },
   "outputs": [
    {
     "name": "stdout",
     "output_type": "stream",
     "text": [
      "-1.234   is that what you ' re talking about ?\n",
      "\n",
      "-1.262   what are you doing ?\n",
      "\n",
      "-1.290   is that what you ' re doing ?\n",
      "\n",
      "-1.371   what are you talking about ?\n",
      "\n",
      "-1.399   so what ' s the matter ?\n",
      "\n",
      "-1.478   it ' s not like that .\n",
      "\n",
      "-1.493   is that what you think ?\n",
      "\n",
      "-1.495   really ? well , i ' m sorry .\n",
      "\n",
      "-1.510   yes , i ' m sorry .\n",
      "\n",
      "-1.511   so what ' s your name ?\n",
      "\n",
      "-1.576   is that what you ' re talking about ? <continued_utterance> i ' m sorry .\n",
      "\n",
      "-1.581   i ' m sorry .\n",
      "\n",
      "-1.586   oh , yeah .\n",
      "\n",
      "-1.591   really ?\n",
      "\n",
      "-1.619   are you kidding ?\n",
      "\n",
      "-1.638   what are you talking about ? i ' m not gon na do that .\n",
      "\n",
      "-1.641   did you see that ?\n",
      "\n",
      "-1.655   what are you talking about ? i ' m not gon na do it .\n",
      "\n",
      "-1.661   i ' m sorry , but it ' s okay .\n",
      "\n",
      "-1.677   uh-huh .\n",
      "\n",
      "-1.682   are you kidding ? <continued_utterance> i ' m sorry .\n",
      "\n",
      "-1.687   is that what you ' re talking about ? <continued_utterance> i ' m sorry . i ' m not going to tell you anything . i don ' t know why you ' re here .\n",
      "\n",
      "-1.688   is that what you ' re talking about ? <continued_utterance> i ' m sorry . i ' m not going to tell you anything .\n",
      "\n",
      "-1.703   is that what you ' re talking about ? <continued_utterance> i ' m sorry . i ' m not going to tell you something .\n",
      "\n",
      "-1.707   yes , i ' m sorry . <continued_utterance> i don ' t know what to do with you .\n",
      "\n",
      "-1.710   do you have any idea how much i can ' t be ?\n",
      "\n",
      "-1.710   is that what you ' re talking about ? <continued_utterance> i ' m sorry . i ' m not going to tell you anything . i don ' t want to be here anymore .\n",
      "\n",
      "-1.718   i ' m sorry , sir .\n",
      "\n",
      "-1.719   it ' s not like that . you know what i mean ?\n",
      "\n",
      "-1.726   yes , i ' m sorry . <continued_utterance> i don ' t know what to do with it .\n",
      "\n",
      "-1.738   are you kidding ? <continued_utterance> i ' m sorry . i didn ' t mean to say anything about it .\n",
      "\n",
      "-1.741   yes , i ' m sorry . <continued_utterance> i don ' t know what to do .\n",
      "\n",
      "-1.741   i ' m sorry , but it ' s okay . <continued_utterance> what ' s the matter ?\n",
      "\n",
      "-1.742   yes , i ' m sorry . <continued_utterance> you know what i mean ?\n",
      "\n",
      "-1.747   do you have any idea how much i can ' t get ?\n",
      "\n",
      "-1.750   are you kidding ? <continued_utterance> i ' m sorry . i didn ' t mean to say that .\n",
      "\n",
      "-1.754   so what ' s the matter ? you ' re not gon na be a good man , aren ' t you ?\n",
      "\n",
      "-1.770   are you kidding ? <continued_utterance> i ' m sorry . i didn ' t mean to say anything about that .\n",
      "\n",
      "-1.773   do you have any idea how much i can get ?\n",
      "\n",
      "-1.780   really ? well , i ' m sorry . i ' m just a little tired .\n",
      "\n",
      "-1.791   oh , yeah . well , you know what i mean ?\n",
      "\n",
      "-1.796   is that what you ' re talking about ? <continued_utterance> i ' m sorry . i ' m not going to tell you anything . i don ' t know why you ' re here . i just want to see you .\n",
      "\n",
      "-1.810   so what ' s the matter ? you ' re not gon na be a good man , aren ' t you ? <continued_utterance> i ' m sorry .\n",
      "\n",
      "-1.812   really ? well , i ' m sorry . i ' m just a little tired of the way you ' re going to do .\n",
      "\n",
      "-1.813   really ? well , i ' m sorry . i ' m just a little tired of the way you ' re doing .\n",
      "\n",
      "-1.815   is that what you ' re talking about ? <continued_utterance> i ' m sorry . i ' m not going to tell you anything . i don ' t know why you ' re here . i just want to see you again .\n",
      "\n",
      "-1.816   i ' m sorry , but it ' s okay . <continued_utterance> you ' re not going to have to do this .\n",
      "\n",
      "-1.820   i ' m sorry , but it ' s okay . <continued_utterance> you ' re not going to have to do this anymore .\n",
      "\n",
      "-1.822   yes , i ' m sorry . <continued_utterance> i don ' t know what to do with you . i just want to see you again .\n",
      "\n",
      "-1.824   is it ?\n",
      "\n",
      "-1.824   i ' m sorry , but it ' s not .\n",
      "\n",
      "-1.838   what are you talking about ? i ' m not gon na do that . <continued_utterance> i ' m sorry .\n",
      "\n",
      "-1.839   yes , i ' m not .\n",
      "\n",
      "-1.839   really ? well , i ' m sorry . i ' m just a little tired of the way you ' re going to be .\n",
      "\n",
      "-1.840   it ' s not like that . you know what ?\n",
      "\n",
      "-1.850   are you kidding me ?\n",
      "\n",
      "-1.852   is that what you ' re talking about ? <continued_utterance> i ' m sorry . i ' m not going to tell you anything . i don ' t know why you ' re here . i just want to see you again , okay ?\n",
      "\n",
      "-1.857   are you kidding ? <continued_utterance> i ' m not .\n",
      "\n",
      "-1.858   yes , i was .\n",
      "\n",
      "-1.860   i ' m sorry , but it ' s okay . <continued_utterance> you ' re not going to have to do this anymore ?\n",
      "\n",
      "-1.861   do you have any idea how much i can ' t be ? <continued_utterance> i ' m not a bad man . i don ' t know what to say .\n",
      "\n",
      "-1.863   so what ' s the matter ? you ' re not gon na be a good man , aren ' t you .\n",
      "\n",
      "-1.867   do you have any idea how much i can ' t be ? <continued_utterance> i ' m not a bad man . i don ' t know what to do .\n",
      "\n",
      "-1.868   so what ' s the matter ? you ' re not gon na be a good man .\n",
      "\n",
      "-1.870   yes , i ' m sorry . <continued_utterance> i don ' t know what to do with you . i just want to see you .\n",
      "\n",
      "-1.874   really ? well , i ' m sorry . i ' m just a little tired of the way you ' re going to do . <continued_utterance> i ' ll be right back .\n",
      "\n",
      "-1.876   really ? well , i ' m sorry . i ' m just a little tired of being here .\n",
      "\n",
      "-1.890   so what ' s the matter ? you ' re not gon na be a good man , aren ' t you ? <continued_utterance> i ' m sorry . i ' m sorry .\n",
      "\n",
      "-1.892   what are you talking about ? i ' m not gon na do that . <continued_utterance> i ' m sorry , i ' m fine .\n",
      "\n",
      "-1.896   are you kidding ? <continued_utterance> i ' m sorry . i didn ' t mean to say anything about it . i just wanted to see you .\n",
      "\n",
      "-1.903   really ? well , i ' m sorry . i ' m just a little tired of the way you ' re going to do . <continued_utterance> i ' ll be fine .\n",
      "\n",
      "-1.904   so what ' s the matter ? you ' re not gon na be a good man , aren ' t you ? <continued_utterance> i ' m sorry . i was just thinking about you .\n",
      "\n",
      "-1.904   so what ' s the matter ? you ' re not gon na be a good man , you know .\n",
      "\n",
      "-1.912   do you have any idea how much i can ' t be ? <continued_utterance> i ' m not a bad man .\n",
      "\n",
      "-1.912   are you kidding ? <continued_utterance> i ' m sorry . i didn ' t mean to say anything about it . i just wanted to see that .\n",
      "\n",
      "-1.914   really ? well , i ' m sorry . i ' m just a little tired of the way you ' re going to do . <continued_utterance> i ' ll be right back . i ' m not gon na say that .\n",
      "\n",
      "-1.914   do you have any idea how much i can ' t be ? <continued_utterance> i ' m not a good person .\n",
      "\n",
      "-1.915   do you have any idea how much i can ' t be ? <continued_utterance> i ' m not .\n",
      "\n",
      "-1.917   really ? well , i ' m sorry . i ' m just a little tired of the way you ' re going to do . <continued_utterance> i ' ll be right back in the morning .\n",
      "\n",
      "-1.918   really ? well , i ' m sorry . i ' m just a little tired of the way you ' re going to do . <continued_utterance> i ' ll be right back . i ' m not gon na go .\n",
      "\n",
      "-1.918   so what ' s the matter ? you ' re not gon na be a good man , aren ' t you . ?\n",
      "\n",
      "-1.921   yes , i ' m sorry . <continued_utterance> i don ' t know what to do with you . i just want to see you again . <continued_utterance> you ' re not gon na be okay ?\n",
      "\n",
      "-1.930   do you have any idea how much i can ' t be ? <continued_utterance> i ' m not a bad man . i don ' t know what to do . i just want to see you again .\n",
      "\n",
      "-1.931   do you have any idea how much i can ' t be ? <continued_utterance> i ' m not a bad man . i don ' t know what to do . i just want to see you .\n",
      "\n",
      "-1.932   really ? well , i ' m sorry . i ' m just a little tired of the way you ' re going to do . <continued_utterance> i ' ll be right back . i ' m not gon na say that again .\n",
      "\n",
      "-1.942   yes , i ' m sorry . <continued_utterance> i don ' t know what to do with you . i just want to see you again . <continued_utterance> you ' re not gon na be okay .\n",
      "\n",
      "-1.945   oh , yeah . well , you know what i mean .\n",
      "\n",
      "-1.947   it ' s not like that . you know what i mean , i ' m just a little more than i can do .\n",
      "\n",
      "-1.950   what are you talking about ? i ' m not gon na do that . <continued_utterance> i ' m sorry , i ' m just a little tired of being here .\n",
      "\n",
      "-1.953   it ' s not like that . you know what i mean , i ' m just a little more than i can do . <continued_utterance> i don ' t want to talk about it .\n",
      "\n",
      "-1.956   so what ' s the matter ? you ' re not gon na be a good man , aren ' t you ? <continued_utterance> i ' m sorry . i was just thinking about you and your friends .\n",
      "\n",
      "-1.957   so what ' s the matter ? you ' re not gon na be a good man , aren ' t you ? <continued_utterance> i ' m sorry . i was just thinking about you and me .\n",
      "\n",
      "-1.967   oh , yeah . well , you know what ?\n",
      "\n",
      "-1.968   it ' s not like that . you know what i mean , i ' m just a little bit of a bad idea .\n",
      "\n",
      "-1.969   it ' s not like that . you know what i mean , i ' m just a little more than i can do . <continued_utterance> i don ' t want to talk about this .\n",
      "\n",
      "-1.971   so what ' s the matter ? you ' re not gon na be a good man , aren ' t you ? <continued_utterance> i ' m sorry . i was just thinking about you and your friends are going to get you out of here .\n",
      "\n",
      "-1.972   so what ' s the matter ? you ' re not gon na be a good man , aren ' t you ? <continued_utterance> i ' m sorry . i was just thinking about you and your friends are going to get me out of here .\n",
      "\n",
      "-1.973   so what ' s the matter ? you ' re not gon na be a good man , aren ' t you ? <continued_utterance> i ' m sorry . i was just thinking about you and your friends are here .\n",
      "\n",
      "-1.980   what are you talking about ? i ' m not gon na do that . <continued_utterance> i ' m sorry , i ' m just a little tired of being here . i ' ve been thinking about it .\n",
      "\n",
      "-1.981   do you have any idea how much i can ' t be ? <continued_utterance> i ' m not a bad man . i don ' t know what to do . i just want to see you again , and i ' ll be right back .\n",
      "\n",
      "-1.981   yes , i ' m sorry . <continued_utterance> i don ' t know what to do with you . i just want to see you again . <continued_utterance> you ' re not gon na be okay . you ' ll have to go home .\n",
      "\n",
      "-1.984   so what ' s the matter ? you ' re not gon na be a good man , aren ' t you ? <continued_utterance>\n",
      "\n",
      "-1.988   what are you talking about ? i ' m not gon na do that . <continued_utterance> i ' m sorry , i ' m just a little tired of being here . i ' ve got to go home .\n",
      "\n",
      "-1.990   yes , i ' m sorry . <continued_utterance> i don ' t know what to do with you . i just want to see you again . <continued_utterance> you ' re not gon na be okay . you ' ll have to go back to the hospital .\n",
      "\n",
      "-1.997   yeah .\n",
      "\n",
      "-1.997   what are you talking about ? i ' m not gon na do that . <continued_utterance> i ' m sorry , i ' m just a little bit of a good time .\n",
      "\n",
      "-2.001   oh , yeah . well , you know what i mean ? <continued_utterance> i ' m not gon na do that .\n",
      "\n",
      "-2.004   yes , i ' m sorry . <continued_utterance> i don ' t know what to do with you . i just want to see you again . <continued_utterance> you ' re not gon na be okay . you ' ll have to go back to work .\n",
      "\n",
      "-2.004   i ' m sorry , but it ' s okay . <continued_utterance> you ' re not going to have to do this anymore ? are you ?\n",
      "\n",
      "-2.008   oh , yeah . well , you know what i mean ? <continued_utterance> i ' m not gon na do it !\n",
      "\n",
      "-2.016   it ' s not like that . you know what i mean , i ' m just a little more than i can do . <continued_utterance> i don ' t want to talk about it . i don ' t know why i ' m here .\n",
      "\n",
      "-2.024   what are you talking about ? i ' m not gon na do that . <continued_utterance> i ' m sorry , i ' m just a little tired of being here . i ' ve been thinking about it . <continued_utterance> i ' ll be right back .\n",
      "\n",
      "-2.037   oh , yeah . well .\n",
      "\n",
      "-2.045   oh , yeah . well , you know what i mean ? <continued_utterance> i ' m not gon na do that . <continued_utterance> i don ' t know how to make it .\n",
      "\n",
      "-2.047   oh , yeah . well , you know what i mean ? <continued_utterance> i ' m not gon na do that . <continued_utterance> i don ' t know how to make it . i ' ll be back in the morning .\n",
      "\n",
      "-2.047   i ' m sorry , but it ' s okay . <continued_utterance> you ' re not going to have to do this anymore . we can ' t go out with that .\n",
      "\n",
      "-2.051   what are you talking about ? i ' m not gon na do that . <continued_utterance> i ' m sorry , i ' m just a little tired of being here . i ' ve been thinking about it . <continued_utterance> i ' ll be right in .\n",
      "\n",
      "-2.058   it ' s not like that . you know what i mean , i ' m just a little more than i can do . <continued_utterance> i don ' t want to talk about it . i don ' t know why i ' m doing this .\n",
      "\n",
      "-2.059   yes .\n",
      "\n",
      "-2.065   are you kidding ? <continued_utterance> i ' m sorry . i didn ' t mean to say anything about it . i just wanted to see you . <continued_utterance> you know what i mean ?\n",
      "\n",
      "-2.070   i ' m sorry , but it ' s okay . <continued_utterance> you ' re not going to have to do this anymore . we can ' t go out with that shit .\n",
      "\n",
      "-2.082   oh , yeah . well , you know what i mean ? <continued_utterance> i ' m not gon na do that . <continued_utterance> i don ' t know how to make it . i ' ll be right back .\n",
      "\n",
      "-2.083   are you kidding ? <continued_utterance> i ' m sorry . i didn ' t mean to say anything about it . i just wanted to see you . <continued_utterance> you know what you think ?\n",
      "\n",
      "-2.086   i ' m sorry , but it ' s okay . <continued_utterance> you ' re not going to have to do this anymore . we can ' t go out with that shit !\n",
      "\n",
      "-2.098   oh , yeah . well , you know what i mean ? <continued_utterance> i ' m not gon na do that . <continued_utterance> i don ' t know how to make it up .\n",
      "\n",
      "-2.129   i ' m sorry , but it ' s okay . <continued_utterance> you ' re not going to have to do this anymore . we can ' t go out with that shit . we ' ll be back in the morning .\n",
      "\n",
      "-2.142   are you kidding ? <continued_utterance> i ' m sorry . i didn ' t mean to say anything about it . i just wanted to see you . <continued_utterance> you know what i mean ? i ' ve been thinking about it .\n",
      "\n",
      "-2.154   are you kidding ? <continued_utterance> i ' m sorry . i didn ' t mean to say anything about it . i just wanted to see you . <continued_utterance> you know what i mean ? i ' ve been thinking about it all day .\n",
      "\n",
      "-2.156   i ' m sorry , but it ' s okay . <continued_utterance> you ' re not going to have to do this anymore . we can ' t go out with that shit . we ' ll be back in the same way .\n",
      "\n",
      "-2.158   are you kidding ? <continued_utterance> i ' m sorry . i didn ' t mean to say anything about it . i just wanted to see you . <continued_utterance> you know what i mean ? i ' ve been thinking about it all over the world .\n",
      "\n",
      "-2.167   are you kidding ? <continued_utterance> i ' m sorry . i didn ' t mean to say anything about it . i just wanted to see you . <continued_utterance> you know what i mean ? i ' ve been thinking about it all over the way .\n",
      "\n",
      "-2.170   i ' m sorry , but it ' s okay . <continued_utterance> you ' re not going to have to do this anymore . we can ' t go out with that shit . we ' re all right .\n",
      "\n",
      "-2.206   i ' m sorry , but it ' s okay . <continued_utterance> you ' re not going to have to do this anymore . we can ' t go out with that shit . we ' ll be back in the morning . <continued_utterance> what ?\n",
      "\n"
     ]
    }
   ],
   "source": [
    "beam_size = 20\n",
    "group_size = 2\n",
    "con_init = context_summary(context, lookup)\n",
    "W = L.layers.get_all_param_values(hred_net.train_net)[31]\n",
    "b = L.layers.get_all_param_values(hred_net.train_net)[32]\n",
    "dec_init = np.repeat(np.tanh(con_init.dot(W) + b), beam_size, axis=0)\n",
    "\n",
    "mean = True\n",
    "\n",
    "beamsearch = diverse_beam_search(beam_size, group_size, dec_init, voc_size, hred_net, \n",
    "                                 init_seq=utt_to_array('<s> '.split()), rank_penalty=0, group_diversity_penalty=1, \n",
    "                                 seq_diversity_penalty=1, verbose_log=False)\n",
    "\n",
    "# print print_utt(beamsearch)\n",
    "\n",
    "len_bonus = lambda size: 0#np.log(size)**2\n",
    "\n",
    "def fn_score(x, y, mean=mean, len_bonus=len_bonus):\n",
    "    denom = (x.size - 1) if mean else 1\n",
    "    return (y + len_bonus(x.size)) / denom\n",
    "\n",
    "sort1 = sorted(beamsearch, key=lambda (x,y): fn_score(x, y), reverse=True)\n",
    "sort2 = sorted(beamsearch, key=lambda x: ' '.join(print_utt(x[0][1:-1])))\n",
    "\n",
    "for utt, scr in sort1:\n",
    "    print '{:.3f}  '.format(fn_score(utt, scr)), print_utt(utt[1:-1])\n",
    "    print ''"
   ]
  },
  {
   "cell_type": "code",
   "execution_count": 9,
   "metadata": {
    "collapsed": false,
    "scrolled": false
   },
   "outputs": [
    {
     "name": "stdout",
     "output_type": "stream",
     "text": [
      "<s> you ' re not going to let me die , are you ! ? <person> ' t let me die ! ignoring the <unk> </s>\n",
      "<s> when we start running suck up your breath . you ' re going to get the wind knocked out of you . </s>\n",
      "-1.285   what do you want me to do ?\n",
      "\n",
      "<s> <person> says you have to be like me . </s>\n",
      "<s> he does . </s>\n",
      "-1.357   i don ' t think so .\n",
      "\n",
      "<s> <person> . what ' s your <number> ? </s>\n",
      "<s> reservation . </s>\n",
      "-1.518   where ' d you go ?\n",
      "\n",
      "<s> what the hell ' s going on here ? </s>\n",
      "<s> we ' re in love with your roommate . </s>\n",
      "-1.479   where are you going ?\n",
      "\n",
      "<s> i ' m going to the market . i ' ll be back in a bit . </s>\n",
      "<s> can i go with you ? </s>\n",
      "-1.386   i don ' t want to go home .\n",
      "\n",
      "<s> yes - </s>\n",
      "<s> <person> ! <person> these men ! escort them to the <unk> ! </s>\n",
      "-1.229   yes , sir .\n",
      "\n",
      "<s> sure . </s>\n",
      "<s> you can let me down now . </s>\n",
      "-1.458   why don ' t you just go home ?\n",
      "\n",
      "<s> i don ' t know . </s>\n",
      "<s> we got a <unk> , you know . <person> -- did you hear what i said . ? </s>\n",
      "-0.838   i don ' t know .\n",
      "\n",
      "<s> what ' s this for ? </s>\n",
      "<s> for <unk> , schmuck . bring your kid something . you know . the dad thing . </s>\n",
      "-1.431   what ' s wrong with you ?\n",
      "\n",
      "<s> what ? </s>\n",
      "<s> a <unk> . </s>\n",
      "-1.535   really ? what ' s the matter with you ?\n",
      "\n",
      "<s> <person> . you got any soda ? </s>\n",
      "<s> <unk> slowly , <unk> favor . my <unk> no es bien . </s>\n",
      "-1.437   i don ' t know what you ' re talking about .\n",
      "\n",
      "<s> no . no , i don ' t . </s>\n",
      "<s> i ' m sorry that i frightened you like that . but i was so touched by your concern . i ' ve been lonely here . perhaps we could be friends . </s>\n",
      "-1.269   is that what you ' re talking about ?\n",
      "\n",
      "<s> i have an errand that requires your <unk> talents . </s>\n",
      "<s> i was beginning to think you ' d forgotten me . </s>\n",
      "-1.241   no , i didn ' t .\n",
      "\n",
      "<s> just the home shopping <person> . </s>\n",
      "<s> <person> any <unk> dolls ? </s>\n",
      "-1.538   if you don ' t mind , i ' m not gon na do it .\n",
      "\n",
      "<s> <person> , what the hell are you doing here ? </s>\n",
      "<s> i am not here , ol ' buddy . the cia has absolutely no knowledge of the missing ship , the missing gold , where it was going , or when it left hong kong . </s>\n",
      "-1.248   so what are you doing here ?\n",
      "\n",
      "<s> ok . he fell asleep watching tv . so he lives there now ? </s>\n",
      "<s> yeah . your grandfather is in the early stages of <unk> , <person> . so sometimes he does things and says things that don ' t make sense . </s>\n",
      "-1.357   so what do you mean ?\n",
      "\n",
      "<s> you knew him well ? </s>\n",
      "<s> he was my father . </s>\n",
      "-1.434   where did you find him ?\n",
      "\n",
      "<s> we don ' t serve formula . <unk> . </s>\n",
      "<s> you serve <unk> , <unk> ? </s>\n",
      "-1.268   i don ' t think so .\n",
      "\n",
      "<s> what did you say ? </s>\n",
      "<s> <unk> <person> . she is upstairs in my office for an <unk> deposition . i requested she be put on the case personally . she flew out yesterday . <continued_utterance> no matter . <person> away , mr . <unk> . </s>\n",
      "-1.299   i don ' t know .\n",
      "\n",
      "<s> i ' m gon na have the police check on the house . </s>\n",
      "<s> oh great , `` can you look in on my wife , she ' s hearing voices ? '' <person> ' ll that gets around . </s>\n",
      "-1.439   i don ' t know .\n",
      "\n",
      "<s> no i can ' t . </s>\n",
      "<s> <person>y , it ' s one fuckin ' beer for christ sakes . <person> , the big bad beer ' s gon na get ya . <person>y stares at the beer , <unk> . <unk> i ' m worried about you , man . you better learn to have a pop once in a while or you ' re gon na fall off the wagon . you ' re being a <unk> and that ain ' t healthy . </s>\n",
      "-1.439   i don ' t know .\n",
      "\n",
      "<s> you can work out of the east coast . we ' ll get a place on long island and burn our suitcases . </s>\n",
      "<s> i still like suitcases . </s>\n",
      "-1.579   where ' s the car ?\n",
      "\n",
      "<s> no you weren ' t . </s>\n",
      "<s> i was , you bastard . <continued_utterance> so what ' ve we got today ? </s>\n",
      "-1.151   i don ' t know .\n",
      "\n",
      "<s> <person> to your mom , <person> . all of you get out of here , okay ? i ' ll straighten up before i go and when dr . m . comes home , everything will be exactly the way he likes it . </s>\n",
      "<s> <person> you ' re such a dear . <person> good care , all right ? </s>\n",
      "-1.281   is that what you ' re talking about ?\n",
      "\n",
      "<s> <person> to me , <person> . please . </s>\n",
      "<s> if the weather clears enough before we reach anybody -- i ' m sending you and <person> up to <unk> . </s>\n",
      "-1.386   what do you want me to do ?\n",
      "\n",
      "<s> come back in three days . i ' ll think about it . <continued_utterance> we ' re by appointment only . </s>\n",
      "<s> i received a card from your store . </s>\n",
      "-1.466   i ' m sorry .\n",
      "\n",
      "<s> but not to live . </s>\n",
      "<s> ms . <person> -- you work at a school for <unk> in <unk> , new york . can you tell the members of this committee what exactly you are teaching these <unk> ? </s>\n",
      "-1.324   what do you mean ?\n",
      "\n",
      "<s> <unk> . <unk> . i like this kind of talk . what the hell nonsense is that ? </s>\n",
      "<s> what are you gon na gain from this thing here ? </s>\n",
      "-1.180   what do you mean ?\n",
      "\n",
      "<s> it was slow . now it seems like everyone is having <unk> at home . <continued_utterance> what could have caused this ? i just changed this damn thing . </s>\n",
      "<s> everything these days is made overseas . </s>\n",
      "-1.311   i don ' t know .\n",
      "\n",
      "<s> i got your <unk> , <unk> . <continued_utterance> what you doin ' ? </s>\n",
      "<s> nobody ' s getting in here . you can tell them all that ! </s>\n",
      "-1.413   i don ' t know what to do .\n",
      "\n",
      "<s> <person> -- so you ' re doctor <person> of ' <person> , <person> . ' so ? </s>\n",
      "<s> as i said . this is going to be very difficult -- for both of us . </s>\n",
      "-1.279   what do you mean ?\n",
      "\n",
      "<s> <person> - </s>\n",
      "<s> this is a mistake ! </s>\n",
      "-1.348   do you know what i ' m saying ?\n",
      "\n",
      "<s> i ' m just some guy . a guy whose parole officer is probably having a shit fit right about now . </s>\n",
      "<s> what ? ! <person> officer ? you mean you ' re a criminal ? </s>\n",
      "-1.504   well , you know what i ' m saying ?\n",
      "\n",
      "<s> did you recognize the <unk> bitch who got away ? </s>\n",
      "<s> should i have ? </s>\n",
      "-1.300   of course .\n",
      "\n"
     ]
    }
   ],
   "source": [
    "beam_size = 40\n",
    "group_size = 2\n",
    "\n",
    "for i in xrange(0, 100, 3):\n",
    "    context = map(lambda x: np.array(x, dtype=np.int32)[np.newaxis], test[i:i+2])\n",
    "    lookup = False\n",
    "    for u in context:\n",
    "        print print_utt(u[0])\n",
    "        \n",
    "    con_init = context_summary(context, lookup)\n",
    "    W = L.layers.get_all_param_values(hred_net.train_net)[31]\n",
    "    b = L.layers.get_all_param_values(hred_net.train_net)[32]\n",
    "    dec_init = np.repeat(np.tanh(con_init.dot(W) + b), beam_size, axis=0)\n",
    "\n",
    "    beamsearch = diverse_beam_search(beam_size, group_size, dec_init, voc_size, hred_net,\n",
    "                                     init_seq=utt_to_array('<s> '.split()), )\n",
    "    \n",
    "    len_bonus = lambda size: 0#np.log(size)**2\n",
    "\n",
    "    mean = True\n",
    "        \n",
    "    def fn_score(x, y, mean=mean, len_bonus=len_bonus):\n",
    "        denom = (x.size - 1) if mean else 1\n",
    "        return (y + len_bonus(x.size)) / denom\n",
    "\n",
    "    for utt, scr in sorted(beamsearch, key=lambda (x,y): fn_score(x, y), reverse=True)[:1]:\n",
    "        print '{:.3f}  '.format(fn_score(utt, scr)), print_utt(utt[1:-1])\n",
    "        print ''\n",
    "        \n",
    "# for utt in beamsearch:\n",
    "#     print_utt(utt)\n",
    "#     print ''"
   ]
  },
  {
   "cell_type": "code",
   "execution_count": 10,
   "metadata": {
    "collapsed": false,
    "scrolled": true
   },
   "outputs": [
    {
     "name": "stdout",
     "output_type": "stream",
     "text": [
      "Done 10 batches in 0.86s\ttraining loss:\t7.176166\n",
      "Done 20 batches in 1.69s\ttraining loss:\t6.175796\n",
      "Done 30 batches in 2.44s\ttraining loss:\t5.697121\n",
      "Done 40 batches in 3.47s\ttraining loss:\t5.374195\n",
      "Done 50 batches in 4.27s\ttraining loss:\t5.207509\n",
      "Done 60 batches in 5.11s\ttraining loss:\t5.063584\n",
      "Done 70 batches in 5.92s\ttraining loss:\t4.934647\n",
      "Done 80 batches in 6.69s\ttraining loss:\t4.840843\n"
     ]
    },
    {
     "ename": "KeyboardInterrupt",
     "evalue": "",
     "output_type": "error",
     "traceback": [
      "\u001b[1;31m---------------------------------------------------------------------------\u001b[0m",
      "\u001b[1;31mKeyboardInterrupt\u001b[0m                         Traceback (most recent call last)",
      "\u001b[1;32m<ipython-input-10-e0bc5d556518>\u001b[0m in \u001b[0;36m<module>\u001b[1;34m()\u001b[0m\n\u001b[1;32m----> 1\u001b[1;33m \u001b[0mhred_net\u001b[0m\u001b[1;33m.\u001b[0m\u001b[0mtrain_one_epoch\u001b[0m\u001b[1;33m(\u001b[0m\u001b[0mtrain_subtle2\u001b[0m\u001b[1;33m,\u001b[0m \u001b[1;36m60\u001b[0m\u001b[1;33m)\u001b[0m\u001b[1;33m\u001b[0m\u001b[0m\n\u001b[0m",
      "\u001b[1;32m/home/i258346/Desktop/masters_thesis/rnn_ex/SimpleRNNLM.pyc\u001b[0m in \u001b[0;36mtrain_one_epoch\u001b[1;34m(self, train_data, batch_size, log_interval)\u001b[0m\n\u001b[0;32m    101\u001b[0m \u001b[1;33m\u001b[0m\u001b[0m\n\u001b[0;32m    102\u001b[0m             \u001b[0mnum_batch_words\u001b[0m \u001b[1;33m=\u001b[0m \u001b[0mmask\u001b[0m\u001b[1;33m.\u001b[0m\u001b[0msum\u001b[0m\u001b[1;33m(\u001b[0m\u001b[1;33m)\u001b[0m\u001b[1;33m\u001b[0m\u001b[0m\n\u001b[1;32m--> 103\u001b[1;33m             \u001b[0mtrain_err\u001b[0m \u001b[1;33m+=\u001b[0m \u001b[0mself\u001b[0m\u001b[1;33m.\u001b[0m\u001b[0mtrain_fn\u001b[0m\u001b[1;33m(\u001b[0m\u001b[0minputs\u001b[0m\u001b[1;33m,\u001b[0m \u001b[0mtargets\u001b[0m\u001b[1;33m,\u001b[0m \u001b[0mmask\u001b[0m\u001b[1;33m)\u001b[0m \u001b[1;33m*\u001b[0m \u001b[0mnum_batch_words\u001b[0m\u001b[1;33m\u001b[0m\u001b[0m\n\u001b[0m\u001b[0;32m    104\u001b[0m             \u001b[0mtrain_batches\u001b[0m \u001b[1;33m+=\u001b[0m \u001b[1;36m1\u001b[0m\u001b[1;33m\u001b[0m\u001b[0m\n\u001b[0;32m    105\u001b[0m             \u001b[0mnum_training_words\u001b[0m \u001b[1;33m+=\u001b[0m \u001b[0mnum_batch_words\u001b[0m\u001b[1;33m\u001b[0m\u001b[0m\n",
      "\u001b[1;32m/home/i258346/.local/lib/python2.7/site-packages/theano/compile/function_module.pyc\u001b[0m in \u001b[0;36m__call__\u001b[1;34m(self, *args, **kwargs)\u001b[0m\n\u001b[0;32m    882\u001b[0m         \u001b[1;32mtry\u001b[0m\u001b[1;33m:\u001b[0m\u001b[1;33m\u001b[0m\u001b[0m\n\u001b[0;32m    883\u001b[0m             \u001b[0moutputs\u001b[0m \u001b[1;33m=\u001b[0m\u001b[0;31m\\\u001b[0m\u001b[1;33m\u001b[0m\u001b[0m\n\u001b[1;32m--> 884\u001b[1;33m                 \u001b[0mself\u001b[0m\u001b[1;33m.\u001b[0m\u001b[0mfn\u001b[0m\u001b[1;33m(\u001b[0m\u001b[1;33m)\u001b[0m \u001b[1;32mif\u001b[0m \u001b[0moutput_subset\u001b[0m \u001b[1;32mis\u001b[0m \u001b[0mNone\u001b[0m \u001b[1;32melse\u001b[0m\u001b[0;31m\\\u001b[0m\u001b[1;33m\u001b[0m\u001b[0m\n\u001b[0m\u001b[0;32m    885\u001b[0m                 \u001b[0mself\u001b[0m\u001b[1;33m.\u001b[0m\u001b[0mfn\u001b[0m\u001b[1;33m(\u001b[0m\u001b[0moutput_subset\u001b[0m\u001b[1;33m=\u001b[0m\u001b[0moutput_subset\u001b[0m\u001b[1;33m)\u001b[0m\u001b[1;33m\u001b[0m\u001b[0m\n\u001b[0;32m    886\u001b[0m         \u001b[1;32mexcept\u001b[0m \u001b[0mException\u001b[0m\u001b[1;33m:\u001b[0m\u001b[1;33m\u001b[0m\u001b[0m\n",
      "\u001b[1;32m/home/i258346/.local/lib/python2.7/site-packages/theano/gof/op.pyc\u001b[0m in \u001b[0;36mrval\u001b[1;34m(p, i, o, n)\u001b[0m\n\u001b[0;32m    858\u001b[0m         \u001b[1;32mif\u001b[0m \u001b[0mparams\u001b[0m \u001b[1;32mis\u001b[0m \u001b[0mgraph\u001b[0m\u001b[1;33m.\u001b[0m\u001b[0mNoParams\u001b[0m\u001b[1;33m:\u001b[0m\u001b[1;33m\u001b[0m\u001b[0m\n\u001b[0;32m    859\u001b[0m             \u001b[1;31m# default arguments are stored in the closure of `rval`\u001b[0m\u001b[1;33m\u001b[0m\u001b[1;33m\u001b[0m\u001b[0m\n\u001b[1;32m--> 860\u001b[1;33m             \u001b[1;32mdef\u001b[0m \u001b[0mrval\u001b[0m\u001b[1;33m(\u001b[0m\u001b[0mp\u001b[0m\u001b[1;33m=\u001b[0m\u001b[0mp\u001b[0m\u001b[1;33m,\u001b[0m \u001b[0mi\u001b[0m\u001b[1;33m=\u001b[0m\u001b[0mnode_input_storage\u001b[0m\u001b[1;33m,\u001b[0m \u001b[0mo\u001b[0m\u001b[1;33m=\u001b[0m\u001b[0mnode_output_storage\u001b[0m\u001b[1;33m,\u001b[0m \u001b[0mn\u001b[0m\u001b[1;33m=\u001b[0m\u001b[0mnode\u001b[0m\u001b[1;33m)\u001b[0m\u001b[1;33m:\u001b[0m\u001b[1;33m\u001b[0m\u001b[0m\n\u001b[0m\u001b[0;32m    861\u001b[0m                 \u001b[0mr\u001b[0m \u001b[1;33m=\u001b[0m \u001b[0mp\u001b[0m\u001b[1;33m(\u001b[0m\u001b[0mn\u001b[0m\u001b[1;33m,\u001b[0m \u001b[1;33m[\u001b[0m\u001b[0mx\u001b[0m\u001b[1;33m[\u001b[0m\u001b[1;36m0\u001b[0m\u001b[1;33m]\u001b[0m \u001b[1;32mfor\u001b[0m \u001b[0mx\u001b[0m \u001b[1;32min\u001b[0m \u001b[0mi\u001b[0m\u001b[1;33m]\u001b[0m\u001b[1;33m,\u001b[0m \u001b[0mo\u001b[0m\u001b[1;33m)\u001b[0m\u001b[1;33m\u001b[0m\u001b[0m\n\u001b[0;32m    862\u001b[0m                 \u001b[1;32mfor\u001b[0m \u001b[0mo\u001b[0m \u001b[1;32min\u001b[0m \u001b[0mnode\u001b[0m\u001b[1;33m.\u001b[0m\u001b[0moutputs\u001b[0m\u001b[1;33m:\u001b[0m\u001b[1;33m\u001b[0m\u001b[0m\n",
      "\u001b[1;31mKeyboardInterrupt\u001b[0m: "
     ]
    }
   ],
   "source": [
    "hred_net.train_one_epoch(train_subtle2, 60)"
   ]
  },
  {
   "cell_type": "code",
   "execution_count": 7,
   "metadata": {
    "collapsed": false,
    "scrolled": true
   },
   "outputs": [
    {
     "name": "stdout",
     "output_type": "stream",
     "text": [
      "Done 100 batches in 4.07s\n",
      "Done 200 batches in 8.39s\n",
      "Done 300 batches in 12.95s\n",
      "Done 400 batches in 17.68s\n",
      "Done 500 batches in 21.70s\n",
      "Done 600 batches in 26.34s\n",
      "Done 700 batches in 31.03s\n",
      "Done 800 batches in 35.56s\n",
      "Done 900 batches in 40.01s\n",
      "Done 1000 batches in 44.49s\n",
      "Done 1100 batches in 48.81s\n",
      "Done 1200 batches in 53.21s\n",
      "Done 1300 batches in 57.49s\n",
      "Done 1400 batches in 61.62s\n",
      "Done 1500 batches in 66.13s\n",
      "Done 1600 batches in 70.65s\n",
      "Done 1700 batches in 74.90s\n",
      "Done 1800 batches in 79.24s\n",
      "Done 1900 batches in 83.80s\n",
      "Done 2000 batches in 88.35s\n",
      "Done 2100 batches in 92.88s\n",
      "Done 2200 batches in 97.45s\n",
      "Done 2300 batches in 101.66s\n",
      "Done 2400 batches in 106.09s\n"
     ]
    },
    {
     "data": {
      "text/plain": [
       "3.2819798801888118"
      ]
     },
     "execution_count": 7,
     "metadata": {},
     "output_type": "execute_result"
    }
   ],
   "source": [
    "hred_net.validate(test, 30)"
   ]
  },
  {
   "cell_type": "code",
   "execution_count": 8,
   "metadata": {
    "collapsed": true
   },
   "outputs": [],
   "source": [
    "'''full softmax, bs=30'''\n",
    "# train, 1 dir, 1 epoch: 3.485554076321884\n",
    "# val: 3.455356876018342\n",
    "\n",
    "# train, 2 dir, concat, 1 epoch: 3.4864403798772239\n",
    "# val: 3.4579001751897063\n",
    "\n",
    "# train, 2 dir, L2 + concat, 1 epoch: 3.4881669768474675\n",
    "# val: 3.4584704095551695\n",
    "# training time: ~4700s\n",
    "\n",
    "'''sampled softmax'''\n",
    "# bs=30\n",
    "# train, 2 dir, L2 + concat, 1 epoch: 3.486180601246621\n",
    "# val: 3.4811877499289308\n",
    "# training time: ~2300s\n",
    "\n",
    "# bs=60\n",
    "# train, 2 dir, L2 + concat, 1 epoch: 3.5235153449672456\n",
    "# val: 3.5063306987542759\n",
    "# training time: ~1900s"
   ]
  }
 ],
 "metadata": {
  "anaconda-cloud": {},
  "kernelspec": {
   "display_name": "Python 2",
   "language": "python",
   "name": "python2"
  },
  "language_info": {
   "codemirror_mode": {
    "name": "ipython",
    "version": 2
   },
   "file_extension": ".py",
   "mimetype": "text/x-python",
   "name": "python",
   "nbconvert_exporter": "python",
   "pygments_lexer": "ipython2",
   "version": "2.7.13"
  }
 },
 "nbformat": 4,
 "nbformat_minor": 0
}
