{
 "cells": [
  {
   "cell_type": "code",
   "execution_count": 1,
   "metadata": {
    "collapsed": false
   },
   "outputs": [
    {
     "name": "stderr",
     "output_type": "stream",
     "text": [
      "WARNING (theano.sandbox.cuda): The cuda backend is deprecated and will be removed in the next release (v0.10).  Please switch to the gpuarray backend. You can get more information about how to switch at this URL:\n",
      " https://github.com/Theano/Theano/wiki/Converting-to-the-new-gpu-back-end%28gpuarray%29\n",
      "\n",
      "Using gpu device 0: GeForce GTX 780 (CNMeM is enabled with initial size: 30.0% of memory, cuDNN 5105)\n"
     ]
    }
   ],
   "source": [
    "import json, nltk, io, pickle\n",
    "import numpy as np\n",
    "from itertools import chain\n",
    "\n",
    "from HRED_v2 import HRED"
   ]
  },
  {
   "cell_type": "code",
   "execution_count": 2,
   "metadata": {
    "collapsed": true
   },
   "outputs": [],
   "source": [
    "data = np.load('/pio/data/data/squad/train.pkl')\n",
    "w_to_i = {}\n",
    "idx = 0\n",
    "\n",
    "with io.open('/pio/data/data/squad/wordlist.txt', 'r', encoding='utf-8') as f:\n",
    "    for line in f:\n",
    "        w_to_i[line[:-1]] = idx\n",
    "        idx += 1\n",
    "        \n",
    "i_to_w = {v:k for (k,v) in w_to_i.items()}\n",
    "\n",
    "w_to_i['<pad_value>'] = -1\n",
    "i_to_w[-1] = '<pad_value>'\n",
    "\n",
    "voc_size = len(w_to_i)\n",
    "\n",
    "def get_w(idx):\n",
    "    return i_to_w[idx]"
   ]
  },
  {
   "cell_type": "code",
   "execution_count": 3,
   "metadata": {
    "collapsed": false
   },
   "outputs": [
    {
     "data": {
      "text/plain": [
       "(87599, 86789)"
      ]
     },
     "execution_count": 3,
     "metadata": {},
     "output_type": "execute_result"
    }
   ],
   "source": [
    "def trim_data(data, trim=100):\n",
    "    return [d for d in data if max(map(len, d[1])) <= trim]\n",
    "\n",
    "data_trimmed = trim_data(data)\n",
    "len(data), len(data_trimmed)"
   ]
  },
  {
   "cell_type": "code",
   "execution_count": 4,
   "metadata": {
    "collapsed": false
   },
   "outputs": [
    {
     "name": "stdout",
     "output_type": "stream",
     "text": [
      "Building the model...\n",
      "Compiling theano functions...\n",
      "Done\n"
     ]
    }
   ],
   "source": [
    "hred_net = HRED(voc_size=voc_size,\n",
    "                emb_size=100,\n",
    "                lv1_rec_size=300, \n",
    "                lv2_rec_size=300, \n",
    "                out_emb_size=100)"
   ]
  },
  {
   "cell_type": "code",
   "execution_count": 5,
   "metadata": {
    "collapsed": false,
    "scrolled": true
   },
   "outputs": [
    {
     "data": {
      "text/plain": [
       "[array([ 0.54303432,  0.53078395,  0.499749  ,  0.51067436,  0.51147985,\n",
       "         0.50409448,  0.49557057,  0.49993944,  0.49953365], dtype=float32),\n",
       " array([ 0.51827729,  0.49949208,  0.51738709,  0.50401407,  0.50157839,\n",
       "         0.50367337,  0.51299101,  0.50543135,  0.50714558,  0.51372296,\n",
       "         0.51686668,  0.51427102,  0.48752847,  0.47258207,  0.46597269,\n",
       "         0.47980109], dtype=float32),\n",
       " array([ 0.505162  ,  0.48032287,  0.49906838,  0.49898484,  0.47359842,\n",
       "         0.49529317,  0.48794621,  0.49679899,  0.49610531,  0.50689596,\n",
       "         0.50199521,  0.50135016,  0.50532329,  0.5103032 ,  0.51402503,\n",
       "         0.51320779,  0.51263028,  0.51967037,  0.51594871,  0.51989752,\n",
       "         0.52553964,  0.49501914,  0.50797409,  0.50624341,  0.51008105,\n",
       "         0.5125246 ,  0.51760632,  0.51998937,  0.51627296,  0.51194686], dtype=float32),\n",
       " array([ 0.50041193,  0.47737885,  0.46319419,  0.48196873,  0.47749609,\n",
       "         0.48813593,  0.46737525,  0.48806357,  0.48631111,  0.46495548,\n",
       "         0.48894098,  0.48800313,  0.48729262], dtype=float32),\n",
       " array([ 0.50541818,  0.4996174 ,  0.4722096 ,  0.48742956,  0.48153162,\n",
       "         0.46223649,  0.48448354,  0.48860824,  0.49793658,  0.49415529,\n",
       "         0.50411695,  0.50413728,  0.50488871,  0.50322104,  0.50118297,\n",
       "         0.50664812], dtype=float32),\n",
       " array([ 0.50616091,  0.49196759,  0.49113247,  0.4924174 ,  0.49738923,\n",
       "         0.47588956,  0.49544272,  0.49869266,  0.48094699,  0.49757057,\n",
       "         0.47927925,  0.49769738,  0.46838433,  0.45743462,  0.45281908,\n",
       "         0.4621878 ,  0.47401449,  0.45794445,  0.47469732,  0.47385523,\n",
       "         0.48546544,  0.46018815,  0.45343769,  0.47886282], dtype=float32),\n",
       " array([ 0.49998772,  0.46178871,  0.48025751,  0.47671258,  0.45723546,\n",
       "         0.48646656,  0.49358121,  0.49819729,  0.50174075,  0.47370538,\n",
       "         0.49435151,  0.49183336,  0.49609259,  0.49953005,  0.50523007,\n",
       "         0.50147706,  0.50698549,  0.50736296,  0.51380551,  0.49033409,\n",
       "         0.50603426,  0.51637805,  0.51648265,  0.51622081,  0.51541644,\n",
       "         0.51728791,  0.5180639 ,  0.51584154,  0.51647657,  0.52200818,\n",
       "         0.52780676,  0.52535796,  0.50493377,  0.51252472], dtype=float32)]"
      ]
     },
     "execution_count": 5,
     "metadata": {},
     "output_type": "execute_result"
    }
   ],
   "source": [
    "ans = hred_net.get_output(data[:12], 3)\n",
    "ans[0]"
   ]
  },
  {
   "cell_type": "code",
   "execution_count": null,
   "metadata": {
    "collapsed": true
   },
   "outputs": [],
   "source": [
    "list(chain(*ans[5]))[46]"
   ]
  },
  {
   "cell_type": "code",
   "execution_count": null,
   "metadata": {
    "collapsed": true
   },
   "outputs": [],
   "source": [
    "get_w(list(chain(*data[5][1][1:]))[45])"
   ]
  },
  {
   "cell_type": "code",
   "execution_count": null,
   "metadata": {
    "collapsed": true
   },
   "outputs": [],
   "source": [
    "list(reversed(np.array(list(chain(*ans[8]))).argsort()))"
   ]
  },
  {
   "cell_type": "code",
   "execution_count": null,
   "metadata": {
    "collapsed": true
   },
   "outputs": [],
   "source": [
    "# Zwykły trening nie robił nic: wartości zwracane przez sieć dla zbioru uczącego nie miały żadnego sensu.\n",
    "# Największe prawdopodobieństwa były prawie niezależne od pytania, miało ono mały wpływ na to, co się dzieje.\n",
    "# Dla kosztu weighted_bin_ce mocno skrzywionej w stronę sytuacji t=1 wyszło podobnie.\n",
    "#\n",
    "# Następny krok: użyć zanurzeń GLOVE, dodać cechy z https://arxiv.org/abs/1703.04816"
   ]
  },
  {
   "cell_type": "code",
   "execution_count": 11,
   "metadata": {
    "collapsed": false
   },
   "outputs": [
    {
     "data": {
      "text/plain": [
       "array([ 0,  1,  2,  3,  4,  5,  6,  7,  8,  9, 10, 11, 12, 13, 14, 15, 16,\n",
       "       17, 18, 19, 20, 21, 22, 23, 24, 25, 26, 27])"
      ]
     },
     "execution_count": 11,
     "metadata": {},
     "output_type": "execute_result"
    }
   ],
   "source": [
    "np.arange(30)[slice(0,28)]"
   ]
  },
  {
   "cell_type": "code",
   "execution_count": 6,
   "metadata": {
    "collapsed": false,
    "scrolled": true
   },
   "outputs": [
    {
     "name": "stdout",
     "output_type": "stream",
     "text": [
      "Done 20 batches in 7.96s\ttraining loss:\t0.813393\n",
      "Done 40 batches in 16.89s\ttraining loss:\t0.618499\n",
      "Done 60 batches in 25.51s\ttraining loss:\t0.537964\n",
      "Done 80 batches in 33.72s\ttraining loss:\t0.476587\n",
      "Done 100 batches in 41.79s\ttraining loss:\t0.436442\n",
      "Done 120 batches in 48.56s\ttraining loss:\t0.419979\n",
      "Done 140 batches in 57.10s\ttraining loss:\t0.409618\n",
      "Done 160 batches in 65.07s\ttraining loss:\t0.408088\n",
      "Done 180 batches in 74.05s\ttraining loss:\t0.397444\n",
      "Done 200 batches in 81.68s\ttraining loss:\t0.401948\n",
      "Done 220 batches in 90.27s\ttraining loss:\t0.401396\n",
      "Done 240 batches in 98.95s\ttraining loss:\t0.410639\n",
      "Done 260 batches in 107.43s\ttraining loss:\t0.418680\n",
      "Done 280 batches in 115.18s\ttraining loss:\t0.427639\n",
      "Done 300 batches in 123.33s\ttraining loss:\t0.426674\n",
      "Done 320 batches in 131.00s\ttraining loss:\t0.422292\n",
      "Done 340 batches in 139.84s\ttraining loss:\t0.424456\n",
      "Done 360 batches in 148.91s\ttraining loss:\t0.415105\n",
      "Done 380 batches in 156.67s\ttraining loss:\t0.416838\n",
      "Done 400 batches in 163.90s\ttraining loss:\t0.418870\n",
      "Done 420 batches in 171.42s\ttraining loss:\t0.419026\n",
      "Done 440 batches in 180.23s\ttraining loss:\t0.417331\n",
      "Done 460 batches in 189.66s\ttraining loss:\t0.419791\n",
      "Done 480 batches in 198.85s\ttraining loss:\t0.420404\n",
      "Done 500 batches in 206.97s\ttraining loss:\t0.416177\n",
      "Done 520 batches in 214.49s\ttraining loss:\t0.415342\n",
      "Done 540 batches in 222.22s\ttraining loss:\t0.416872\n",
      "Done 560 batches in 229.79s\ttraining loss:\t0.416093\n",
      "Done 580 batches in 237.12s\ttraining loss:\t0.408871\n",
      "Done 600 batches in 244.83s\ttraining loss:\t0.408386\n",
      "Done 620 batches in 252.93s\ttraining loss:\t0.406717\n",
      "Done 640 batches in 260.90s\ttraining loss:\t0.407531\n",
      "Done 660 batches in 269.79s\ttraining loss:\t0.405836\n",
      "Done 680 batches in 277.40s\ttraining loss:\t0.407107\n",
      "Done 700 batches in 284.92s\ttraining loss:\t0.408122\n",
      "Done 720 batches in 292.42s\ttraining loss:\t0.411832\n",
      "Done 740 batches in 300.17s\ttraining loss:\t0.412702\n",
      "Done 760 batches in 308.85s\ttraining loss:\t0.413090\n",
      "Done 780 batches in 317.01s\ttraining loss:\t0.412683\n",
      "Done 800 batches in 325.79s\ttraining loss:\t0.411818\n",
      "Done 820 batches in 334.14s\ttraining loss:\t0.410459\n",
      "Done 840 batches in 343.48s\ttraining loss:\t0.407757\n",
      "Done 860 batches in 351.91s\ttraining loss:\t0.407190\n",
      "Done 880 batches in 358.82s\ttraining loss:\t0.406966\n",
      "Done 900 batches in 366.59s\ttraining loss:\t0.405027\n",
      "Done 920 batches in 375.56s\ttraining loss:\t0.404316\n",
      "Done 940 batches in 383.60s\ttraining loss:\t0.402061\n",
      "Done 960 batches in 392.46s\ttraining loss:\t0.399332\n",
      "Done 980 batches in 400.47s\ttraining loss:\t0.404043\n",
      "Done 1000 batches in 407.74s\ttraining loss:\t0.409821\n",
      "Done 1020 batches in 415.21s\ttraining loss:\t0.416582\n",
      "Done 1040 batches in 422.79s\ttraining loss:\t0.422596\n",
      "Done 1060 batches in 431.41s\ttraining loss:\t0.423714\n",
      "Done 1080 batches in 439.96s\ttraining loss:\t0.424034\n",
      "Done 1100 batches in 448.43s\ttraining loss:\t0.427439\n",
      "Done 1120 batches in 457.71s\ttraining loss:\t0.429270\n",
      "Done 1140 batches in 466.58s\ttraining loss:\t0.433387\n",
      "Done 1160 batches in 475.75s\ttraining loss:\t0.436254\n",
      "Done 1180 batches in 482.82s\ttraining loss:\t0.441358\n",
      "Done 1200 batches in 491.42s\ttraining loss:\t0.438379\n",
      "Done 1220 batches in 499.96s\ttraining loss:\t0.435319\n",
      "Done 1240 batches in 508.77s\ttraining loss:\t0.434273\n",
      "Done 1260 batches in 517.57s\ttraining loss:\t0.433936\n",
      "Done 1280 batches in 526.22s\ttraining loss:\t0.436965\n",
      "Done 1300 batches in 533.97s\ttraining loss:\t0.438821\n",
      "Done 1320 batches in 541.44s\ttraining loss:\t0.439510\n",
      "Done 1340 batches in 549.06s\ttraining loss:\t0.438974\n",
      "Done 1360 batches in 558.08s\ttraining loss:\t0.437469\n",
      "Done 1380 batches in 566.40s\ttraining loss:\t0.437325\n",
      "Done 1400 batches in 574.89s\ttraining loss:\t0.435750\n",
      "Done 1420 batches in 582.96s\ttraining loss:\t0.433850\n",
      "Done 1440 batches in 590.76s\ttraining loss:\t0.434015\n",
      "Done 1460 batches in 598.12s\ttraining loss:\t0.434544\n",
      "Done 1480 batches in 604.34s\ttraining loss:\t0.434400\n",
      "Done 1500 batches in 611.19s\ttraining loss:\t0.434535\n",
      "Done 1520 batches in 619.96s\ttraining loss:\t0.432634\n",
      "Done 1540 batches in 628.15s\ttraining loss:\t0.431123\n",
      "Done 1560 batches in 636.14s\ttraining loss:\t0.430235\n",
      "Done 1580 batches in 644.25s\ttraining loss:\t0.429545\n",
      "Done 1600 batches in 652.91s\ttraining loss:\t0.429710\n",
      "Done 1620 batches in 659.96s\ttraining loss:\t0.429660\n",
      "Done 1640 batches in 667.16s\ttraining loss:\t0.428866\n",
      "Done 1660 batches in 675.28s\ttraining loss:\t0.425995\n",
      "Done 1680 batches in 683.37s\ttraining loss:\t0.424745\n",
      "Done 1700 batches in 692.16s\ttraining loss:\t0.422782\n",
      "Done 1720 batches in 700.82s\ttraining loss:\t0.423887\n",
      "Done 1740 batches in 709.13s\ttraining loss:\t0.430753\n",
      "Done 1760 batches in 719.00s\ttraining loss:\t0.434818\n",
      "Done 1780 batches in 726.48s\ttraining loss:\t0.441409\n",
      "Done 1800 batches in 734.22s\ttraining loss:\t0.441740\n",
      "Done 1820 batches in 742.53s\ttraining loss:\t0.441645\n",
      "Done 1840 batches in 752.19s\ttraining loss:\t0.441036\n",
      "Done 1860 batches in 760.79s\ttraining loss:\t0.440892\n",
      "Done 1880 batches in 768.95s\ttraining loss:\t0.439639\n",
      "Done 1900 batches in 776.61s\ttraining loss:\t0.439933\n",
      "Done 1920 batches in 784.30s\ttraining loss:\t0.439975\n",
      "Done 1940 batches in 790.83s\ttraining loss:\t0.440051\n",
      "Done 1960 batches in 799.31s\ttraining loss:\t0.439937\n",
      "Done 1980 batches in 807.31s\ttraining loss:\t0.439576\n",
      "Done 2000 batches in 815.80s\ttraining loss:\t0.439899\n",
      "Done 2020 batches in 823.95s\ttraining loss:\t0.441725\n",
      "Done 2040 batches in 832.07s\ttraining loss:\t0.442261\n",
      "Done 2060 batches in 841.26s\ttraining loss:\t0.443953\n",
      "Done 2080 batches in 849.59s\ttraining loss:\t0.445274\n",
      "Done 2100 batches in 857.71s\ttraining loss:\t0.445195\n",
      "Done 2120 batches in 865.53s\ttraining loss:\t0.444672\n",
      "Done 2140 batches in 873.78s\ttraining loss:\t0.443986\n",
      "Done 2160 batches in 882.04s\ttraining loss:\t0.444449\n",
      "Done 2180 batches in 889.96s\ttraining loss:\t0.445268\n",
      "Done 2200 batches in 898.35s\ttraining loss:\t0.445640\n",
      "Done 2220 batches in 905.98s\ttraining loss:\t0.446017\n",
      "Done 2240 batches in 912.56s\ttraining loss:\t0.446291\n",
      "Done 2260 batches in 920.56s\ttraining loss:\t0.444988\n",
      "Done 2280 batches in 929.12s\ttraining loss:\t0.443758\n",
      "Done 2300 batches in 937.52s\ttraining loss:\t0.442648\n",
      "Done 2320 batches in 945.58s\ttraining loss:\t0.442092\n",
      "Done 2340 batches in 953.16s\ttraining loss:\t0.441642\n",
      "Done 2360 batches in 960.39s\ttraining loss:\t0.441188\n",
      "Done 2380 batches in 968.62s\ttraining loss:\t0.440855\n",
      "Done 2400 batches in 976.90s\ttraining loss:\t0.440366\n",
      "Done 2420 batches in 985.54s\ttraining loss:\t0.440122\n",
      "Done 2440 batches in 994.25s\ttraining loss:\t0.439948\n",
      "Done 2460 batches in 1002.95s\ttraining loss:\t0.439623\n",
      "Done 2480 batches in 1011.30s\ttraining loss:\t0.438941\n",
      "Done 2500 batches in 1018.73s\ttraining loss:\t0.438774\n",
      "Done 2520 batches in 1027.22s\ttraining loss:\t0.438608\n",
      "Done 2540 batches in 1034.78s\ttraining loss:\t0.438557\n",
      "Done 2560 batches in 1042.20s\ttraining loss:\t0.438424\n",
      "Done 2580 batches in 1051.12s\ttraining loss:\t0.438551\n",
      "Done 2600 batches in 1058.51s\ttraining loss:\t0.438934\n"
     ]
    },
    {
     "ename": "KeyboardInterrupt",
     "evalue": "",
     "output_type": "error",
     "traceback": [
      "\u001b[1;31m---------------------------------------------------------------------------\u001b[0m",
      "\u001b[1;31mKeyboardInterrupt\u001b[0m                         Traceback (most recent call last)",
      "\u001b[1;32m<ipython-input-6-64ada69a1fb5>\u001b[0m in \u001b[0;36m<module>\u001b[1;34m()\u001b[0m\n\u001b[1;32m----> 1\u001b[1;33m \u001b[0mhred_net\u001b[0m\u001b[1;33m.\u001b[0m\u001b[0mtrain_one_epoch\u001b[0m\u001b[1;33m(\u001b[0m\u001b[0mdata_trimmed\u001b[0m\u001b[1;33m,\u001b[0m \u001b[1;36m5\u001b[0m\u001b[1;33m,\u001b[0m \u001b[0mlog_interval\u001b[0m\u001b[1;33m=\u001b[0m\u001b[1;36m20\u001b[0m\u001b[1;33m)\u001b[0m\u001b[1;33m\u001b[0m\u001b[0m\n\u001b[0m",
      "\u001b[1;32m/pio/scratch/1/i258346/masters_thesis/SQuAD/HRED_v2.py\u001b[0m in \u001b[0;36mtrain_one_epoch\u001b[1;34m(self, train_data, batch_size, log_interval)\u001b[0m\n\u001b[0;32m    131\u001b[0m \u001b[1;33m\u001b[0m\u001b[0m\n\u001b[0;32m    132\u001b[0m             \u001b[0mnum_batch_words\u001b[0m \u001b[1;33m=\u001b[0m \u001b[0minput_mask\u001b[0m\u001b[1;33m.\u001b[0m\u001b[0msum\u001b[0m\u001b[1;33m(\u001b[0m\u001b[1;33m)\u001b[0m\u001b[1;33m\u001b[0m\u001b[0m\n\u001b[1;32m--> 133\u001b[1;33m             \u001b[0mtrain_err\u001b[0m \u001b[1;33m+=\u001b[0m \u001b[0mself\u001b[0m\u001b[1;33m.\u001b[0m\u001b[0mtrain_fn\u001b[0m\u001b[1;33m(\u001b[0m\u001b[0minputs\u001b[0m\u001b[1;33m,\u001b[0m \u001b[0mbin_feat\u001b[0m\u001b[1;33m,\u001b[0m \u001b[0manswers\u001b[0m\u001b[1;33m,\u001b[0m \u001b[0minput_mask\u001b[0m\u001b[1;33m,\u001b[0m \u001b[0mcontext_mask\u001b[0m\u001b[1;33m)\u001b[0m \u001b[1;33m*\u001b[0m \u001b[0mnum_batch_words\u001b[0m\u001b[1;33m\u001b[0m\u001b[0m\n\u001b[0m\u001b[0;32m    134\u001b[0m             \u001b[0mtrain_batches\u001b[0m \u001b[1;33m+=\u001b[0m \u001b[1;36m1\u001b[0m\u001b[1;33m\u001b[0m\u001b[0m\n\u001b[0;32m    135\u001b[0m             \u001b[0mnum_training_words\u001b[0m \u001b[1;33m+=\u001b[0m \u001b[0mnum_batch_words\u001b[0m\u001b[1;33m\u001b[0m\u001b[0m\n",
      "\u001b[1;32m/home/i258346/.local/lib/python2.7/site-packages/theano/compile/function_module.pyc\u001b[0m in \u001b[0;36m__call__\u001b[1;34m(self, *args, **kwargs)\u001b[0m\n\u001b[0;32m    882\u001b[0m         \u001b[1;32mtry\u001b[0m\u001b[1;33m:\u001b[0m\u001b[1;33m\u001b[0m\u001b[0m\n\u001b[0;32m    883\u001b[0m             \u001b[0moutputs\u001b[0m \u001b[1;33m=\u001b[0m\u001b[0;31m\\\u001b[0m\u001b[1;33m\u001b[0m\u001b[0m\n\u001b[1;32m--> 884\u001b[1;33m                 \u001b[0mself\u001b[0m\u001b[1;33m.\u001b[0m\u001b[0mfn\u001b[0m\u001b[1;33m(\u001b[0m\u001b[1;33m)\u001b[0m \u001b[1;32mif\u001b[0m \u001b[0moutput_subset\u001b[0m \u001b[1;32mis\u001b[0m \u001b[0mNone\u001b[0m \u001b[1;32melse\u001b[0m\u001b[0;31m\\\u001b[0m\u001b[1;33m\u001b[0m\u001b[0m\n\u001b[0m\u001b[0;32m    885\u001b[0m                 \u001b[0mself\u001b[0m\u001b[1;33m.\u001b[0m\u001b[0mfn\u001b[0m\u001b[1;33m(\u001b[0m\u001b[0moutput_subset\u001b[0m\u001b[1;33m=\u001b[0m\u001b[0moutput_subset\u001b[0m\u001b[1;33m)\u001b[0m\u001b[1;33m\u001b[0m\u001b[0m\n\u001b[0;32m    886\u001b[0m         \u001b[1;32mexcept\u001b[0m \u001b[0mException\u001b[0m\u001b[1;33m:\u001b[0m\u001b[1;33m\u001b[0m\u001b[0m\n",
      "\u001b[1;32m/home/i258346/.local/lib/python2.7/site-packages/theano/gof/op.pyc\u001b[0m in \u001b[0;36mrval\u001b[1;34m(p, i, o, n)\u001b[0m\n\u001b[0;32m    858\u001b[0m         \u001b[1;32mif\u001b[0m \u001b[0mparams\u001b[0m \u001b[1;32mis\u001b[0m \u001b[0mgraph\u001b[0m\u001b[1;33m.\u001b[0m\u001b[0mNoParams\u001b[0m\u001b[1;33m:\u001b[0m\u001b[1;33m\u001b[0m\u001b[0m\n\u001b[0;32m    859\u001b[0m             \u001b[1;31m# default arguments are stored in the closure of `rval`\u001b[0m\u001b[1;33m\u001b[0m\u001b[1;33m\u001b[0m\u001b[0m\n\u001b[1;32m--> 860\u001b[1;33m             \u001b[1;32mdef\u001b[0m \u001b[0mrval\u001b[0m\u001b[1;33m(\u001b[0m\u001b[0mp\u001b[0m\u001b[1;33m=\u001b[0m\u001b[0mp\u001b[0m\u001b[1;33m,\u001b[0m \u001b[0mi\u001b[0m\u001b[1;33m=\u001b[0m\u001b[0mnode_input_storage\u001b[0m\u001b[1;33m,\u001b[0m \u001b[0mo\u001b[0m\u001b[1;33m=\u001b[0m\u001b[0mnode_output_storage\u001b[0m\u001b[1;33m,\u001b[0m \u001b[0mn\u001b[0m\u001b[1;33m=\u001b[0m\u001b[0mnode\u001b[0m\u001b[1;33m)\u001b[0m\u001b[1;33m:\u001b[0m\u001b[1;33m\u001b[0m\u001b[0m\n\u001b[0m\u001b[0;32m    861\u001b[0m                 \u001b[0mr\u001b[0m \u001b[1;33m=\u001b[0m \u001b[0mp\u001b[0m\u001b[1;33m(\u001b[0m\u001b[0mn\u001b[0m\u001b[1;33m,\u001b[0m \u001b[1;33m[\u001b[0m\u001b[0mx\u001b[0m\u001b[1;33m[\u001b[0m\u001b[1;36m0\u001b[0m\u001b[1;33m]\u001b[0m \u001b[1;32mfor\u001b[0m \u001b[0mx\u001b[0m \u001b[1;32min\u001b[0m \u001b[0mi\u001b[0m\u001b[1;33m]\u001b[0m\u001b[1;33m,\u001b[0m \u001b[0mo\u001b[0m\u001b[1;33m)\u001b[0m\u001b[1;33m\u001b[0m\u001b[0m\n\u001b[0;32m    862\u001b[0m                 \u001b[1;32mfor\u001b[0m \u001b[0mo\u001b[0m \u001b[1;32min\u001b[0m \u001b[0mnode\u001b[0m\u001b[1;33m.\u001b[0m\u001b[0moutputs\u001b[0m\u001b[1;33m:\u001b[0m\u001b[1;33m\u001b[0m\u001b[0m\n",
      "\u001b[1;31mKeyboardInterrupt\u001b[0m: "
     ]
    }
   ],
   "source": [
    "hred_net.train_one_epoch(data_trimmed, 5, log_interval=20) # weighted cost"
   ]
  },
  {
   "cell_type": "code",
   "execution_count": 5,
   "metadata": {
    "collapsed": false,
    "scrolled": true
   },
   "outputs": [
    {
     "name": "stdout",
     "output_type": "stream",
     "text": [
      "Done 20 batches in 2.25s\ttraining loss:\t0.228349\n",
      "Done 40 batches in 5.03s\ttraining loss:\t0.154742\n",
      "Done 60 batches in 7.65s\ttraining loss:\t0.126147\n",
      "Done 80 batches in 10.05s\ttraining loss:\t0.106807\n",
      "Done 100 batches in 12.52s\ttraining loss:\t0.095184\n",
      "Done 120 batches in 14.64s\ttraining loss:\t0.090502\n",
      "Done 140 batches in 17.25s\ttraining loss:\t0.087078\n",
      "Done 160 batches in 19.51s\ttraining loss:\t0.085557\n",
      "Done 180 batches in 22.31s\ttraining loss:\t0.082334\n",
      "Done 200 batches in 24.40s\ttraining loss:\t0.082256\n",
      "Done 220 batches in 26.96s\ttraining loss:\t0.081215\n",
      "Done 240 batches in 29.60s\ttraining loss:\t0.082376\n",
      "Done 260 batches in 32.51s\ttraining loss:\t0.083784\n",
      "Done 280 batches in 34.97s\ttraining loss:\t0.084956\n",
      "Done 300 batches in 37.36s\ttraining loss:\t0.084330\n",
      "Done 320 batches in 39.52s\ttraining loss:\t0.083391\n",
      "Done 340 batches in 42.24s\ttraining loss:\t0.083563\n",
      "Done 360 batches in 44.99s\ttraining loss:\t0.081207\n",
      "Done 380 batches in 47.14s\ttraining loss:\t0.081512\n",
      "Done 400 batches in 49.09s\ttraining loss:\t0.081817\n",
      "Done 420 batches in 51.60s\ttraining loss:\t0.081576\n",
      "Done 440 batches in 54.40s\ttraining loss:\t0.081043\n",
      "Done 460 batches in 57.43s\ttraining loss:\t0.081339\n",
      "Done 480 batches in 60.30s\ttraining loss:\t0.081267\n",
      "Done 500 batches in 62.65s\ttraining loss:\t0.080241\n",
      "Done 520 batches in 64.71s\ttraining loss:\t0.079872\n",
      "Done 540 batches in 66.90s\ttraining loss:\t0.080126\n",
      "Done 560 batches in 69.28s\ttraining loss:\t0.079805\n",
      "Done 580 batches in 71.59s\ttraining loss:\t0.078206\n",
      "Done 600 batches in 73.70s\ttraining loss:\t0.078006\n",
      "Done 620 batches in 76.02s\ttraining loss:\t0.077540\n",
      "Done 640 batches in 78.29s\ttraining loss:\t0.077661\n",
      "Done 660 batches in 81.00s\ttraining loss:\t0.077267\n",
      "Done 680 batches in 83.10s\ttraining loss:\t0.077439\n",
      "Done 700 batches in 85.16s\ttraining loss:\t0.077608\n",
      "Done 720 batches in 87.61s\ttraining loss:\t0.078403\n",
      "Done 740 batches in 90.07s\ttraining loss:\t0.078511\n",
      "Done 760 batches in 92.63s\ttraining loss:\t0.078503\n",
      "Done 780 batches in 94.92s\ttraining loss:\t0.078355\n",
      "Done 800 batches in 97.58s\ttraining loss:\t0.078138\n",
      "Done 820 batches in 100.06s\ttraining loss:\t0.077781\n",
      "Done 840 batches in 103.01s\ttraining loss:\t0.077201\n",
      "Done 860 batches in 105.70s\ttraining loss:\t0.077054\n",
      "Done 880 batches in 107.92s\ttraining loss:\t0.076950\n",
      "Done 900 batches in 110.14s\ttraining loss:\t0.076493\n",
      "Done 920 batches in 112.94s\ttraining loss:\t0.076241\n",
      "Done 940 batches in 115.26s\ttraining loss:\t0.075677\n",
      "Done 960 batches in 117.99s\ttraining loss:\t0.075053\n",
      "Done 980 batches in 120.26s\ttraining loss:\t0.076049\n",
      "Done 1000 batches in 122.23s\ttraining loss:\t0.077339\n",
      "Done 1020 batches in 124.55s\ttraining loss:\t0.078867\n",
      "Done 1040 batches in 127.04s\ttraining loss:\t0.080173\n",
      "Done 1060 batches in 129.60s\ttraining loss:\t0.080350\n",
      "Done 1080 batches in 132.17s\ttraining loss:\t0.080329\n",
      "Done 1100 batches in 134.68s\ttraining loss:\t0.081008\n",
      "Done 1120 batches in 137.63s\ttraining loss:\t0.081333\n",
      "Done 1140 batches in 140.35s\ttraining loss:\t0.082265\n",
      "Done 1160 batches in 143.38s\ttraining loss:\t0.082898\n",
      "Done 1180 batches in 145.65s\ttraining loss:\t0.083972\n",
      "Done 1200 batches in 148.24s\ttraining loss:\t0.083225\n",
      "Done 1220 batches in 150.71s\ttraining loss:\t0.082501\n",
      "Done 1240 batches in 153.33s\ttraining loss:\t0.082238\n",
      "Done 1260 batches in 155.95s\ttraining loss:\t0.082117\n",
      "Done 1280 batches in 158.54s\ttraining loss:\t0.082770\n",
      "Done 1300 batches in 160.68s\ttraining loss:\t0.083157\n",
      "Done 1320 batches in 163.10s\ttraining loss:\t0.083262\n",
      "Done 1340 batches in 165.49s\ttraining loss:\t0.083107\n",
      "Done 1360 batches in 168.28s\ttraining loss:\t0.082768\n",
      "Done 1380 batches in 170.73s\ttraining loss:\t0.082702\n",
      "Done 1400 batches in 173.25s\ttraining loss:\t0.082357\n",
      "Done 1420 batches in 175.58s\ttraining loss:\t0.081953\n",
      "Done 1440 batches in 177.77s\ttraining loss:\t0.082008\n",
      "Done 1460 batches in 179.76s\ttraining loss:\t0.082140\n",
      "Done 1480 batches in 181.61s\ttraining loss:\t0.082130\n",
      "Done 1500 batches in 183.58s\ttraining loss:\t0.082174\n",
      "Done 1520 batches in 186.24s\ttraining loss:\t0.081775\n",
      "Done 1540 batches in 188.61s\ttraining loss:\t0.081439\n",
      "Done 1560 batches in 190.90s\ttraining loss:\t0.081231\n",
      "Done 1580 batches in 193.30s\ttraining loss:\t0.081040\n",
      "Done 1600 batches in 195.93s\ttraining loss:\t0.081032\n",
      "Done 1620 batches in 197.83s\ttraining loss:\t0.081020\n",
      "Done 1640 batches in 200.18s\ttraining loss:\t0.080836\n",
      "Done 1660 batches in 202.61s\ttraining loss:\t0.080271\n",
      "Done 1680 batches in 204.94s\ttraining loss:\t0.080008\n",
      "Done 1700 batches in 207.61s\ttraining loss:\t0.079575\n",
      "Done 1720 batches in 210.23s\ttraining loss:\t0.079748\n",
      "Done 1740 batches in 212.68s\ttraining loss:\t0.081393\n",
      "Done 1760 batches in 215.40s\ttraining loss:\t0.082344\n",
      "Done 1780 batches in 217.83s\ttraining loss:\t0.084007\n",
      "Done 1800 batches in 220.25s\ttraining loss:\t0.083921\n",
      "Done 1820 batches in 222.67s\ttraining loss:\t0.083847\n",
      "Done 1840 batches in 225.76s\ttraining loss:\t0.083691\n",
      "Done 1860 batches in 228.37s\ttraining loss:\t0.083606\n",
      "Done 1880 batches in 230.73s\ttraining loss:\t0.083308\n",
      "Done 1900 batches in 232.90s\ttraining loss:\t0.083360\n",
      "Done 1920 batches in 235.19s\ttraining loss:\t0.083349\n",
      "Done 1940 batches in 237.19s\ttraining loss:\t0.083379\n",
      "Done 1960 batches in 239.77s\ttraining loss:\t0.083347\n",
      "Done 1980 batches in 242.10s\ttraining loss:\t0.083264\n",
      "Done 2000 batches in 244.65s\ttraining loss:\t0.083313\n",
      "Done 2020 batches in 246.98s\ttraining loss:\t0.083742\n",
      "Done 2040 batches in 249.30s\ttraining loss:\t0.083832\n",
      "Done 2060 batches in 252.19s\ttraining loss:\t0.084214\n",
      "Done 2080 batches in 255.02s\ttraining loss:\t0.084517\n",
      "Done 2100 batches in 257.63s\ttraining loss:\t0.084477\n",
      "Done 2120 batches in 259.75s\ttraining loss:\t0.084350\n",
      "Done 2140 batches in 262.12s\ttraining loss:\t0.084199\n",
      "Done 2160 batches in 264.48s\ttraining loss:\t0.084294\n",
      "Done 2180 batches in 266.70s\ttraining loss:\t0.084472\n",
      "Done 2200 batches in 269.17s\ttraining loss:\t0.084553\n",
      "Done 2220 batches in 271.34s\ttraining loss:\t0.084627\n",
      "Done 2240 batches in 273.79s\ttraining loss:\t0.084675\n",
      "Done 2260 batches in 276.32s\ttraining loss:\t0.084386\n",
      "Done 2280 batches in 278.86s\ttraining loss:\t0.084116\n",
      "Done 2300 batches in 281.38s\ttraining loss:\t0.083881\n",
      "Done 2320 batches in 283.70s\ttraining loss:\t0.083758\n",
      "Done 2340 batches in 285.80s\ttraining loss:\t0.083667\n",
      "Done 2360 batches in 287.73s\ttraining loss:\t0.083566\n",
      "Done 2380 batches in 290.19s\ttraining loss:\t0.083491\n",
      "Done 2400 batches in 293.14s\ttraining loss:\t0.083378\n",
      "Done 2420 batches in 295.73s\ttraining loss:\t0.083295\n",
      "Done 2440 batches in 298.31s\ttraining loss:\t0.083252\n",
      "Done 2460 batches in 300.87s\ttraining loss:\t0.083187\n",
      "Done 2480 batches in 303.39s\ttraining loss:\t0.083052\n",
      "Done 2500 batches in 305.45s\ttraining loss:\t0.083019\n",
      "Done 2520 batches in 307.97s\ttraining loss:\t0.082983\n",
      "Done 2540 batches in 310.39s\ttraining loss:\t0.082987\n",
      "Done 2560 batches in 312.73s\ttraining loss:\t0.082951\n",
      "Done 2580 batches in 315.43s\ttraining loss:\t0.082987\n",
      "Done 2600 batches in 317.41s\ttraining loss:\t0.083058\n",
      "Done 2620 batches in 319.94s\ttraining loss:\t0.083174\n",
      "Done 2640 batches in 322.48s\ttraining loss:\t0.083268\n",
      "Done 2660 batches in 324.62s\ttraining loss:\t0.083458\n",
      "Done 2680 batches in 326.73s\ttraining loss:\t0.083409\n",
      "Done 2700 batches in 329.01s\ttraining loss:\t0.083184\n",
      "Done 2720 batches in 331.53s\ttraining loss:\t0.082915\n",
      "Done 2740 batches in 334.17s\ttraining loss:\t0.082666\n",
      "Done 2760 batches in 336.83s\ttraining loss:\t0.082375\n",
      "Done 2780 batches in 339.10s\ttraining loss:\t0.082695\n",
      "Done 2800 batches in 341.49s\ttraining loss:\t0.082578\n",
      "Done 2820 batches in 343.95s\ttraining loss:\t0.082545\n",
      "Done 2840 batches in 346.30s\ttraining loss:\t0.082490\n",
      "Done 2860 batches in 348.47s\ttraining loss:\t0.082513\n",
      "Done 2880 batches in 350.55s\ttraining loss:\t0.082629\n",
      "Done 2900 batches in 352.74s\ttraining loss:\t0.082627\n",
      "Done 2920 batches in 355.22s\ttraining loss:\t0.082777\n",
      "Done 2940 batches in 357.38s\ttraining loss:\t0.082989\n",
      "Done 2960 batches in 360.03s\ttraining loss:\t0.082944\n",
      "Done 2980 batches in 362.65s\ttraining loss:\t0.082840\n",
      "Done 3000 batches in 365.10s\ttraining loss:\t0.082781\n",
      "Done 3020 batches in 367.54s\ttraining loss:\t0.082870\n",
      "Done 3040 batches in 369.62s\ttraining loss:\t0.083219\n",
      "Done 3060 batches in 372.31s\ttraining loss:\t0.083346\n",
      "Done 3080 batches in 374.34s\ttraining loss:\t0.083250\n",
      "Done 3100 batches in 376.43s\ttraining loss:\t0.083245\n",
      "Done 3120 batches in 378.61s\ttraining loss:\t0.083298\n",
      "Done 3140 batches in 380.43s\ttraining loss:\t0.083373\n",
      "Done 3160 batches in 382.61s\ttraining loss:\t0.083474\n",
      "Done 3180 batches in 385.21s\ttraining loss:\t0.083542\n",
      "Done 3200 batches in 387.36s\ttraining loss:\t0.083450\n",
      "Done 3220 batches in 389.75s\ttraining loss:\t0.083319\n",
      "Done 3240 batches in 392.17s\ttraining loss:\t0.083259\n",
      "Done 3260 batches in 394.37s\ttraining loss:\t0.083201\n",
      "Done 3280 batches in 397.29s\ttraining loss:\t0.083164\n",
      "Done 3300 batches in 399.99s\ttraining loss:\t0.083116\n",
      "Done 3320 batches in 402.28s\ttraining loss:\t0.083230\n",
      "Done 3340 batches in 404.82s\ttraining loss:\t0.083286\n",
      "Done 3360 batches in 407.30s\ttraining loss:\t0.083341\n",
      "Done 3380 batches in 409.63s\ttraining loss:\t0.083381\n",
      "Done 3400 batches in 411.81s\ttraining loss:\t0.083656\n",
      "Done 3420 batches in 414.28s\ttraining loss:\t0.083676\n",
      "Done 3440 batches in 416.79s\ttraining loss:\t0.083656\n",
      "Done 3460 batches in 419.58s\ttraining loss:\t0.083481\n",
      "Done 3480 batches in 421.96s\ttraining loss:\t0.083374\n",
      "Done 3500 batches in 424.48s\ttraining loss:\t0.083406\n",
      "Done 3520 batches in 426.69s\ttraining loss:\t0.083517\n",
      "Done 3540 batches in 428.92s\ttraining loss:\t0.083598\n",
      "Done 3560 batches in 431.32s\ttraining loss:\t0.083693\n",
      "Done 3580 batches in 433.80s\ttraining loss:\t0.083768\n",
      "Done 3600 batches in 436.10s\ttraining loss:\t0.083722\n",
      "Done 3620 batches in 438.77s\ttraining loss:\t0.083722\n",
      "Done 3640 batches in 441.50s\ttraining loss:\t0.083669\n",
      "Done 3660 batches in 444.50s\ttraining loss:\t0.083569\n",
      "Done 3680 batches in 447.27s\ttraining loss:\t0.083521\n",
      "Done 3700 batches in 449.57s\ttraining loss:\t0.083480\n",
      "Done 3720 batches in 452.27s\ttraining loss:\t0.083580\n",
      "Done 3740 batches in 454.56s\ttraining loss:\t0.083695\n",
      "Done 3760 batches in 456.78s\ttraining loss:\t0.083617\n",
      "Done 3780 batches in 459.11s\ttraining loss:\t0.083555\n",
      "Done 3800 batches in 461.14s\ttraining loss:\t0.083450\n",
      "Done 3820 batches in 463.86s\ttraining loss:\t0.083416\n",
      "Done 3840 batches in 465.90s\ttraining loss:\t0.083386\n",
      "Done 3860 batches in 468.20s\ttraining loss:\t0.083561\n",
      "Done 3880 batches in 470.61s\ttraining loss:\t0.083721\n",
      "Done 3900 batches in 472.78s\ttraining loss:\t0.083661\n",
      "Done 3920 batches in 475.16s\ttraining loss:\t0.083431\n",
      "Done 3940 batches in 477.57s\ttraining loss:\t0.083281\n",
      "Done 3960 batches in 479.76s\ttraining loss:\t0.083151\n",
      "Done 3980 batches in 481.76s\ttraining loss:\t0.083135\n",
      "Done 4000 batches in 483.84s\ttraining loss:\t0.083099\n",
      "Done 4020 batches in 486.14s\ttraining loss:\t0.083242\n",
      "Done 4040 batches in 488.55s\ttraining loss:\t0.083450\n",
      "Done 4060 batches in 491.19s\ttraining loss:\t0.083640\n",
      "Done 4080 batches in 493.71s\ttraining loss:\t0.083431\n",
      "Done 4100 batches in 496.13s\ttraining loss:\t0.083501\n",
      "Done 4120 batches in 498.46s\ttraining loss:\t0.083661\n",
      "Done 4140 batches in 500.75s\ttraining loss:\t0.083733\n",
      "Done 4160 batches in 503.19s\ttraining loss:\t0.083856\n",
      "Done 4180 batches in 505.25s\ttraining loss:\t0.084116\n",
      "Done 4200 batches in 507.40s\ttraining loss:\t0.084245\n",
      "Done 4220 batches in 509.21s\ttraining loss:\t0.084350\n",
      "Done 4240 batches in 510.99s\ttraining loss:\t0.084466\n",
      "Done 4260 batches in 512.63s\ttraining loss:\t0.084566\n",
      "Done 4280 batches in 514.65s\ttraining loss:\t0.084610\n",
      "Done 4300 batches in 516.76s\ttraining loss:\t0.084608\n",
      "Done 4320 batches in 519.22s\ttraining loss:\t0.084525\n"
     ]
    },
    {
     "ename": "KeyboardInterrupt",
     "evalue": "",
     "output_type": "error",
     "traceback": [
      "\u001b[1;31m---------------------------------------------------------------------------\u001b[0m",
      "\u001b[1;31mKeyboardInterrupt\u001b[0m                         Traceback (most recent call last)",
      "\u001b[1;32m<ipython-input-5-64ada69a1fb5>\u001b[0m in \u001b[0;36m<module>\u001b[1;34m()\u001b[0m\n\u001b[1;32m----> 1\u001b[1;33m \u001b[0mhred_net\u001b[0m\u001b[1;33m.\u001b[0m\u001b[0mtrain_one_epoch\u001b[0m\u001b[1;33m(\u001b[0m\u001b[0mdata_trimmed\u001b[0m\u001b[1;33m,\u001b[0m \u001b[1;36m5\u001b[0m\u001b[1;33m,\u001b[0m \u001b[0mlog_interval\u001b[0m\u001b[1;33m=\u001b[0m\u001b[1;36m20\u001b[0m\u001b[1;33m)\u001b[0m\u001b[1;33m\u001b[0m\u001b[0m\n\u001b[0m",
      "\u001b[1;32m/pio/scratch/1/i258346/masters_thesis/SQuAD/HRED_v2.pyc\u001b[0m in \u001b[0;36mtrain_one_epoch\u001b[1;34m(self, train_data, batch_size, log_interval)\u001b[0m\n\u001b[0;32m    131\u001b[0m \u001b[1;33m\u001b[0m\u001b[0m\n\u001b[0;32m    132\u001b[0m             \u001b[0mnum_batch_words\u001b[0m \u001b[1;33m=\u001b[0m \u001b[0minput_mask\u001b[0m\u001b[1;33m.\u001b[0m\u001b[0msum\u001b[0m\u001b[1;33m(\u001b[0m\u001b[1;33m)\u001b[0m\u001b[1;33m\u001b[0m\u001b[0m\n\u001b[1;32m--> 133\u001b[1;33m             \u001b[0mtrain_err\u001b[0m \u001b[1;33m+=\u001b[0m \u001b[0mself\u001b[0m\u001b[1;33m.\u001b[0m\u001b[0mtrain_fn\u001b[0m\u001b[1;33m(\u001b[0m\u001b[0minputs\u001b[0m\u001b[1;33m,\u001b[0m \u001b[0mbin_feat\u001b[0m\u001b[1;33m,\u001b[0m \u001b[0manswers\u001b[0m\u001b[1;33m,\u001b[0m \u001b[0minput_mask\u001b[0m\u001b[1;33m,\u001b[0m \u001b[0mcontext_mask\u001b[0m\u001b[1;33m)\u001b[0m \u001b[1;33m*\u001b[0m \u001b[0mnum_batch_words\u001b[0m\u001b[1;33m\u001b[0m\u001b[0m\n\u001b[0m\u001b[0;32m    134\u001b[0m             \u001b[0mtrain_batches\u001b[0m \u001b[1;33m+=\u001b[0m \u001b[1;36m1\u001b[0m\u001b[1;33m\u001b[0m\u001b[0m\n\u001b[0;32m    135\u001b[0m             \u001b[0mnum_training_words\u001b[0m \u001b[1;33m+=\u001b[0m \u001b[0mnum_batch_words\u001b[0m\u001b[1;33m\u001b[0m\u001b[0m\n",
      "\u001b[1;32m/home/i258346/.local/lib/python2.7/site-packages/theano/compile/function_module.pyc\u001b[0m in \u001b[0;36m__call__\u001b[1;34m(self, *args, **kwargs)\u001b[0m\n\u001b[0;32m    882\u001b[0m         \u001b[1;32mtry\u001b[0m\u001b[1;33m:\u001b[0m\u001b[1;33m\u001b[0m\u001b[0m\n\u001b[0;32m    883\u001b[0m             \u001b[0moutputs\u001b[0m \u001b[1;33m=\u001b[0m\u001b[0;31m\\\u001b[0m\u001b[1;33m\u001b[0m\u001b[0m\n\u001b[1;32m--> 884\u001b[1;33m                 \u001b[0mself\u001b[0m\u001b[1;33m.\u001b[0m\u001b[0mfn\u001b[0m\u001b[1;33m(\u001b[0m\u001b[1;33m)\u001b[0m \u001b[1;32mif\u001b[0m \u001b[0moutput_subset\u001b[0m \u001b[1;32mis\u001b[0m \u001b[0mNone\u001b[0m \u001b[1;32melse\u001b[0m\u001b[0;31m\\\u001b[0m\u001b[1;33m\u001b[0m\u001b[0m\n\u001b[0m\u001b[0;32m    885\u001b[0m                 \u001b[0mself\u001b[0m\u001b[1;33m.\u001b[0m\u001b[0mfn\u001b[0m\u001b[1;33m(\u001b[0m\u001b[0moutput_subset\u001b[0m\u001b[1;33m=\u001b[0m\u001b[0moutput_subset\u001b[0m\u001b[1;33m)\u001b[0m\u001b[1;33m\u001b[0m\u001b[0m\n\u001b[0;32m    886\u001b[0m         \u001b[1;32mexcept\u001b[0m \u001b[0mException\u001b[0m\u001b[1;33m:\u001b[0m\u001b[1;33m\u001b[0m\u001b[0m\n",
      "\u001b[1;32m/home/i258346/.local/lib/python2.7/site-packages/theano/gof/op.pyc\u001b[0m in \u001b[0;36mrval\u001b[1;34m(p, i, o, n)\u001b[0m\n\u001b[0;32m    858\u001b[0m         \u001b[1;32mif\u001b[0m \u001b[0mparams\u001b[0m \u001b[1;32mis\u001b[0m \u001b[0mgraph\u001b[0m\u001b[1;33m.\u001b[0m\u001b[0mNoParams\u001b[0m\u001b[1;33m:\u001b[0m\u001b[1;33m\u001b[0m\u001b[0m\n\u001b[0;32m    859\u001b[0m             \u001b[1;31m# default arguments are stored in the closure of `rval`\u001b[0m\u001b[1;33m\u001b[0m\u001b[1;33m\u001b[0m\u001b[0m\n\u001b[1;32m--> 860\u001b[1;33m             \u001b[1;32mdef\u001b[0m \u001b[0mrval\u001b[0m\u001b[1;33m(\u001b[0m\u001b[0mp\u001b[0m\u001b[1;33m=\u001b[0m\u001b[0mp\u001b[0m\u001b[1;33m,\u001b[0m \u001b[0mi\u001b[0m\u001b[1;33m=\u001b[0m\u001b[0mnode_input_storage\u001b[0m\u001b[1;33m,\u001b[0m \u001b[0mo\u001b[0m\u001b[1;33m=\u001b[0m\u001b[0mnode_output_storage\u001b[0m\u001b[1;33m,\u001b[0m \u001b[0mn\u001b[0m\u001b[1;33m=\u001b[0m\u001b[0mnode\u001b[0m\u001b[1;33m)\u001b[0m\u001b[1;33m:\u001b[0m\u001b[1;33m\u001b[0m\u001b[0m\n\u001b[0m\u001b[0;32m    861\u001b[0m                 \u001b[0mr\u001b[0m \u001b[1;33m=\u001b[0m \u001b[0mp\u001b[0m\u001b[1;33m(\u001b[0m\u001b[0mn\u001b[0m\u001b[1;33m,\u001b[0m \u001b[1;33m[\u001b[0m\u001b[0mx\u001b[0m\u001b[1;33m[\u001b[0m\u001b[1;36m0\u001b[0m\u001b[1;33m]\u001b[0m \u001b[1;32mfor\u001b[0m \u001b[0mx\u001b[0m \u001b[1;32min\u001b[0m \u001b[0mi\u001b[0m\u001b[1;33m]\u001b[0m\u001b[1;33m,\u001b[0m \u001b[0mo\u001b[0m\u001b[1;33m)\u001b[0m\u001b[1;33m\u001b[0m\u001b[0m\n\u001b[0;32m    862\u001b[0m                 \u001b[1;32mfor\u001b[0m \u001b[0mo\u001b[0m \u001b[1;32min\u001b[0m \u001b[0mnode\u001b[0m\u001b[1;33m.\u001b[0m\u001b[0moutputs\u001b[0m\u001b[1;33m:\u001b[0m\u001b[1;33m\u001b[0m\u001b[0m\n",
      "\u001b[1;31mKeyboardInterrupt\u001b[0m: "
     ]
    }
   ],
   "source": [
    "hred_net.train_one_epoch(data_trimmed, 5, log_interval=20)"
   ]
  },
  {
   "cell_type": "code",
   "execution_count": null,
   "metadata": {
    "collapsed": true
   },
   "outputs": [],
   "source": [
    "hred_net.save_params()"
   ]
  }
 ],
 "metadata": {
  "kernelspec": {
   "display_name": "Python 2",
   "language": "python",
   "name": "python2"
  },
  "language_info": {
   "codemirror_mode": {
    "name": "ipython",
    "version": 2
   },
   "file_extension": ".py",
   "mimetype": "text/x-python",
   "name": "python",
   "nbconvert_exporter": "python",
   "pygments_lexer": "ipython2",
   "version": "2.7.13"
  }
 },
 "nbformat": 4,
 "nbformat_minor": 2
}
