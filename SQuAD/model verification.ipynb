{
 "cells": [
  {
   "cell_type": "code",
   "execution_count": 1,
   "metadata": {},
   "outputs": [
    {
     "name": "stdout",
     "output_type": "stream",
     "text": [
      "floatX == float32\n",
      "device == cuda\n"
     ]
    },
    {
     "name": "stderr",
     "output_type": "stream",
     "text": [
      "Using cuDNN version 5105 on context None\n",
      "Preallocating 906/3020 Mb (0.300000) on cuda\n",
      "Mapped name None to device cuda: GeForce GTX 780 (0000:01:00.0)\n"
     ]
    }
   ],
   "source": [
    "import os\n",
    "os.environ[\"THEANORC\"] = \"~/.theanorc.cuda\"\n",
    "\n",
    "%load_ext autoreload\n",
    "%autoreload 1\n",
    "\n",
    "import numpy as np\n",
    "import lasagne as L\n",
    "\n",
    "%aimport QANet"
   ]
  },
  {
   "cell_type": "code",
   "execution_count": 2,
   "metadata": {
    "collapsed": true
   },
   "outputs": [],
   "source": [
    "glove_path = '/pio/data/data/glove_vec/6B/glove/'\n",
    "glove_embs = np.load(glove_path + 'glove.6B.300d.npy')\n",
    "voc_size = glove_embs.shape[0]"
   ]
  },
  {
   "cell_type": "markdown",
   "metadata": {},
   "source": [
    "# Weryfikacja modeli"
   ]
  },
  {
   "cell_type": "code",
   "execution_count": 6,
   "metadata": {
    "scrolled": true
   },
   "outputs": [
    {
     "name": "stdout",
     "output_type": "stream",
     "text": [
      "Building the model...\n",
      "Compiling theano functions:\n",
      "    get_intermediate_results_fn...\n",
      "    get_start_probs_fn...\n",
      "    get_end_probs_fn...\n",
      "Done\n",
      "CPU times: user 8.04 s, sys: 121 ms, total: 8.16 s\n",
      "Wall time: 8.1 s\n"
     ]
    }
   ],
   "source": [
    "%%time\n",
    "qa_net = QANet.QANet(voc_size=voc_size,\n",
    "                     emb_init=glove_embs,\n",
    "                     train_inds=[],\n",
    "                     skip_train_fn=True,\n",
    "                     prefetch_word_embs=True)"
   ]
  },
  {
   "cell_type": "code",
   "execution_count": 10,
   "metadata": {
    "collapsed": true
   },
   "outputs": [],
   "source": [
    "qa_net.load_params('trained_models/glove_vocab/wiki_negative/charemb_trainNAW_dropout_memory_crashed/charemb_trainNAW_dropout_ep5.npz', glove_embs)"
   ]
  },
  {
   "cell_type": "code",
   "execution_count": 7,
   "metadata": {
    "collapsed": true
   },
   "outputs": [],
   "source": [
    "qa_net.load_params('../../qa_nips/data/charemb_glove_fixed_dropout_ep13.npz', glove_embs)"
   ]
  },
  {
   "cell_type": "code",
   "execution_count": 11,
   "metadata": {
    "collapsed": true
   },
   "outputs": [],
   "source": [
    "qa_net.load_params('trained_models/glove6B/charemb_fixed_dropout4/charemb_fixed_dropout4_ep1.npz', glove_embs)"
   ]
  },
  {
   "cell_type": "code",
   "execution_count": 12,
   "metadata": {},
   "outputs": [
    {
     "name": "stdout",
     "output_type": "stream",
     "text": [
      "Calculating validation f1...\n",
      "Done 2500 examples\n",
      "Done 5000 examples\n",
      "Done 7500 examples\n",
      "Done 10000 examples\n",
      "Predictions done\n",
      "F1:  57.9764627269\n"
     ]
    },
    {
     "data": {
      "text/plain": [
       "57.976462726866906"
      ]
     },
     "execution_count": 12,
     "metadata": {},
     "output_type": "execute_result"
    }
   ],
   "source": [
    "qa_net._calc_dev_f1(0, batch_size=10)"
   ]
  },
  {
   "cell_type": "code",
   "execution_count": 5,
   "metadata": {},
   "outputs": [
    {
     "name": "stdout",
     "output_type": "stream",
     "text": [
      "Calculating validation f1...\n",
      "Done 1000 examples\n",
      "Done 2000 examples\n",
      "Done 3000 examples\n",
      "Done 4000 examples\n",
      "Done 5000 examples\n",
      "Done 6000 examples\n",
      "Done 7000 examples\n",
      "Done 8000 examples\n",
      "Done 9000 examples\n",
      "Done 10000 examples\n",
      "Predictions done\n",
      "F1:  69.5643803522\n"
     ]
    },
    {
     "data": {
      "text/plain": [
       "69.56438035215977"
      ]
     },
     "execution_count": 5,
     "metadata": {},
     "output_type": "execute_result"
    }
   ],
   "source": [
    "qa_net._calc_dev_f1(0)"
   ]
  },
  {
   "cell_type": "code",
   "execution_count": null,
   "metadata": {
    "collapsed": true
   },
   "outputs": [],
   "source": [
    "'''\n",
    "charemb_trainNAW_dropout_memory_crashed/charemb_trainNAW_dropout_ep5.npz\n",
    "    Pos: F1: 68.12   Exact: 58.04\n",
    "    Neg: F1: 60.17   Exact: 51.84\n",
    "    \n",
    "    Classification task:\n",
    "        [[TN=9857  FP= 455]\n",
    "         [FN=1275  TP=9295]]\n",
    "    \n",
    "charemb_glove_fixed_dropout_ep13.npz\n",
    "    Pos: F1: 69.56   Exact: 59.33\n",
    "'''"
   ]
  }
 ],
 "metadata": {
  "kernelspec": {
   "display_name": "Python 2",
   "language": "python",
   "name": "python2"
  },
  "language_info": {
   "codemirror_mode": {
    "name": "ipython",
    "version": 2
   },
   "file_extension": ".py",
   "mimetype": "text/x-python",
   "name": "python",
   "nbconvert_exporter": "python",
   "pygments_lexer": "ipython2",
   "version": "2.7.13"
  }
 },
 "nbformat": 4,
 "nbformat_minor": 2
}
