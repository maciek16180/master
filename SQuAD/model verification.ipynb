{
 "cells": [
  {
   "cell_type": "code",
   "execution_count": 1,
   "metadata": {},
   "outputs": [
    {
     "name": "stderr",
     "output_type": "stream",
     "text": [
      "Using cuDNN version 5105 on context None\n",
      "Preallocating 598/1994 Mb (0.300000) on cuda\n",
      "Mapped name None to device cuda: GeForce GTX 660 (0000:01:00.0)\n"
     ]
    }
   ],
   "source": [
    "import os\n",
    "os.environ[\"THEANORC\"] = \"~/.theanorc.cuda\"\n",
    "\n",
    "%load_ext autoreload\n",
    "%autoreload 1\n",
    "\n",
    "import numpy as np\n",
    "import lasagne as L"
   ]
  },
  {
   "cell_type": "code",
   "execution_count": 2,
   "metadata": {},
   "outputs": [
    {
     "name": "stdout",
     "output_type": "stream",
     "text": [
      "floatX == float32\n",
      "device == cuda\n"
     ]
    }
   ],
   "source": [
    "%aimport QANet"
   ]
  },
  {
   "cell_type": "code",
   "execution_count": 3,
   "metadata": {},
   "outputs": [
    {
     "name": "stdout",
     "output_type": "stream",
     "text": [
      "floatX == float32\n",
      "device == cuda\n"
     ]
    }
   ],
   "source": [
    "%aimport QANet_old"
   ]
  },
  {
   "cell_type": "code",
   "execution_count": 2,
   "metadata": {},
   "outputs": [
    {
     "name": "stdout",
     "output_type": "stream",
     "text": [
      "('floatX ==', 'float32')\n",
      "('device ==', 'cuda')\n"
     ]
    }
   ],
   "source": [
    "import sys\n",
    "sys.path.insert(0, '../../masters_thesis_old/SQuAD/')\n",
    "\n",
    "from QANet import QANet as QANet_orig"
   ]
  },
  {
   "cell_type": "code",
   "execution_count": 3,
   "metadata": {
    "collapsed": true
   },
   "outputs": [],
   "source": [
    "glove_path = '/pio/data/data/glove_vec/6B/glove/'\n",
    "glove_embs = np.load(glove_path + 'glove.6B.300d.npy')\n",
    "voc_size = glove_embs.shape[0]"
   ]
  },
  {
   "cell_type": "markdown",
   "metadata": {},
   "source": [
    "# Weryfikacja modeli"
   ]
  },
  {
   "cell_type": "code",
   "execution_count": 4,
   "metadata": {
    "scrolled": true
   },
   "outputs": [
    {
     "name": "stdout",
     "output_type": "stream",
     "text": [
      "Building the model...\n",
      "Using dropout.\n",
      "Compiling theano functions:\n",
      "    get_intermediate_results_fn...\n",
      "    get_start_probs_fn...\n",
      "    get_end_probs_fn...\n",
      "Done\n",
      "CPU times: user 30.1 s, sys: 392 ms, total: 30.5 s\n",
      "Wall time: 30.9 s\n"
     ]
    }
   ],
   "source": [
    "%%time\n",
    "qa_net = QANet.QANet(voc_size=voc_size,\n",
    "                     emb_init=glove_embs,\n",
    "                     train_inds=[],\n",
    "                     emb_dropout=True,\n",
    "                     skip_train_fn=True,\n",
    "                     prefetch_word_embs=True)"
   ]
  },
  {
   "cell_type": "code",
   "execution_count": 6,
   "metadata": {
    "scrolled": true
   },
   "outputs": [
    {
     "name": "stdout",
     "output_type": "stream",
     "text": [
      "Building the model...\n",
      "Compiling theano functions:\n",
      "    get_start_probs_fn...\n",
      "    get_end_probs_fn...\n",
      "Done\n",
      "CPU times: user 26.9 s, sys: 456 ms, total: 27.3 s\n",
      "Wall time: 30.5 s\n"
     ]
    }
   ],
   "source": [
    "%%time\n",
    "qa_net_old = QANet_old.QANet(voc_size=voc_size,\n",
    "                             emb_init=glove_embs,\n",
    "                             train_inds=[],\n",
    "                             skip_train_fn=True,\n",
    "                             prefetch_word_embs=True)"
   ]
  },
  {
   "cell_type": "code",
   "execution_count": 6,
   "metadata": {
    "scrolled": true
   },
   "outputs": [
    {
     "name": "stdout",
     "output_type": "stream",
     "text": [
      "Building the model...\n",
      "Compiling theano functions:\n",
      "    train_fn...\n",
      "    get_start_probs_fn...\n",
      "    get_end_probs_fn...\n",
      "Done\n",
      "CPU times: user 3min 28s, sys: 4.78 s, total: 3min 33s\n",
      "Wall time: 5min 1s\n"
     ]
    }
   ],
   "source": [
    "%%time\n",
    "qa_net_orig = QANet_orig(voc_size=voc_size,\n",
    "                         alphabet_size=128,\n",
    "                         emb_size=300,\n",
    "                         emb_char_size=20,\n",
    "                         num_emb_char_filters=200,\n",
    "                         rec_size=300,\n",
    "                         emb_init=glove_embs,\n",
    "                         train_inds=[])"
   ]
  },
  {
   "cell_type": "code",
   "execution_count": 10,
   "metadata": {
    "collapsed": true
   },
   "outputs": [],
   "source": [
    "qa_net.load_params('trained_models/glove_vocab/wiki_negative/charemb_trainNAW_dropout_memory_crashed/charemb_trainNAW_dropout_ep5.npz', glove_embs)"
   ]
  },
  {
   "cell_type": "code",
   "execution_count": 7,
   "metadata": {
    "collapsed": true
   },
   "outputs": [],
   "source": [
    "qa_net.load_params('../../qa_nips/data/charemb_glove_fixed_dropout_ep13.npz', glove_embs)"
   ]
  },
  {
   "cell_type": "code",
   "execution_count": null,
   "metadata": {
    "collapsed": true
   },
   "outputs": [],
   "source": [
    "qa_net.load_params('trained_models/glove6B/charemb_fixed_dropout2/charemb_fixed_dropout2_ep3.npz', glove_embs)"
   ]
  },
  {
   "cell_type": "code",
   "execution_count": 11,
   "metadata": {
    "collapsed": true
   },
   "outputs": [],
   "source": [
    "qa_net_old.load_params('trained_models/glove6B/charemb_fixed_dropout2/charemb_fixed_dropout2_ep3.npz', glove_embs)"
   ]
  },
  {
   "cell_type": "code",
   "execution_count": 8,
   "metadata": {
    "collapsed": true
   },
   "outputs": [],
   "source": [
    "qa_net_orig.load_params('trained_models/glove6B/charemb_fixed_dropout2/charemb_fixed_dropout2_ep3.npz', glove_embs)"
   ]
  },
  {
   "cell_type": "code",
   "execution_count": null,
   "metadata": {},
   "outputs": [
    {
     "name": "stdout",
     "output_type": "stream",
     "text": [
      "Calculating validation f1...\n",
      "Done 2500 examples\n",
      "Done 5000 examples\n"
     ]
    }
   ],
   "source": [
    "%%time\n",
    "qa_net._calc_dev_f1(0) # float32, intermediate"
   ]
  },
  {
   "cell_type": "code",
   "execution_count": 9,
   "metadata": {},
   "outputs": [
    {
     "name": "stdout",
     "output_type": "stream",
     "text": [
      "Calculating validation f1...\n",
      "Done 2500 examples\n",
      "Done 5000 examples\n",
      "Done 7500 examples\n",
      "Done 10000 examples\n",
      "Predictions done\n",
      "F1:  59.9639778539\n",
      "CPU times: user 1min 56s, sys: 39.7 s, total: 2min 36s\n",
      "Wall time: 2min 38s\n"
     ]
    },
    {
     "data": {
      "text/plain": [
       "59.963977853901525"
      ]
     },
     "execution_count": 9,
     "metadata": {},
     "output_type": "execute_result"
    }
   ],
   "source": [
    "%%time\n",
    "qa_net._calc_dev_f1(0) # float32, intermediate, broken evaluation (nondeterministic dropout!)"
   ]
  },
  {
   "cell_type": "code",
   "execution_count": 8,
   "metadata": {},
   "outputs": [
    {
     "name": "stdout",
     "output_type": "stream",
     "text": [
      "Calculating validation f1...\n",
      "Done 2500 examples\n",
      "Done 5000 examples\n",
      "Done 7500 examples\n",
      "Done 10000 examples\n",
      "Predictions done\n",
      "F1:  62.6536004484\n",
      "CPU times: user 14min 27s, sys: 18.2 s, total: 14min 46s\n",
      "Wall time: 2min 40s\n"
     ]
    },
    {
     "data": {
      "text/plain": [
       "62.653600448351575"
      ]
     },
     "execution_count": 8,
     "metadata": {},
     "output_type": "execute_result"
    }
   ],
   "source": [
    "%%time\n",
    "qa_net._calc_dev_f1(0) # float64 eye, intermediate"
   ]
  },
  {
   "cell_type": "code",
   "execution_count": 9,
   "metadata": {},
   "outputs": [
    {
     "name": "stdout",
     "output_type": "stream",
     "text": [
      "Calculating validation f1...\n",
      "Done 2500 examples\n",
      "Done 5000 examples\n",
      "Done 7500 examples\n",
      "Done 10000 examples\n",
      "Predictions done\n",
      "F1:  62.5606276977\n",
      "CPU times: user 1min 57s, sys: 2.66 s, total: 1min 59s\n",
      "Wall time: 2min 2s\n"
     ]
    },
    {
     "data": {
      "text/plain": [
       "62.560627697673056"
      ]
     },
     "execution_count": 9,
     "metadata": {},
     "output_type": "execute_result"
    }
   ],
   "source": [
    "%%time\n",
    "qa_net_old._calc_dev_f1(0) # float32, no intermediate"
   ]
  },
  {
   "cell_type": "code",
   "execution_count": 9,
   "metadata": {},
   "outputs": [
    {
     "name": "stdout",
     "output_type": "stream",
     "text": [
      "Calculating validation f1...\n",
      "Done 2500 examples\n",
      "Done 5000 examples\n",
      "Done 7500 examples\n",
      "Done 10000 examples\n",
      "Predictions done\n",
      "F1:  62.6536004484\n",
      "CPU times: user 18min 54s, sys: 23.5 s, total: 19min 18s\n",
      "Wall time: 3min 23s\n"
     ]
    },
    {
     "data": {
      "text/plain": [
       "62.653600448351575"
      ]
     },
     "execution_count": 9,
     "metadata": {},
     "output_type": "execute_result"
    }
   ],
   "source": [
    "%%time\n",
    "qa_net_old._calc_dev_f1(0) # float64 eye, no intermediate"
   ]
  },
  {
   "cell_type": "code",
   "execution_count": 9,
   "metadata": {},
   "outputs": [
    {
     "name": "stdout",
     "output_type": "stream",
     "text": [
      "Calculating validation f1...\n",
      "Done 1000 examples\n",
      "Done 2000 examples\n",
      "Done 3000 examples\n",
      "Done 4000 examples\n",
      "Done 5000 examples\n",
      "Done 6000 examples\n",
      "Done 7000 examples\n",
      "Done 8000 examples\n",
      "Done 9000 examples\n",
      "Done 10000 examples\n",
      "Predictions done\n",
      "F1:  62.6536004484\n",
      "CPU times: user 18min 56s, sys: 24.3 s, total: 19min 20s\n",
      "Wall time: 3min 27s\n"
     ]
    },
    {
     "data": {
      "text/plain": [
       "62.653600448351575"
      ]
     },
     "execution_count": 9,
     "metadata": {},
     "output_type": "execute_result"
    }
   ],
   "source": [
    "%%time\n",
    "qa_net_orig._calc_dev_f1(0)"
   ]
  },
  {
   "cell_type": "code",
   "execution_count": 5,
   "metadata": {},
   "outputs": [
    {
     "name": "stdout",
     "output_type": "stream",
     "text": [
      "Calculating validation f1...\n",
      "Done 1000 examples\n",
      "Done 2000 examples\n",
      "Done 3000 examples\n",
      "Done 4000 examples\n",
      "Done 5000 examples\n",
      "Done 6000 examples\n",
      "Done 7000 examples\n",
      "Done 8000 examples\n",
      "Done 9000 examples\n",
      "Done 10000 examples\n",
      "Predictions done\n",
      "F1:  69.5643803522\n"
     ]
    },
    {
     "data": {
      "text/plain": [
       "69.56438035215977"
      ]
     },
     "execution_count": 5,
     "metadata": {},
     "output_type": "execute_result"
    }
   ],
   "source": [
    "qa_net._calc_dev_f1(0)"
   ]
  },
  {
   "cell_type": "code",
   "execution_count": null,
   "metadata": {
    "collapsed": true
   },
   "outputs": [],
   "source": [
    "'''\n",
    "charemb_trainNAW_dropout_memory_crashed/charemb_trainNAW_dropout_ep5.npz\n",
    "    Pos: F1: 68.12   Exact: 58.04\n",
    "    Neg: F1: 60.17   Exact: 51.84\n",
    "    \n",
    "    Classification task:\n",
    "        [[TN=9857  FP= 455]\n",
    "         [FN=1275  TP=9295]]\n",
    "    \n",
    "charemb_glove_fixed_dropout_ep13.npz\n",
    "    Pos: F1: 69.56   Exact: 59.33\n",
    "'''"
   ]
  }
 ],
 "metadata": {
  "kernelspec": {
   "display_name": "Python 2",
   "language": "python",
   "name": "python2"
  },
  "language_info": {
   "codemirror_mode": {
    "name": "ipython",
    "version": 2
   },
   "file_extension": ".py",
   "mimetype": "text/x-python",
   "name": "python",
   "nbconvert_exporter": "python",
   "pygments_lexer": "ipython2",
   "version": "2.7.13"
  }
 },
 "nbformat": 4,
 "nbformat_minor": 2
}
