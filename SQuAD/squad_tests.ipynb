{
 "cells": [
  {
   "cell_type": "markdown",
   "metadata": {},
   "source": [
    "## QA class\n"
   ]
  },
  {
   "cell_type": "code",
   "execution_count": 338,
   "metadata": {
    "collapsed": false
   },
   "outputs": [],
   "source": [
    "par = u'Phillipps was born on 1 March 1892 in New South Wales, though sources differ on the exact location, ' \\\n",
    "       'which is variously recorded as rural Moree and metropolitan North Sydney. He was the son ' \\\n",
    "       'of William Hargreaves Phillipps, originally of Northumberland, England, and his wife Cecil. After his ' \\\n",
    "       'father died, Phillipps\\' mother took him to live in Perth, Western Australia. Educated at Hale School, ' \\\n",
    "       'he studied to be an accountant and was practising on a pastoral property in the Kimberley when war broke ' \\\n",
    "       'out in 1914.'\n",
    "    \n",
    "q = u'Whose son Roy Phillips was?'"
   ]
  },
  {
   "cell_type": "code",
   "execution_count": 4,
   "metadata": {
    "collapsed": true
   },
   "outputs": [],
   "source": [
    "par = u'In August 2012, the \"Prepare to Die\" edition of Dark Souls was released for Windows, featuring additional '\\\n",
    "      'content previously unavailable to PlayStation 3 and Xbox 360 users. In October 2012, the additional content'\\\n",
    "      ' from the Windows version was released as downloadable content for consoles under the subtitle Artorias of '\\\n",
    "      'the Abyss. Dark Souls takes place in the fictional kingdom of Lordran. Players assume the role of a cursed '\\\n",
    "      'undead character who begins a pilgrimage to discover the fate of his kind.'\n",
    "        \n",
    "q = 'When was Dark Souls released on PC?'"
   ]
  },
  {
   "cell_type": "code",
   "execution_count": 5,
   "metadata": {
    "collapsed": true
   },
   "outputs": [],
   "source": [
    "par = u'Female elk have a short estrus cycle of only a day or two, and matings usually involve a dozen or more ' \\\n",
    "      'attempts. By the autumn of their second year, females can produce one and, very rarely, two offspring, ' \\\n",
    "      'although reproduction is most common when cows weigh at least 200 kilograms (440 lb). The gestation ' \\\n",
    "      'period is 240 to 262 days and the offspring weigh between 15 and 16 kilograms (33 and 35 lb). When the ' \\\n",
    "      'females are near to giving birth, they tend to isolate themselves from the main herd, and will remain ' \\\n",
    "      'isolated until the calf is large enough to escape predators. Calves are born spotted, as is common with ' \\\n",
    "      'many deer species, and they lose their spots by the end of summer. Manchurian wapiti may retain a few ' \\\n",
    "      'orange spots on the back of their summer coats until they are older. After two weeks, calves are able to ' \\\n",
    "      'join the herd, and are fully weaned at two months of age. Elk calves are as large as an adult white-tailed '\\\n",
    "      'deer by the time they are six months old. The offspring will remain with their mothers for almost a year, ' \\\n",
    "      'leaving about the time that the next season\\'s offspring are produced. The gestation period is the same ' \\\n",
    "      'for all subspecies.'\n",
    "\n",
    "q = 'What is the average weight of the elk offspring?'"
   ]
  },
  {
   "cell_type": "code",
   "execution_count": 353,
   "metadata": {
    "collapsed": true
   },
   "outputs": [],
   "source": [
    "par = u'The elk, or wapiti (Cervus canadensis), is one of the largest species within the deer family, Cervidae, '\\\n",
    "       'in the world, and one of the largest land mammals in North America and Eastern Asia. This animal should '\\\n",
    "       'not be confused with the still larger moose (Alces alces) to which the name \"elk\" applies in British '\\\n",
    "       'English and in reference to populations in Eurasia. Apart from the moose, the only other member of the '\\\n",
    "       'deer family to rival the elk in size is the south Asian sambar (Rusa unicolor).'\n",
    "        \n",
    "q = 'What is the largest mammal in North America?'"
   ]
  },
  {
   "cell_type": "code",
   "execution_count": 2,
   "metadata": {
    "collapsed": false
   },
   "outputs": [],
   "source": [
    "from AnswerBot import AnswerBot"
   ]
  },
  {
   "cell_type": "code",
   "execution_count": 3,
   "metadata": {
    "collapsed": false
   },
   "outputs": [
    {
     "name": "stdout",
     "output_type": "stream",
     "text": [
      "Building the model...\n",
      "Compiling theano functions:\n",
      "    get_start_probs_fn...\n",
      "    get_end_probs_fn...\n",
      "Done\n",
      "CPU times: user 14.4 s, sys: 1.27 s, total: 15.7 s\n",
      "Wall time: 14.8 s\n"
     ]
    }
   ],
   "source": [
    "%%time\n",
    "odpowiadacz = AnswerBot(model_file='trained_models/glove_vocab/charemb_all_fixed_ep3.npz')"
   ]
  },
  {
   "cell_type": "code",
   "execution_count": 10,
   "metadata": {
    "collapsed": false
   },
   "outputs": [
    {
     "name": "stdout",
     "output_type": "stream",
     "text": [
      "CPU times: user 4.02 s, sys: 7.95 s, total: 12 s\n",
      "Wall time: 1.93 s\n"
     ]
    },
    {
     "data": {
      "text/plain": [
       "[([u'15', u'and', u'16', u'kilograms'], 0.10005203059304822),\n",
       " ([u'15', u'and', u'16', u'kilograms'], 0.10005205281648931),\n",
       " ([u'15', u'and', u'16', u'kilograms'], 0.10005202584995625),\n",
       " ([u'15', u'and', u'16', u'kilograms'], 0.10005204987499641),\n",
       " ([u'15', u'and', u'16', u'kilograms'], 0.10005205314969606),\n",
       " ([u'15', u'and', u'16', u'kilograms'], 0.10005206598283754),\n",
       " ([u'15', u'and', u'16', u'kilograms'], 0.10005204843034271),\n",
       " ([u'15', u'and', u'16', u'kilograms'], 0.10005203693045178),\n",
       " ([u'15', u'and', u'16', u'kilograms'], 0.10005206975821516),\n",
       " ([u'15', u'and', u'16', u'kilograms'], 0.10005207164070944)]"
      ]
     },
     "execution_count": 10,
     "metadata": {},
     "output_type": "execute_result"
    }
   ],
   "source": [
    "%%time\n",
    "odpowiadacz.get_answers(q, [par]*10, beam=1)"
   ]
  }
 ],
 "metadata": {
  "kernelspec": {
   "display_name": "Python 2",
   "language": "python",
   "name": "python2"
  },
  "language_info": {
   "codemirror_mode": {
    "name": "ipython",
    "version": 2
   },
   "file_extension": ".py",
   "mimetype": "text/x-python",
   "name": "python",
   "nbconvert_exporter": "python",
   "pygments_lexer": "ipython2",
   "version": "2.7.13"
  }
 },
 "nbformat": 4,
 "nbformat_minor": 2
}
