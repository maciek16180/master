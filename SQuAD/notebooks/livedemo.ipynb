{
 "cells": [
  {
   "cell_type": "code",
   "execution_count": 1,
   "metadata": {
    "hideCode": false,
    "hidePrompt": false,
    "scrolled": false
   },
   "outputs": [
    {
     "name": "stdout",
     "output_type": "stream",
     "text": [
      "floatX == float32\n",
      "device == cpu\n",
      "Building the model...\n",
      "Using dropout after wiq calculation.\n",
      "Compiling theano functions:\n",
      "    get_intermediate_results_fn...\n"
     ]
    },
    {
     "name": "stderr",
     "output_type": "stream",
     "text": [
      "WARNING (theano.tensor.blas): We did not find a dynamic library in the library_dir of the library we use for blas. If you use ATLAS, make sure to compile it with dynamics library.\n",
      "WARNING (theano.tensor.blas): We did not find a dynamic library in the library_dir of the library we use for blas. If you use ATLAS, make sure to compile it with dynamics library.\n"
     ]
    },
    {
     "name": "stdout",
     "output_type": "stream",
     "text": [
      "    get_start_probs_fn...\n",
      "    get_end_probs_fn...\n",
      "Done\n",
      "Building the model...\n",
      "Using dropout after wiq calculation.\n",
      "Compiling theano functions:\n",
      "    get_intermediate_results_fn...\n",
      "    get_start_probs_fn...\n",
      "    get_end_probs_fn...\n",
      "Done\n"
     ]
    }
   ],
   "source": [
    "from prepare import ans, ans_neg"
   ]
  },
  {
   "cell_type": "markdown",
   "metadata": {
    "hideCode": false,
    "hidePrompt": false
   },
   "source": [
    "## Pozytywne"
   ]
  },
  {
   "cell_type": "code",
   "execution_count": 2,
   "metadata": {
    "hideCode": false,
    "hidePrompt": false
   },
   "outputs": [
    {
     "name": "stdout",
     "output_type": "stream",
     "text": [
      "The Battle of Grunwald, First Battle of Tannenberg or Battle of Žalgiris, was fought on 15 July 1410 during the Polish–Lithuanian–Teutonic War. The alliance of the Kingdom of Poland and the Grand Duchy of Lithuania, led respectively by King Władysław II Jagiełło (Jogaila) and Grand Duke Vytautas, decisively defeated the German–Prussian Teutonic Knights, led by Grand Master Ulrich von Jungingen.\n"
     ]
    }
   ],
   "source": [
    "x = u\"The Battle of Grunwald, First Battle of Tannenberg or Battle of Žalgiris, was fought on 15 July 1410 during the Polish–Lithuanian–Teutonic War. The alliance of the Kingdom of Poland and the Grand Duchy of Lithuania, led respectively by King Władysław II Jagiełło (Jogaila) and Grand Duke Vytautas, decisively defeated the German–Prussian Teutonic Knights, led by Grand Master Ulrich von Jungingen.\"\n",
    "print x"
   ]
  },
  {
   "cell_type": "code",
   "execution_count": 3,
   "metadata": {
    "hideCode": false,
    "hidePrompt": false
   },
   "outputs": [
    {
     "name": "stdout",
     "output_type": "stream",
     "text": [
      "When was the Battle of Grunwald?\n",
      "15 july 1410 0.948727 \n",
      "\n",
      "Who led German armies?\n",
      "ulrich von jungingen 0.730493 \n",
      "\n",
      "Who fought in Battle of Grunwald?\n",
      "polish – lithuanian – teutonic war 0.353017 \n",
      "\n"
     ]
    }
   ],
   "source": [
    "qs = [\n",
    "    u\"When was the Battle of Grunwald?\",\n",
    "    u\"Who led German armies?\",\n",
    "    u\"Who fought in Battle of Grunwald?\",\n",
    "]\n",
    "\n",
    "ans(qs, x)"
   ]
  },
  {
   "cell_type": "markdown",
   "metadata": {
    "hideCode": false,
    "hidePrompt": false
   },
   "source": [
    "## Negatywne"
   ]
  },
  {
   "cell_type": "code",
   "execution_count": 4,
   "metadata": {
    "hideCode": false,
    "hidePrompt": false
   },
   "outputs": [
    {
     "name": "stdout",
     "output_type": "stream",
     "text": [
      "Elephants are herbivorous and can be found in different habitats including savannahs, forests, deserts, and marshes. They prefer to stay near water. They are considered to be keystone species due to their impact on their environments. Other animals tend to keep their distance from elephants while predators, such as lions, tigers, hyenas, and any wild dogs, usually target only young elephants (or 'calves').\n"
     ]
    }
   ],
   "source": [
    "x = u\"Elephants are herbivorous and can be found in different habitats including savannahs, forests, deserts, and marshes. They prefer to stay near water. They are considered to be keystone species due to their impact on their environments. Other animals tend to keep their distance from elephants while predators, such as lions, tigers, hyenas, and any wild dogs, usually target only young elephants (or 'calves').\"\n",
    "print x"
   ]
  },
  {
   "cell_type": "code",
   "execution_count": 5,
   "metadata": {
    "hideCode": false,
    "hidePrompt": false
   },
   "outputs": [
    {
     "name": "stdout",
     "output_type": "stream",
     "text": [
      "Pozytywne:\n",
      "\n",
      "What do elephants eat?\n",
      "calves 0.508608 \n",
      "\n",
      "How big is an elephant?\n",
      "keystone species 0.56366 \n",
      "\n",
      "Where do lions live?\n",
      "predators 0.487371 \n",
      "\n",
      "\n",
      "Negatywne:\n",
      "\n",
      "What do elephants eat?\n",
      "herbivorous 0.247997 \n",
      "\n",
      "How big is an elephant?\n",
      "<not_a_word> 0.998819 \n",
      "\n",
      "Where do lions live?\n",
      "<not_a_word> 0.733116 \n",
      "\n"
     ]
    }
   ],
   "source": [
    "qs = [\n",
    "    u\"What do elephants eat?\",\n",
    "    u\"How big is an elephant?\",\n",
    "    u\"Where do lions live?\",\n",
    "]\n",
    "\n",
    "print 'Pozytywne:\\n'\n",
    "ans(qs, x)\n",
    "print '\\nNegatywne:\\n'\n",
    "ans_neg(qs, x)"
   ]
  },
  {
   "cell_type": "markdown",
   "metadata": {},
   "source": [
    "## Dodatkowe"
   ]
  },
  {
   "cell_type": "code",
   "execution_count": null,
   "metadata": {
    "hideCode": false,
    "hidePrompt": false
   },
   "outputs": [],
   "source": [
    "x = u\"Napoléon Bonaparte (born 15 August 1769, died 5 May 1821) was a French statesman and military leader who rose to prominence during the French Revolution and led several successful campaigns during the French Revolutionary Wars. As Napoleon, he was Emperor of the French from 1804 until 1814, and again briefly in 1815 during the Hundred Days. Napoleon dominated European and global affairs for more than a decade while leading France against a series of coalitions in the Napoleonic Wars. He won most of these wars and the vast majority of his battles, building a large empire that ruled over continental Europe before its final collapse in 1815. He is considered one of the greatest commanders in history, and his wars and campaigns are studied at military schools worldwide.\"\n",
    "print x"
   ]
  },
  {
   "cell_type": "code",
   "execution_count": null,
   "metadata": {
    "hideCode": false,
    "hidePrompt": false
   },
   "outputs": [],
   "source": [
    "qs = [\n",
    "    \n",
    "]\n",
    "\n",
    "print 'Pozytywne:\\n'\n",
    "ans(qs, x)\n",
    "print '\\nNegatywne:\\n'\n",
    "ans_neg(qs, x)"
   ]
  },
  {
   "cell_type": "code",
   "execution_count": null,
   "metadata": {
    "hideCode": false,
    "hidePrompt": false
   },
   "outputs": [],
   "source": [
    "x = u\"Elephants are herbivorous and can be found in different habitats including savannahs, forests, deserts, and marshes. They prefer to stay near water. They are considered to be keystone species due to their impact on their environments. Other animals tend to keep their distance from elephants while predators, such as lions, tigers, hyenas, and any wild dogs, usually target only young elephants (or 'calves').\"\n",
    "print x"
   ]
  },
  {
   "cell_type": "code",
   "execution_count": null,
   "metadata": {
    "hideCode": false,
    "hidePrompt": false
   },
   "outputs": [],
   "source": [
    "qs = [\n",
    "    u\"Where do elephants live?\",\n",
    "    u\"What are young elephants called?\",\n",
    "    u\"Are elephants attacked by predators?\",\n",
    "]\n",
    "\n",
    "ans(qs, x)"
   ]
  },
  {
   "cell_type": "code",
   "execution_count": null,
   "metadata": {
    "hideCode": false,
    "hidePrompt": false
   },
   "outputs": [],
   "source": [
    "x = u\"Computational Intelligence Research Group is a part of the Institute of Computer Science of the University of Wroclaw. Our research focuses on intelligent approaches to data analysis and developing intelligent decision support systems. It especially concerns evolutionary algorithms and neural networks as well as natural language processing and text mining.\"\n",
    "print x"
   ]
  },
  {
   "cell_type": "code",
   "execution_count": null,
   "metadata": {
    "hideCode": false,
    "hidePrompt": false
   },
   "outputs": [],
   "source": [
    "qs = [\n",
    "    u\"What is the group part of?\",\n",
    "    u\"What is the focus of the group's research?\",\n",
    "]\n",
    "\n",
    "ans(qs, x)"
   ]
  }
 ],
 "metadata": {
  "hide_code_all_hidden": false,
  "kernelspec": {
   "display_name": "Python 2",
   "language": "python",
   "name": "python2"
  },
  "language_info": {
   "codemirror_mode": {
    "name": "ipython",
    "version": 2
   },
   "file_extension": ".py",
   "mimetype": "text/x-python",
   "name": "python",
   "nbconvert_exporter": "python",
   "pygments_lexer": "ipython2",
   "version": "2.7.13"
  }
 },
 "nbformat": 4,
 "nbformat_minor": 2
}
