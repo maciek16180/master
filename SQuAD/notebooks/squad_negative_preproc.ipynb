{
 "cells": [
  {
   "cell_type": "code",
   "execution_count": null,
   "metadata": {
    "collapsed": true
   },
   "outputs": [],
   "source": [
    "import json, nltk, pickle\n",
    "import numpy as np\n",
    "\n",
    "glove_ver = '6B'"
   ]
  },
  {
   "cell_type": "code",
   "execution_count": null,
   "metadata": {
    "collapsed": true
   },
   "outputs": [],
   "source": [
    "wordlist = np.load('/pio/data/data/glove_vec/' + glove_ver + '/glove/glove.' + glove_ver + '.wordlist.pkl')\n",
    "train = np.load('/pio/data/data/squad/glove' + glove_ver + '/train.pkl')\n",
    "train_words = np.load('/pio/data/data/squad/glove' + glove_ver + '/train_words.pkl')\n",
    "train_char = np.load('/pio/data/data/squad/glove' + glove_ver + '/train_char_ascii.pkl')\n",
    "train_bin_feats = np.load('/pio/data/data/squad/glove' + glove_ver + '/train_bin_feats.pkl')"
   ]
  },
  {
   "cell_type": "code",
   "execution_count": null,
   "metadata": {
    "collapsed": true
   },
   "outputs": [],
   "source": [
    "def cut_sentence_with_ans(ans, context):\n",
    "    i, j = min(ans), max(ans)\n",
    "    while i > 0 and context[i-1] != '.':\n",
    "        i -= 1\n",
    "    while context[j] != '.' and j < len(context) - 1:\n",
    "        j += 1\n",
    "    return i, j + 1"
   ]
  },
  {
   "cell_type": "code",
   "execution_count": null,
   "metadata": {
    "collapsed": true
   },
   "outputs": [],
   "source": [
    "NAW_tok = u'<not_a_word>'\n",
    "NAW_idx = wordlist.index(NAW_tok)\n",
    "NAW_chars = [1, 3, 2]"
   ]
  },
  {
   "cell_type": "code",
   "execution_count": null,
   "metadata": {
    "collapsed": true
   },
   "outputs": [],
   "source": [
    "train_new = []\n",
    "train_words_new = []\n",
    "train_char_new = []\n",
    "train_bin_feats_new = []\n",
    "\n",
    "for k in range(len(train)):\n",
    "    if not train_words[k][0]:\n",
    "        continue\n",
    "        \n",
    "    ans = train_words[k][0][0]\n",
    "    i, j = cut_sentence_with_ans(ans, train[k][2])\n",
    "    \n",
    "    new_raw = train[k][2][:i] + train[k][2][j:] + [NAW_tok]\n",
    "    train_new.append([[], train[k][1], new_raw])\n",
    "    \n",
    "    new_words = train_words[k][2][:i] + train_words[k][2][j:] + [NAW_idx]\n",
    "    new_ans = [[len(new_words) - 1]]\n",
    "    train_words_new.append([new_ans, train_words[k][1], new_words])\n",
    "    \n",
    "    new_char = train_char[k][1][:i] + train_char[k][1][j:] + [NAW_chars]\n",
    "    train_char_new.append([train_char[k][0], new_char])\n",
    "    \n",
    "    new_bin_feats = train_bin_feats[k][:i] + train_bin_feats[k][j:] + [False]\n",
    "    train_bin_feats_new.append(new_bin_feats)"
   ]
  },
  {
   "cell_type": "code",
   "execution_count": 12,
   "metadata": {
    "collapsed": true
   },
   "outputs": [],
   "source": [
    "with open('/pio/data/data/squad/glove' + glove_ver + '/squad_negative/train_neg_words.pkl', 'w') as f:\n",
    "    pickle.dump(train_words_new, f)\n",
    "    \n",
    "with open('/pio/data/data/squad/glove' + glove_ver + '/squad_negative/train_neg_char_ascii.pkl', 'w') as f:\n",
    "    pickle.dump(train_char_new, f)\n",
    "    \n",
    "with open('/pio/data/data/squad/glove' + glove_ver + '/squad_negative/train_neg_bin_feats.pkl', 'w') as f:\n",
    "    pickle.dump(train_bin_feats_new, f)\n",
    "    \n",
    "with open('/pio/data/data/squad/glove' + glove_ver + '/squad_negative/train_neg.pkl', 'w') as f:\n",
    "    pickle.dump(train_new, f)"
   ]
  },
  {
   "cell_type": "code",
   "execution_count": null,
   "metadata": {
    "collapsed": true
   },
   "outputs": [],
   "source": [
    "with open('/pio/data/data/squad/glove' + glove_ver + '/squad_negative/train_neg_char_ascii.pkl', 'w') as f:\n",
    "    pickle.dump(train_char_new, f)"
   ]
  }
 ],
 "metadata": {
  "kernelspec": {
   "display_name": "Python 2",
   "language": "python",
   "name": "python2"
  },
  "language_info": {
   "codemirror_mode": {
    "name": "ipython",
    "version": 2
   },
   "file_extension": ".py",
   "mimetype": "text/x-python",
   "name": "python",
   "nbconvert_exporter": "python",
   "pygments_lexer": "ipython2",
   "version": "2.7.13"
  }
 },
 "nbformat": 4,
 "nbformat_minor": 2
}
