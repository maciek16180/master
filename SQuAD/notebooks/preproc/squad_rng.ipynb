{
 "cells": [
  {
   "cell_type": "code",
   "execution_count": 2,
   "metadata": {
    "collapsed": true
   },
   "outputs": [],
   "source": [
    "# verified\n",
    "# w negative_samples/train.squad.random.json sa indeksy losowych akapitow ze squadu dla kazdego pytania\n",
    "\n",
    "import json\n",
    "import sys\n",
    "import os\n",
    "\n",
    "from os.path import join\n",
    "\n",
    "sys.path.append('../..')\n",
    "from squad_tools import load_dict\n",
    "from my_tokenize import tokenize"
   ]
  },
  {
   "cell_type": "code",
   "execution_count": 13,
   "metadata": {},
   "outputs": [],
   "source": [
    "squad_path = '/pio/data/data/squad/'\n",
    "\n",
    "with open(join(squad_path, 'negative_samples', 'train.squad.random.json')) as f:\n",
    "    squad_random_order = json.load(f)\n",
    "    \n",
    "squad_preprocced_path = join(squad_path, 'test')\n",
    "out_path = join(squad_preprocced_path, 'squad_neg_rng')\n",
    "\n",
    "with open(join(squad_preprocced_path, 'train.json')) as f:\n",
    "    orig = json.load(f)\n",
    "with open(join(squad_preprocced_path, 'train_words.json')) as f:\n",
    "    orig_words = json.load(f)\n",
    "with open(join(squad_preprocced_path, 'train_bin_feats.json')) as f:\n",
    "    orig_bin_feats = json.load(f)\n",
    "with open(join(squad_preprocced_path, 'train_char_ascii.json')) as f:\n",
    "    orig_char_ascii = json.load(f)\n",
    "\n",
    "NAW_tok = u'<not_a_word>'\n",
    "NAW_idx = wordlist.index(NAW_tok)\n",
    "NAW_chars = [1, 3, 2]"
   ]
  },
  {
   "cell_type": "code",
   "execution_count": 15,
   "metadata": {},
   "outputs": [],
   "source": [
    "def make_bin_feats(sample):\n",
    "    q, x = sample\n",
    "    qset = set(q)\n",
    "    return [w in qset for w in x]\n",
    "\n",
    "random_train_words = []\n",
    "random_train_bin_feats = []\n",
    "random_train_char_ascii = []\n",
    "\n",
    "for i in range(len(orig_words)):\n",
    "    par_nr = squad_random_order[i]\n",
    "    q = orig_words[i][1]\n",
    "    x = orig_words[par_nr][2] + [NAW_idx]\n",
    "    a = [[len(x) - 1]]\n",
    "    random_train_words.append([a, q, x])\n",
    "    \n",
    "    q_toks = orig[i][1]\n",
    "    x_toks = orig[par_nr][2]\n",
    "    random_train_bin_feats.append(make_bin_feats([q_toks, x_toks]) + [False])\n",
    "    \n",
    "    q_char = orig_char_ascii[i][0]\n",
    "    x_char = orig_char_ascii[par_nr][1] + [[1, 3, 2]]\n",
    "    random_train_char_ascii.append([q_char, x_char])"
   ]
  },
  {
   "cell_type": "code",
   "execution_count": 18,
   "metadata": {},
   "outputs": [],
   "source": [
    "if not os.path.exists(out_path):\n",
    "    os.makedirs(out_path)\n",
    "    \n",
    "with open(join(out_path, 'train_words.json'), 'w') as f:\n",
    "    json.dump(random_train_words, f)\n",
    "\n",
    "with open(join(out_path, 'train_bin_feats.json'), 'w') as f:\n",
    "    json.dump(random_train_bin_feats, f)\n",
    "    \n",
    "with open(join(out_path, 'train_char_ascii.json'), 'w') as f:\n",
    "    json.dump(random_train_char_ascii, f)"
   ]
  }
 ],
 "metadata": {
  "kernelspec": {
   "display_name": "Python 2",
   "language": "python",
   "name": "python2"
  },
  "language_info": {
   "codemirror_mode": {
    "name": "ipython",
    "version": 2
   },
   "file_extension": ".py",
   "mimetype": "text/x-python",
   "name": "python",
   "nbconvert_exporter": "python",
   "pygments_lexer": "ipython2",
   "version": "2.7.13"
  }
 },
 "nbformat": 4,
 "nbformat_minor": 2
}
