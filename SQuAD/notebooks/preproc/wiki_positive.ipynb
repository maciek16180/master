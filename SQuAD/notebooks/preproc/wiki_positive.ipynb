{
 "cells": [
  {
   "cell_type": "code",
   "execution_count": 1,
   "metadata": {
    "collapsed": true
   },
   "outputs": [],
   "source": [
    "# verified\n",
    "\n",
    "import json\n",
    "import sys\n",
    "import os\n",
    "\n",
    "from os.path import join\n",
    "\n",
    "sys.path.append('../..')\n",
    "from squad_tools import load_dict\n",
    "from my_tokenize import tokenize"
   ]
  },
  {
   "cell_type": "code",
   "execution_count": 6,
   "metadata": {
    "collapsed": true
   },
   "outputs": [],
   "source": [
    "squad_path = '/pio/data/data/squad/'\n",
    "\n",
    "with open(join(squad_path, 'negative_samples', 'train.wiki.pos.json')) as f:\n",
    "    wiki_data_pos = json.load(f)\n",
    "    \n",
    "glove_path = '/pio/data/data/glove_vec/6B/glove.6B.300d.txt'\n",
    "squad_preprocced_path = join(squad_path, 'test')\n",
    "out_path = join(squad_preprocced_path, 'wiki_pos')\n",
    "\n",
    "wordlist = load_dict(glove_path)\n",
    "w_to_i = {w : i for i, w in enumerate(wordlist)}\n",
    "\n",
    "NAW_tok = u'<not_a_word>'\n",
    "NAW_idx = wordlist.index(NAW_tok)\n",
    "NAW_chars = [1, 3, 2]\n",
    "\n",
    "lower = True\n",
    "def lower_if_needed(s):\n",
    "    if lower:\n",
    "        s = s.lower()\n",
    "    return s"
   ]
  },
  {
   "cell_type": "code",
   "execution_count": 19,
   "metadata": {},
   "outputs": [],
   "source": [
    "wiki_data_pos_prep = []\n",
    "\n",
    "for d in wiki_data_pos:\n",
    "    q = tokenize(lower_if_needed(d[1]))\n",
    "    x = tokenize(lower_if_needed(d[3]))\n",
    "    ans = [list(range(d[4], d[4] + len(tokenize(d[2]))))]\n",
    "    x.append(NAW_tok)\n",
    "    wiki_data_pos_prep.append([ans, q, x])\n",
    "    \n",
    "wiki_data_pos = wiki_data_pos_prep"
   ]
  },
  {
   "cell_type": "code",
   "execution_count": 23,
   "metadata": {},
   "outputs": [],
   "source": [
    "def get_word_nums(s):\n",
    "    return [w_to_i.get(w, 0) for w in s]\n",
    "\n",
    "wiki_pos_words = []\n",
    "for a, q, x in wiki_data_pos:\n",
    "    q_num = get_word_nums(q)\n",
    "    x_num = get_word_nums(x)\n",
    "    wiki_pos_words.append([a, q_num, x_num])"
   ]
  },
  {
   "cell_type": "code",
   "execution_count": 27,
   "metadata": {},
   "outputs": [],
   "source": [
    "def make_bin_feats(sample):\n",
    "    q, x = sample\n",
    "    qset = set(q)\n",
    "    return [w in qset for w in x]\n",
    "\n",
    "wiki_pos_bin_feats = []\n",
    "\n",
    "for _, q, c in wiki_data_pos:\n",
    "    wiki_pos_bin_feats.append(make_bin_feats([q, c]))"
   ]
  },
  {
   "cell_type": "code",
   "execution_count": 28,
   "metadata": {
    "collapsed": true
   },
   "outputs": [],
   "source": [
    "wiki_pos_ascii_chars = []\n",
    "\n",
    "chars = [unichr(i) for i in range(128)]\n",
    "c_to_i = {chars[i] : i for i in range(128)}\n",
    "\n",
    "def get_char_nums_for_word(w):\n",
    "    return [1] + [c_to_i.get(c, 0) for c in w] + [2]\n",
    "\n",
    "for _, q, x in wiki_data_pos:\n",
    "    q_char = map(get_char_nums_for_word, q)\n",
    "    x_char = map(get_char_nums_for_word, x[:-1]) + [[1, 3, 2]]\n",
    "    wiki_pos_ascii_chars.append([q_char, x_char])"
   ]
  },
  {
   "cell_type": "code",
   "execution_count": 29,
   "metadata": {
    "collapsed": true
   },
   "outputs": [],
   "source": [
    "if not os.path.exists(out_path):\n",
    "    os.makedirs(out_path)\n",
    "    \n",
    "with open(join(out_path, 'train_words.json'), 'w') as f:\n",
    "    json.dump(wiki_pos_words, f)\n",
    "\n",
    "with open(join(out_path, 'train_bin_feats.json'), 'w') as f:\n",
    "    json.dump(wiki_pos_bin_feats, f)\n",
    "    \n",
    "with open(join(out_path, 'train_char_ascii.json'), 'w') as f:\n",
    "    json.dump(wiki_pos_ascii_chars, f)"
   ]
  }
 ],
 "metadata": {
  "kernelspec": {
   "display_name": "Python 2",
   "language": "python",
   "name": "python2"
  },
  "language_info": {
   "codemirror_mode": {
    "name": "ipython",
    "version": 2
   },
   "file_extension": ".py",
   "mimetype": "text/x-python",
   "name": "python",
   "nbconvert_exporter": "python",
   "pygments_lexer": "ipython2",
   "version": "2.7.13"
  }
 },
 "nbformat": 4,
 "nbformat_minor": 2
}
