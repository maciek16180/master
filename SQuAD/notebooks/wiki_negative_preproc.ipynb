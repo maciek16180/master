{
 "cells": [
  {
   "cell_type": "code",
   "execution_count": 1,
   "metadata": {
    "collapsed": true
   },
   "outputs": [],
   "source": [
    "import json, nltk, io, pickle\n",
    "import numpy as np\n",
    "from itertools import chain"
   ]
  },
  {
   "cell_type": "markdown",
   "metadata": {},
   "source": [
    "### Read data"
   ]
  },
  {
   "cell_type": "code",
   "execution_count": 2,
   "metadata": {
    "collapsed": true
   },
   "outputs": [],
   "source": [
    "with open('/pio/data/data/squad/train-v1.1.json') as f:\n",
    "    train = json.load(f)"
   ]
  },
  {
   "cell_type": "code",
   "execution_count": 3,
   "metadata": {
    "collapsed": true
   },
   "outputs": [],
   "source": [
    "with open('/pio/data/data/squad/dev-v1.1.json') as f:\n",
    "    dev = json.load(f)"
   ]
  },
  {
   "cell_type": "markdown",
   "metadata": {},
   "source": [
    "# Preprocess wikipedia negative examples"
   ]
  },
  {
   "cell_type": "markdown",
   "metadata": {},
   "source": [
    "### Choose neg example for (almost) each question"
   ]
  },
  {
   "cell_type": "code",
   "execution_count": null,
   "metadata": {
    "collapsed": true
   },
   "outputs": [],
   "source": [
    "data_simple = []\n",
    "\n",
    "for par in train['data']:    \n",
    "    for con in par['paragraphs']:        \n",
    "        for q in con['qas']:\n",
    "            question = q['question']            \n",
    "            answers = []\n",
    "            \n",
    "            for ans in q['answers']:\n",
    "                text = ans['text']\n",
    "                ans_start = ans['answer_start']\n",
    "                \n",
    "                answers.append((ans_start, text))\n",
    "                \n",
    "            data_simple.append([answers[0][1], question])"
   ]
  },
  {
   "cell_type": "code",
   "execution_count": 169,
   "metadata": {},
   "outputs": [
    {
     "name": "stdout",
     "output_type": "stream",
     "text": [
      "No negative example for question 191\n",
      "No negative example for question 200\n",
      "No negative example for question 458\n",
      "No negative example for question 764\n",
      "No negative example for question 1090\n",
      "No negative example for question 1653\n",
      "No negative example for question 2491\n",
      "No negative example for question 2626\n",
      "No negative example for question 2628\n",
      "No negative example for question 2976\n",
      "No negative example for question 2988\n",
      "No negative example for question 3040\n",
      "No negative example for question 3286\n",
      "No negative example for question 4510\n",
      "No negative example for question 4729\n",
      "No negative example for question 5195\n",
      "No negative example for question 5231\n",
      "No negative example for question 5411\n",
      "No negative example for question 5620\n",
      "No negative example for question 5686\n",
      "No negative example for question 5699\n",
      "No negative example for question 6329\n",
      "No negative example for question 6847\n",
      "No negative example for question 7242\n",
      "No negative example for question 7437\n",
      "No negative example for question 7455\n",
      "No negative example for question 7788\n",
      "No negative example for question 7789\n",
      "No negative example for question 8429\n",
      "No negative example for question 10699\n",
      "No negative example for question 10787\n",
      "No negative example for question 10837\n",
      "No negative example for question 10842\n",
      "No negative example for question 11616\n",
      "No negative example for question 11803\n",
      "No negative example for question 12015\n",
      "No negative example for question 12045\n",
      "No negative example for question 13458\n",
      "No negative example for question 14473\n",
      "No negative example for question 14730\n",
      "No negative example for question 15304\n",
      "No negative example for question 15414\n",
      "No negative example for question 15420\n",
      "No negative example for question 15481\n",
      "No negative example for question 15612\n",
      "No negative example for question 15865\n",
      "No negative example for question 15930\n",
      "No negative example for question 16582\n",
      "No negative example for question 16679\n",
      "No negative example for question 16820\n",
      "No negative example for question 16822\n",
      "No negative example for question 16888\n",
      "No negative example for question 16998\n",
      "No negative example for question 17435\n",
      "No negative example for question 18138\n",
      "No negative example for question 18521\n",
      "No negative example for question 19096\n",
      "No negative example for question 19242\n",
      "No negative example for question 19266\n",
      "No negative example for question 19272\n",
      "No negative example for question 19676\n",
      "No negative example for question 19849\n",
      "No negative example for question 19898\n",
      "No negative example for question 19937\n",
      "No negative example for question 20071\n",
      "No negative example for question 20256\n",
      "No negative example for question 20495\n",
      "No negative example for question 20504\n",
      "No negative example for question 20819\n",
      "No negative example for question 21128\n",
      "No negative example for question 21303\n",
      "No negative example for question 21326\n",
      "No negative example for question 21452\n",
      "No negative example for question 21456\n",
      "No negative example for question 21476\n",
      "No negative example for question 21681\n",
      "No negative example for question 22184\n",
      "No negative example for question 22331\n",
      "No negative example for question 22645\n",
      "No negative example for question 22646\n",
      "No negative example for question 22650\n",
      "No negative example for question 22670\n",
      "No negative example for question 22694\n",
      "No negative example for question 22700\n",
      "No negative example for question 22702\n",
      "No negative example for question 22778\n",
      "No negative example for question 22785\n",
      "No negative example for question 23013\n",
      "No negative example for question 23305\n",
      "No negative example for question 23476\n",
      "No negative example for question 23526\n",
      "No negative example for question 23612\n",
      "No negative example for question 23631\n",
      "No negative example for question 23949\n",
      "No negative example for question 24154\n",
      "No negative example for question 24426\n",
      "No negative example for question 24503\n",
      "No negative example for question 24515\n",
      "No negative example for question 24517\n",
      "No negative example for question 24529\n",
      "No negative example for question 24599\n",
      "No negative example for question 24799\n",
      "No negative example for question 24809\n",
      "No negative example for question 24869\n",
      "No negative example for question 25089\n",
      "No negative example for question 26012\n",
      "No negative example for question 26119\n",
      "No negative example for question 26342\n",
      "No negative example for question 26423\n",
      "No negative example for question 26915\n",
      "No negative example for question 27207\n",
      "No negative example for question 27238\n",
      "No negative example for question 27359\n",
      "No negative example for question 27596\n",
      "No negative example for question 28099\n",
      "No negative example for question 28124\n",
      "No negative example for question 28609\n",
      "No negative example for question 28705\n",
      "No negative example for question 28753\n",
      "No negative example for question 28827\n",
      "No negative example for question 28828\n",
      "No negative example for question 28829\n",
      "No negative example for question 29841\n",
      "No negative example for question 30027\n",
      "No negative example for question 30105\n",
      "No negative example for question 30774\n",
      "No negative example for question 30777\n",
      "No negative example for question 30786\n",
      "No negative example for question 30805\n",
      "No negative example for question 30812\n",
      "No negative example for question 30820\n",
      "No negative example for question 30866\n",
      "No negative example for question 30898\n",
      "No negative example for question 31313\n",
      "No negative example for question 31427\n",
      "No negative example for question 31463\n",
      "No negative example for question 31569\n",
      "No negative example for question 31772\n",
      "No negative example for question 31776\n",
      "No negative example for question 32184\n",
      "No negative example for question 33051\n",
      "No negative example for question 33617\n",
      "No negative example for question 33938\n",
      "No negative example for question 33944\n",
      "No negative example for question 34104\n",
      "No negative example for question 34150\n",
      "No negative example for question 34341\n",
      "No negative example for question 34521\n",
      "No negative example for question 35055\n",
      "No negative example for question 35093\n",
      "No negative example for question 35494\n",
      "No negative example for question 35872\n",
      "No negative example for question 36548\n",
      "No negative example for question 38123\n",
      "No negative example for question 38217\n",
      "No negative example for question 38317\n",
      "No negative example for question 38603\n",
      "No negative example for question 38705\n",
      "No negative example for question 38711\n",
      "No negative example for question 38928\n",
      "No negative example for question 39024\n",
      "No negative example for question 39192\n",
      "No negative example for question 40224\n",
      "No negative example for question 40402\n",
      "No negative example for question 40425\n",
      "No negative example for question 40896\n",
      "No negative example for question 41364\n",
      "No negative example for question 41465\n",
      "No negative example for question 42680\n",
      "No negative example for question 42884\n",
      "No negative example for question 44025\n",
      "No negative example for question 45404\n",
      "No negative example for question 45738\n",
      "No negative example for question 45951\n",
      "No negative example for question 45975\n",
      "No negative example for question 46012\n",
      "No negative example for question 46013\n",
      "No negative example for question 46031\n",
      "No negative example for question 46056\n",
      "No negative example for question 46083\n",
      "No negative example for question 46155\n",
      "No negative example for question 46178\n",
      "No negative example for question 46225\n",
      "No negative example for question 46595\n",
      "No negative example for question 46602\n",
      "No negative example for question 47102\n",
      "No negative example for question 47777\n",
      "No negative example for question 49135\n",
      "No negative example for question 49158\n",
      "No negative example for question 49293\n",
      "No negative example for question 49370\n",
      "No negative example for question 49948\n",
      "No negative example for question 50158\n",
      "No negative example for question 50257\n",
      "No negative example for question 50605\n",
      "No negative example for question 50809\n",
      "No negative example for question 51263\n",
      "No negative example for question 51285\n",
      "No negative example for question 51322\n",
      "No negative example for question 51838\n",
      "No negative example for question 53480\n",
      "No negative example for question 54116\n",
      "No negative example for question 54176\n",
      "No negative example for question 54472\n",
      "No negative example for question 54480\n",
      "No negative example for question 54481\n",
      "No negative example for question 54537\n",
      "No negative example for question 54783\n",
      "No negative example for question 54840\n",
      "No negative example for question 55764\n",
      "No negative example for question 56115\n",
      "No negative example for question 57248\n",
      "No negative example for question 58452\n",
      "No negative example for question 58757\n",
      "No negative example for question 58758\n",
      "No negative example for question 59779\n",
      "No negative example for question 60525\n",
      "No negative example for question 61199\n",
      "No negative example for question 61905\n",
      "No negative example for question 62107\n",
      "No negative example for question 62699\n",
      "No negative example for question 62944\n",
      "No negative example for question 62956\n",
      "No negative example for question 63004\n",
      "No negative example for question 63030\n",
      "No negative example for question 63168\n",
      "No negative example for question 63238\n",
      "No negative example for question 63307\n",
      "No negative example for question 63717\n",
      "No negative example for question 64015\n",
      "No negative example for question 64027\n",
      "No negative example for question 64166\n",
      "No negative example for question 64469\n",
      "No negative example for question 64599\n",
      "No negative example for question 64791\n",
      "No negative example for question 64796\n",
      "No negative example for question 64962\n",
      "No negative example for question 65830\n",
      "No negative example for question 66199\n",
      "No negative example for question 66653\n",
      "No negative example for question 67443\n",
      "No negative example for question 67455\n",
      "No negative example for question 67457\n",
      "No negative example for question 67579\n",
      "No negative example for question 67794\n",
      "No negative example for question 68217\n",
      "No negative example for question 68719\n",
      "No negative example for question 69482\n",
      "No negative example for question 69494\n",
      "No negative example for question 69522\n",
      "No negative example for question 69946\n",
      "No negative example for question 70082\n",
      "No negative example for question 70771\n",
      "No negative example for question 70870\n",
      "No negative example for question 70912\n",
      "No negative example for question 71212\n",
      "No negative example for question 71268\n",
      "No negative example for question 71324\n",
      "No negative example for question 71353\n",
      "No negative example for question 72092\n",
      "No negative example for question 72093\n",
      "No negative example for question 72489\n",
      "No negative example for question 74443\n",
      "No negative example for question 74533\n",
      "No negative example for question 74866\n",
      "No negative example for question 74964\n",
      "No negative example for question 76525\n",
      "No negative example for question 76597\n",
      "No negative example for question 77110\n",
      "No negative example for question 77396\n",
      "No negative example for question 77604\n",
      "No negative example for question 77979\n",
      "No negative example for question 78628\n",
      "No negative example for question 78652\n",
      "No negative example for question 78657\n",
      "No negative example for question 78678\n",
      "No negative example for question 79213\n",
      "No negative example for question 79324\n",
      "No negative example for question 79405\n",
      "No negative example for question 79547\n",
      "No negative example for question 79611\n",
      "No negative example for question 79710\n",
      "No negative example for question 80396\n",
      "No negative example for question 80570\n",
      "No negative example for question 81534\n",
      "No negative example for question 81896\n",
      "No negative example for question 82155\n",
      "No negative example for question 82449\n",
      "No negative example for question 82507\n",
      "No negative example for question 82569\n",
      "No negative example for question 82694\n",
      "No negative example for question 82730\n",
      "No negative example for question 82821\n",
      "No negative example for question 83115\n",
      "No negative example for question 83195\n",
      "No negative example for question 83562\n",
      "No negative example for question 84546\n",
      "No negative example for question 85284\n",
      "No negative example for question 85285\n",
      "No negative example for question 85340\n",
      "No negative example for question 85341\n",
      "No negative example for question 85342\n",
      "No negative example for question 85345\n",
      "No negative example for question 86147\n",
      "No negative example for question 86200\n",
      "No negative example for question 86606\n",
      "No negative example for question 86734\n",
      "No negative example for question 86735\n",
      "No negative example for question 87353\n"
     ]
    }
   ],
   "source": [
    "data_neg = []\n",
    "\n",
    "for i in xrange(len(data_simple)):\n",
    "    a, q = data_simple[i]\n",
    "    found = False\n",
    "    for _, p, _ in wiki_pars[i]:\n",
    "        p = p.decode('utf8')\n",
    "        if a not in p:\n",
    "            found = True\n",
    "            data_neg.append([i, q, p])\n",
    "            break\n",
    "    if not found and wiki_pars[i]:\n",
    "        print \"No negative example for question\", i"
   ]
  },
  {
   "cell_type": "code",
   "execution_count": 103,
   "metadata": {},
   "outputs": [
    {
     "data": {
      "text/plain": [
       "(84882, 87599)"
      ]
     },
     "execution_count": 103,
     "metadata": {},
     "output_type": "execute_result"
    }
   ],
   "source": [
    "len(data_neg), len(data_simple)"
   ]
  },
  {
   "cell_type": "code",
   "execution_count": 143,
   "metadata": {
    "collapsed": true
   },
   "outputs": [],
   "source": [
    "with open('/pio/data/data/squad/wiki_negative_train/negative_paragraphs.pkl', 'w') as f:\n",
    "    pickle.dump(data_neg, f)"
   ]
  },
  {
   "cell_type": "markdown",
   "metadata": {},
   "source": [
    "### Create pkls for negative examples"
   ]
  },
  {
   "cell_type": "code",
   "execution_count": 146,
   "metadata": {
    "collapsed": true
   },
   "outputs": [],
   "source": [
    "from nltk import word_tokenize"
   ]
  },
  {
   "cell_type": "code",
   "execution_count": 171,
   "metadata": {
    "collapsed": true
   },
   "outputs": [],
   "source": [
    "for i in xrange(len(data_neg)):\n",
    "    data_neg[i][1] = map(lower, word_tokenize(data_neg[i][1]))\n",
    "    data_neg[i][2] = map(lower, word_tokenize(data_neg[i][2]))"
   ]
  },
  {
   "cell_type": "code",
   "execution_count": 172,
   "metadata": {
    "collapsed": true
   },
   "outputs": [],
   "source": [
    "for i in xrange(len(data_neg)):\n",
    "    data_neg[i][2].append(not_a_word)"
   ]
  },
  {
   "cell_type": "code",
   "execution_count": 173,
   "metadata": {
    "collapsed": true
   },
   "outputs": [],
   "source": [
    "for i in xrange(len(data_neg)):\n",
    "    data_neg[i][0] = [[len(data_neg[i][2]) - 1]]"
   ]
  },
  {
   "cell_type": "code",
   "execution_count": 174,
   "metadata": {
    "collapsed": true
   },
   "outputs": [],
   "source": [
    "train_wiki_neg_bin_feats = []\n",
    "\n",
    "for _, q, c in data_neg:\n",
    "    train_wiki_neg_bin_feats.append(make_bin_feats([q, c]))"
   ]
  },
  {
   "cell_type": "code",
   "execution_count": 179,
   "metadata": {
    "collapsed": true
   },
   "outputs": [],
   "source": [
    "train_wiki_neg_ascii_chars = []\n",
    "\n",
    "chars = [unichr(i) for i in xrange(128)]\n",
    "i_to_c = chars\n",
    "c_to_i = {v:k for (k,v) in list(enumerate(chars))}\n",
    "\n",
    "for _, q, x in data_neg:\n",
    "    q_char = [[1] + [c_to_i.get(c, 0) for c in w] + [2] for w in q]\n",
    "    x_char = [[1] + [c_to_i.get(c, 0) for c in w] + [2] for w in x[:-1]] + [[1, 3, 2]]\n",
    "    train_wiki_neg_ascii_chars.append([q_char, x_char])"
   ]
  },
  {
   "cell_type": "code",
   "execution_count": 192,
   "metadata": {
    "collapsed": true
   },
   "outputs": [],
   "source": [
    "with open('/pio/data/data/squad/wiki_negative_train/train_neg_bin_feats.pkl', 'w') as f:\n",
    "    pickle.dump(train_wiki_neg_bin_feats, f)\n",
    "    \n",
    "with open('/pio/data/data/squad/wiki_negative_train/train_neg_char_ascii.pkl', 'w') as f:\n",
    "    pickle.dump(train_wiki_neg_ascii_chars, f)"
   ]
  },
  {
   "cell_type": "code",
   "execution_count": 204,
   "metadata": {
    "collapsed": true
   },
   "outputs": [],
   "source": [
    "train_neg_with_glove_vocab = []\n",
    "\n",
    "for a, q, x in data_neg:\n",
    "    q_num = [glove_w_to_i.get(w, 0) for w in q]\n",
    "    x_num = [glove_w_to_i.get(w, 0) for w in x]\n",
    "    train_neg_with_glove_vocab.append([a, q_num, x_num])"
   ]
  },
  {
   "cell_type": "code",
   "execution_count": 206,
   "metadata": {
    "collapsed": true
   },
   "outputs": [],
   "source": [
    "with open('/pio/data/data/squad/wiki_negative_train/train_neg_with_glove_vocab.pkl', 'w') as f:\n",
    "    pickle.dump(train_neg_with_glove_vocab, f)"
   ]
  },
  {
   "cell_type": "code",
   "execution_count": 2,
   "metadata": {
    "collapsed": true
   },
   "outputs": [],
   "source": [
    "train_wiki_neg_bin_feats = np.load('/pio/data/data/squad/wiki_negative_train/train_neg_bin_feats.pkl')\n",
    "train_wiki_neg_ascii_chars = np.load('/pio/data/data/squad/wiki_negative_train/train_neg_char_ascii.pkl')\n",
    "train_neg_with_glove_vocab = np.load('/pio/data/data/squad/wiki_negative_train/train_neg_with_glove_vocab.pkl')"
   ]
  },
  {
   "cell_type": "code",
   "execution_count": 6,
   "metadata": {
    "collapsed": true
   },
   "outputs": [],
   "source": [
    "too_long = []\n",
    "\n",
    "for i, (_, x) in enumerate(train_wiki_neg_ascii_chars):\n",
    "    for w in x:\n",
    "        if len(w) > 35:\n",
    "            too_long.append(i)\n",
    "            break"
   ]
  },
  {
   "cell_type": "code",
   "execution_count": 8,
   "metadata": {
    "collapsed": true
   },
   "outputs": [],
   "source": [
    "train_wiki_neg_bin_feats_cut = []\n",
    "train_wiki_neg_ascii_chars_cut = []\n",
    "train_neg_with_glove_vocab_cut = []\n",
    "\n",
    "for i in xrange(len(train_neg_with_glove_vocab)):\n",
    "    if i not in too_long:\n",
    "        train_wiki_neg_bin_feats_cut.append(train_wiki_neg_bin_feats[i])\n",
    "        train_wiki_neg_ascii_chars_cut.append(train_wiki_neg_ascii_chars[i])\n",
    "        train_neg_with_glove_vocab_cut.append(train_neg_with_glove_vocab[i])"
   ]
  },
  {
   "cell_type": "code",
   "execution_count": 10,
   "metadata": {},
   "outputs": [
    {
     "data": {
      "text/plain": [
       "84833"
      ]
     },
     "execution_count": 10,
     "metadata": {},
     "output_type": "execute_result"
    }
   ],
   "source": [
    "len(train_neg_with_glove_vocab_cut)"
   ]
  },
  {
   "cell_type": "code",
   "execution_count": 11,
   "metadata": {
    "collapsed": true
   },
   "outputs": [],
   "source": [
    "with open('/pio/data/data/squad/wiki_negative_train/train_neg_bin_feats.pkl', 'w') as f:\n",
    "    pickle.dump(train_wiki_neg_bin_feats_cut, f)\n",
    "    \n",
    "with open('/pio/data/data/squad/wiki_negative_train/train_neg_char_ascii.pkl', 'w') as f:\n",
    "    pickle.dump(train_wiki_neg_ascii_chars_cut, f)\n",
    "    \n",
    "with open('/pio/data/data/squad/wiki_negative_train/train_neg_with_glove_vocab.pkl', 'w') as f:\n",
    "    pickle.dump(train_neg_with_glove_vocab_cut, f)"
   ]
  }
 ],
 "metadata": {
  "kernelspec": {
   "display_name": "Python 2",
   "language": "python",
   "name": "python2"
  },
  "language_info": {
   "codemirror_mode": {
    "name": "ipython",
    "version": 2
   },
   "file_extension": ".py",
   "mimetype": "text/x-python",
   "name": "python",
   "nbconvert_exporter": "python",
   "pygments_lexer": "ipython2",
   "version": "2.7.13"
  }
 },
 "nbformat": 4,
 "nbformat_minor": 2
}
