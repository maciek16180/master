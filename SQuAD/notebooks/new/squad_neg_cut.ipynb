{
 "cells": [
  {
   "cell_type": "code",
   "execution_count": 12,
   "metadata": {
    "collapsed": true
   },
   "outputs": [],
   "source": [
    "# verified\n",
    "\n",
    "import json\n",
    "import io\n",
    "import sys\n",
    "import os\n",
    "\n",
    "from os.path import join\n",
    "\n",
    "sys.path.append('../..')\n",
    "from squad_tools import load_dict"
   ]
  },
  {
   "cell_type": "code",
   "execution_count": 2,
   "metadata": {
    "collapsed": true
   },
   "outputs": [],
   "source": [
    "glove_ver = '6B'\n",
    "\n",
    "glove_path = '/pio/data/data/glove_vec/6B/glove.6B.300d.txt'\n",
    "# squad_preprocced_path = '/pio/data/data/squad/glove' + glove_ver\n",
    "squad_preprocced_path = '/pio/data/data/squad/test'\n",
    "out_path = join(squad_preprocced_path, 'squad_neg_cut')\n",
    "\n",
    "wordlist = load_dict(glove_path)\n",
    "\n",
    "with open(join(squad_preprocced_path, 'train.json')) as f:\n",
    "    train = json.load(f)\n",
    "with open(join(squad_preprocced_path, 'train_words.json')) as f:\n",
    "    train_words = json.load(f)\n",
    "with open(join(squad_preprocced_path, 'train_char_ascii.json')) as f:\n",
    "    train_char = json.load(f)\n",
    "with open(join(squad_preprocced_path, 'train_bin_feats.json')) as f:\n",
    "    train_bin_feats = json.load(f)"
   ]
  },
  {
   "cell_type": "code",
   "execution_count": 3,
   "metadata": {
    "collapsed": true
   },
   "outputs": [],
   "source": [
    "def cut_sentence_with_ans(ans, context):\n",
    "    i, j = min(ans), max(ans)\n",
    "    while i > 0 and context[i-1] != '.':\n",
    "        i -= 1\n",
    "    while context[j] != '.' and j < len(context) - 1:\n",
    "        j += 1\n",
    "    return i, j + 1"
   ]
  },
  {
   "cell_type": "code",
   "execution_count": 4,
   "metadata": {
    "collapsed": true
   },
   "outputs": [],
   "source": [
    "NAW_tok = u'<not_a_word>'\n",
    "NAW_idx = wordlist.index(NAW_tok)\n",
    "NAW_chars = [1, 3, 2]"
   ]
  },
  {
   "cell_type": "code",
   "execution_count": 7,
   "metadata": {
    "collapsed": true
   },
   "outputs": [],
   "source": [
    "train_new = []\n",
    "train_words_new = []\n",
    "train_char_new = []\n",
    "train_bin_feats_new = []\n",
    "\n",
    "for k in range(len(train)):\n",
    "    if not train_words[k][0]:\n",
    "        continue\n",
    "        \n",
    "    ans = train_words[k][0][0]\n",
    "    i, j = cut_sentence_with_ans(ans, train[k][2])\n",
    "    \n",
    "    new_raw = train[k][2][:i] + train[k][2][j:] + [NAW_tok]\n",
    "    train_new.append([[], train[k][1], new_raw])\n",
    "    \n",
    "    new_words = train_words[k][2][:i] + train_words[k][2][j:] + [NAW_idx]\n",
    "    new_ans = [[len(new_words) - 1]]\n",
    "    train_words_new.append([new_ans, train_words[k][1], new_words])\n",
    "    \n",
    "    new_char = train_char[k][1][:i] + train_char[k][1][j:] + [NAW_chars]\n",
    "    train_char_new.append([train_char[k][0], new_char])\n",
    "    \n",
    "    new_bin_feats = train_bin_feats[k][:i] + train_bin_feats[k][j:] + [False]\n",
    "    train_bin_feats_new.append(new_bin_feats)"
   ]
  },
  {
   "cell_type": "code",
   "execution_count": 13,
   "metadata": {
    "collapsed": true
   },
   "outputs": [],
   "source": [
    "if not os.path.exists(out_path):\n",
    "    os.makedirs(out_path)\n",
    "\n",
    "with open(join(out_path, 'train_words.json'), 'w') as f:\n",
    "    json.dump(train_words_new, f)\n",
    "    \n",
    "with open(join(out_path, 'train_char_ascii.json'), 'w') as f:\n",
    "    json.dump(train_char_new, f)\n",
    "    \n",
    "with open(join(out_path, 'train_bin_feats.json'), 'w') as f:\n",
    "    json.dump(train_bin_feats_new, f)\n",
    "    \n",
    "with open(join(out_path, 'train.json'), 'w') as f:\n",
    "    json.dump(train_new, f)"
   ]
  }
 ],
 "metadata": {
  "kernelspec": {
   "display_name": "Python 2",
   "language": "python",
   "name": "python2"
  },
  "language_info": {
   "codemirror_mode": {
    "name": "ipython",
    "version": 2
   },
   "file_extension": ".py",
   "mimetype": "text/x-python",
   "name": "python",
   "nbconvert_exporter": "python",
   "pygments_lexer": "ipython2",
   "version": "2.7.13"
  }
 },
 "nbformat": 4,
 "nbformat_minor": 2
}
