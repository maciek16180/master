{
 "cells": [
  {
   "cell_type": "code",
   "execution_count": 1,
   "metadata": {
    "collapsed": true
   },
   "outputs": [],
   "source": [
    "import json\n",
    "import io\n",
    "import sys\n",
    "\n",
    "from os.path import join\n",
    "\n",
    "sys.path.append('../..')\n",
    "from squad_tools import load_dict"
   ]
  },
  {
   "cell_type": "markdown",
   "metadata": {},
   "source": [
    "### Read data"
   ]
  },
  {
   "cell_type": "code",
   "execution_count": 2,
   "metadata": {
    "collapsed": true
   },
   "outputs": [],
   "source": [
    "squad_neg_path = '/pio/data/data/squad/'\n",
    "\n",
    "with open(join(squad_path, 'negative_samples')) as f:\n",
    "    train = json.load(f)\n",
    "    \n",
    "with open(join(squad_path, 'dev-v1.1.json')) as f:\n",
    "    dev = json.load(f)\n",
    "    \n"
   ]
  },
  {
   "cell_type": "code",
   "execution_count": null,
   "metadata": {
    "collapsed": true
   },
   "outputs": [],
   "source": [
    "data_neg"
   ]
  },
  {
   "cell_type": "markdown",
   "metadata": {},
   "source": [
    "## Preprocess wikipedia negative examples"
   ]
  },
  {
   "cell_type": "code",
   "execution_count": 171,
   "metadata": {
    "collapsed": true
   },
   "outputs": [],
   "source": [
    "for i in range(len(data_neg)):\n",
    "    data_neg[i][1] = map(lower, word_tokenize(data_neg[i][1]))\n",
    "    data_neg[i][2] = map(lower, word_tokenize(data_neg[i][2]))"
   ]
  },
  {
   "cell_type": "code",
   "execution_count": 172,
   "metadata": {
    "collapsed": true
   },
   "outputs": [],
   "source": [
    "for i in range(len(data_neg)):\n",
    "    data_neg[i][2].append(not_a_word)"
   ]
  },
  {
   "cell_type": "code",
   "execution_count": 173,
   "metadata": {
    "collapsed": true
   },
   "outputs": [],
   "source": [
    "for i in range(len(data_neg)):\n",
    "    data_neg[i][0] = [[len(data_neg[i][2]) - 1]]"
   ]
  },
  {
   "cell_type": "code",
   "execution_count": 174,
   "metadata": {
    "collapsed": true
   },
   "outputs": [],
   "source": [
    "train_wiki_neg_bin_feats = []\n",
    "\n",
    "for _, q, c in data_neg:\n",
    "    train_wiki_neg_bin_feats.append(make_bin_feats([q, c]))"
   ]
  },
  {
   "cell_type": "code",
   "execution_count": 179,
   "metadata": {
    "collapsed": true
   },
   "outputs": [],
   "source": [
    "train_wiki_neg_ascii_chars = []\n",
    "\n",
    "chars = [unichr(i) for i in range(128)]\n",
    "i_to_c = chars\n",
    "c_to_i = {v:k for (k,v) in list(enumerate(chars))}\n",
    "\n",
    "for _, q, x in data_neg:\n",
    "    q_char = [[1] + [c_to_i.get(c, 0) for c in w] + [2] for w in q]\n",
    "    x_char = [[1] + [c_to_i.get(c, 0) for c in w] + [2] for w in x[:-1]] + [[1, 3, 2]]\n",
    "    train_wiki_neg_ascii_chars.append([q_char, x_char])"
   ]
  },
  {
   "cell_type": "code",
   "execution_count": 192,
   "metadata": {
    "collapsed": true
   },
   "outputs": [],
   "source": [
    "with open('/pio/data/data/squad/wiki_negative_train/train_neg_bin_feats.pkl', 'w') as f:\n",
    "    pickle.dump(train_wiki_neg_bin_feats, f)\n",
    "    \n",
    "with open('/pio/data/data/squad/wiki_negative_train/train_neg_char_ascii.pkl', 'w') as f:\n",
    "    pickle.dump(train_wiki_neg_ascii_chars, f)"
   ]
  },
  {
   "cell_type": "code",
   "execution_count": 204,
   "metadata": {
    "collapsed": true
   },
   "outputs": [],
   "source": [
    "train_neg_with_glove_vocab = []\n",
    "\n",
    "for a, q, x in data_neg:\n",
    "    q_num = [glove_w_to_i.get(w, 0) for w in q]\n",
    "    x_num = [glove_w_to_i.get(w, 0) for w in x]\n",
    "    train_neg_with_glove_vocab.append([a, q_num, x_num])"
   ]
  },
  {
   "cell_type": "code",
   "execution_count": 206,
   "metadata": {
    "collapsed": true
   },
   "outputs": [],
   "source": [
    "with open('/pio/data/data/squad/wiki_negative_train/train_neg_with_glove_vocab.pkl', 'w') as f:\n",
    "    pickle.dump(train_neg_with_glove_vocab, f)"
   ]
  },
  {
   "cell_type": "code",
   "execution_count": 2,
   "metadata": {
    "collapsed": true
   },
   "outputs": [],
   "source": [
    "train_wiki_neg_bin_feats = np.load('/pio/data/data/squad/wiki_negative_train/train_neg_bin_feats.pkl')\n",
    "train_wiki_neg_ascii_chars = np.load('/pio/data/data/squad/wiki_negative_train/train_neg_char_ascii.pkl')\n",
    "train_neg_with_glove_vocab = np.load('/pio/data/data/squad/wiki_negative_train/train_neg_with_glove_vocab.pkl')"
   ]
  },
  {
   "cell_type": "code",
   "execution_count": 6,
   "metadata": {
    "collapsed": true
   },
   "outputs": [],
   "source": [
    "too_long = []\n",
    "\n",
    "for i, (_, x) in enumerate(train_wiki_neg_ascii_chars):\n",
    "    for w in x:\n",
    "        if len(w) > 35:\n",
    "            too_long.append(i)\n",
    "            break"
   ]
  },
  {
   "cell_type": "code",
   "execution_count": 8,
   "metadata": {
    "collapsed": true
   },
   "outputs": [],
   "source": [
    "train_wiki_neg_bin_feats_cut = []\n",
    "train_wiki_neg_ascii_chars_cut = []\n",
    "train_neg_with_glove_vocab_cut = []\n",
    "\n",
    "for i in xrange(len(train_neg_with_glove_vocab)):\n",
    "    if i not in too_long:\n",
    "        train_wiki_neg_bin_feats_cut.append(train_wiki_neg_bin_feats[i])\n",
    "        train_wiki_neg_ascii_chars_cut.append(train_wiki_neg_ascii_chars[i])\n",
    "        train_neg_with_glove_vocab_cut.append(train_neg_with_glove_vocab[i])"
   ]
  },
  {
   "cell_type": "code",
   "execution_count": 10,
   "metadata": {},
   "outputs": [
    {
     "data": {
      "text/plain": [
       "84833"
      ]
     },
     "execution_count": 10,
     "metadata": {},
     "output_type": "execute_result"
    }
   ],
   "source": [
    "len(train_neg_with_glove_vocab_cut)"
   ]
  },
  {
   "cell_type": "code",
   "execution_count": 11,
   "metadata": {
    "collapsed": true
   },
   "outputs": [],
   "source": [
    "with open('/pio/data/data/squad/wiki_negative_train/train_neg_bin_feats.pkl', 'w') as f:\n",
    "    pickle.dump(train_wiki_neg_bin_feats_cut, f)\n",
    "    \n",
    "with open('/pio/data/data/squad/wiki_negative_train/train_neg_char_ascii.pkl', 'w') as f:\n",
    "    pickle.dump(train_wiki_neg_ascii_chars_cut, f)\n",
    "    \n",
    "with open('/pio/data/data/squad/wiki_negative_train/train_neg_with_glove_vocab.pkl', 'w') as f:\n",
    "    pickle.dump(train_neg_with_glove_vocab_cut, f)"
   ]
  }
 ],
 "metadata": {
  "kernelspec": {
   "display_name": "Python 2",
   "language": "python",
   "name": "python2"
  },
  "language_info": {
   "codemirror_mode": {
    "name": "ipython",
    "version": 2
   },
   "file_extension": ".py",
   "mimetype": "text/x-python",
   "name": "python",
   "nbconvert_exporter": "python",
   "pygments_lexer": "ipython2",
   "version": "2.7.13"
  }
 },
 "nbformat": 4,
 "nbformat_minor": 2
}
