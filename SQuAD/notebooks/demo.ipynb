{
 "cells": [
  {
   "cell_type": "code",
   "execution_count": 1,
   "metadata": {},
   "outputs": [
    {
     "name": "stderr",
     "output_type": "stream",
     "text": [
      "Using cuDNN version 5105 on context None\n",
      "Preallocating 3661/12204 Mb (0.300000) on cuda\n",
      "Mapped name None to device cuda: GeForce GTX TITAN X (0000:01:00.0)\n"
     ]
    },
    {
     "name": "stdout",
     "output_type": "stream",
     "text": [
      "floatX == float32\n",
      "device == cuda\n"
     ]
    }
   ],
   "source": [
    "import os\n",
    "import sys\n",
    "import numpy as np\n",
    "import lasagne as L\n",
    "\n",
    "sys.path.append('../')\n",
    "sys.path.append('../scripts/')\n",
    "\n",
    "from os.path import join\n",
    "from squad_tools import load_glove\n",
    "from AnswerBot import AnswerBot\n",
    "from QANet import QANet\n",
    "from my_tokenize import tokenize"
   ]
  },
  {
   "cell_type": "code",
   "execution_count": 2,
   "metadata": {
    "collapsed": true
   },
   "outputs": [],
   "source": [
    "glove_path = '/pio/data/data/glove_vec/6B/glove.6B.300d.txt'\n",
    "squad_base_path = '/pio/data/data/squad/'\n",
    "\n",
    "squad_path = join(squad_base_path, 'preproc')\n",
    "glove_words, glove_embs = load_glove(glove_path)\n",
    "w_to_i = {w:i for (i,w) in enumerate(glove_words)}\n",
    "voc_size = glove_embs.shape[0]\n",
    "NAW_token = glove_words.index('<not_a_word>')"
   ]
  },
  {
   "cell_type": "markdown",
   "metadata": {},
   "source": [
    "# Demo"
   ]
  },
  {
   "cell_type": "code",
   "execution_count": 86,
   "metadata": {},
   "outputs": [
    {
     "name": "stdout",
     "output_type": "stream",
     "text": [
      "Building the model...\n",
      "Using dropout after wiq calculation.\n",
      "Compiling theano functions:\n",
      "    get_intermediate_results_fn...\n",
      "    get_start_probs_fn...\n",
      "    get_end_probs_fn...\n",
      "Done\n"
     ]
    }
   ],
   "source": [
    "negative = False\n",
    "train_unk = True\n",
    "\n",
    "if not negative:\n",
    "    model_fname = '../models/best/model.ep09.npz'\n",
    "    conv = 'valid'\n",
    "else:\n",
    "    model_fname = '../models/model_neg03/model.ep07.npz'\n",
    "    conv = 'full'\n",
    "    \n",
    "abot = AnswerBot(\n",
    "    model_fname,\n",
    "    glove_embs,\n",
    "    glove_words,\n",
    "    train_unk=train_unk,\n",
    "    negative=negative,\n",
    "    conv=conv)"
   ]
  },
  {
   "cell_type": "code",
   "execution_count": 6,
   "metadata": {},
   "outputs": [
    {
     "data": {
      "text/plain": [
       "[([u'101', u'days'], 0.93698061)]"
      ]
     },
     "execution_count": 6,
     "metadata": {},
     "output_type": "execute_result"
    }
   ],
   "source": [
    "# x is a fragment in natural language, qs are questions\n",
    "# examples of usage are shown below\n",
    "\n",
    "x = u\"The torch relay started on 24 October 2017 in Greece and ended at \"\\\n",
    "     \"the start of the Olympics on 9 February 2018. On 1 November 2017 the relay \"\\\n",
    "     \"entered Korea. The relay lasted 101 days. There were 7,500 torch bearers to \"\\\n",
    "     \"represent the Korean population of 75 million people. There were also 2018 support \"\\\n",
    "     \"runners to guard the torch and act as messengers.\"\n",
    "    \n",
    "q = u\"How long was the torch relay?\"\n",
    "abot.get_answers([q], [x])"
   ]
  },
  {
   "cell_type": "code",
   "execution_count": 79,
   "metadata": {},
   "outputs": [
    {
     "data": {
      "text/plain": [
       "[([u'15', u'july', u'1410'], 0.53974926), (['<not_a_word>'], 0.95943588)]"
      ]
     },
     "execution_count": 79,
     "metadata": {},
     "output_type": "execute_result"
    }
   ],
   "source": [
    "x1 = u\"The Battle of Grunwald was fought in 1410.\"\n",
    "x2 = u\"Frédéric Chopin was born in 1810.\"\n",
    "\n",
    "x1 = u\"The Battle of Grunwald, First Battle of Tannenberg or Battle of Žalgiris, was fought on 15 July 1410 during the Polish–Lithuanian–Teutonic War. The alliance of the Kingdom of Poland and the Grand Duchy of Lithuania, led respectively by King Władysław II Jagiełło (Jogaila) and Grand Duke Vytautas, decisively defeated the German–Prussian Teutonic Knights, led by Grand Master Ulrich von Jungingen.\"\n",
    "x2 = u'Frédéric François Chopin (1 March 1810 – 17 October 1849) was a Polish composer and virtuoso pianist of the Romantic era who wrote primarily for the solo piano. He gained and has maintained renown worldwide as a leading musician of his era, whose \"poetic genius was based on a professional technique that was without equal in his generation.\"'\n",
    "\n",
    "q = u\"When was Battle of Grunwald?\"\n",
    "abot.get_answers([q,q], [x1,x2])"
   ]
  },
  {
   "cell_type": "code",
   "execution_count": 87,
   "metadata": {},
   "outputs": [
    {
     "data": {
      "text/plain": [
       "[([u'15', u'july', u'1410'], 0.94606912),\n",
       " ([u'march', u'1', u',', u'1810'], 0.87722284)]"
      ]
     },
     "execution_count": 87,
     "metadata": {},
     "output_type": "execute_result"
    }
   ],
   "source": [
    "x1 = u\"The Battle of Grunwald was fought in 1410.\"\n",
    "x2 = u\"Frédéric Chopin was born in 1810.\"\n",
    "\n",
    "x1 = u\"The Battle of Grunwald, First Battle of Tannenberg or Battle of Žalgiris, was fought on 15 July 1410 during the Polish–Lithuanian–Teutonic War. The alliance of the Kingdom of Poland and the Grand Duchy of Lithuania, led respectively by King Władysław II Jagiełło (Jogaila) and Grand Duke Vytautas, decisively defeated the German–Prussian Teutonic Knights, led by Grand Master Ulrich von Jungingen.\"\n",
    "x2 = u'Born on March 1, 1810, in Zelazowa Wola, Poland, Frédéric Chopin, grew up in a middle-class family. He published his first composition at age 7 and began performing one year later. In 1832, he moved to Paris, socialized with high society and was known as an excellent piano teacher. His piano compositions were highly influential.'\n",
    "\n",
    "q = u\"When was Battle of Grunwald?\"\n",
    "abot.get_answers([q,q], [x1,x2])"
   ]
  },
  {
   "cell_type": "markdown",
   "metadata": {},
   "source": [
    "### Samples from SQuAD dev"
   ]
  },
  {
   "cell_type": "code",
   "execution_count": 7,
   "metadata": {
    "collapsed": true
   },
   "outputs": [],
   "source": [
    "import json\n",
    "\n",
    "with open(join(squad_path, 'dev.json')) as f:\n",
    "    dev = json.load(f)"
   ]
  },
  {
   "cell_type": "code",
   "execution_count": 42,
   "metadata": {},
   "outputs": [
    {
     "name": "stdout",
     "output_type": "stream",
     "text": [
      "other green spaces in the city include the botanic garden and the university library garden . they have extensive botanical collection of rare domestic and foreign plants , while a palm house in the new orangery displays plants of subtropics from all over the world . besides , within the city borders , there are also : pole mokotowskie ( a big park in the northern mokotów , where was the first horse racetrack and then the airport ) , park ujazdowski ( close to the sejm and john lennon street ) , park of culture and rest in powsin , by the southern city border , park skaryszewski by the right vistula bank , in praga . the oldest park in praga , the praga park , was established in 1865 – 1871 and designed by jan dobrowolski . in 1927 a zoological garden ( ogród zoologiczny ) was established on the park grounds , and in 1952 a bear run , still open today . \n",
      "\n",
      "Q: what type of space in warsaw are the botanic garden and university library garden ?\n",
      "A: [u'green', u'green', u'green']\n",
      "\n",
      "Q: where is a palm house with subtropic plants from all over the world on display ?\n",
      "A: [u'new orangery', u'new orangery', u'new orangery']\n",
      "\n",
      "Q: where was the first horse racetrack located ?\n",
      "A: [u'pole mokotowskie', u'mokot\\xf3w', u'pole mokotowskie']\n",
      "\n",
      "Q: what park is close to john lennon street ?\n",
      "A: [u'park ujazdowski', u'park ujazdowski', u'park ujazdowski']\n",
      "\n",
      "Q: when was a zoological garden established in the praga park ?\n",
      "A: [u'1927', u'1927', u'1927']\n",
      "\n"
     ]
    },
    {
     "data": {
      "text/plain": [
       "[([u'green'], 0.81224889),\n",
       " ([u'new', u'orangery'], 0.34523931),\n",
       " ([u'pole', u'mokotowskie'], 0.34411412),\n",
       " ([u'park', u'ujazdowski'], 0.95149535),\n",
       " ([u'1865', u'\\u2013', u'1871'], 0.77209204)]"
      ]
     },
     "execution_count": 42,
     "metadata": {},
     "output_type": "execute_result"
    }
   ],
   "source": [
    "start_index = 999\n",
    "num = 5\n",
    "\n",
    "x = ' '.join(dev[start_index][2])\n",
    "qs = [' '.join(d[1]) for d in dev[start_index:start_index+num]]\n",
    "anss = [d[0] for d in dev[start_index:start_index+num]]\n",
    "anss = [[a[1] for a in d] for d in anss]\n",
    "print x, '\\n'\n",
    "for i in range(len(qs)):\n",
    "    print 'Q:', qs[i]\n",
    "    print 'A:', anss[i]\n",
    "    print\n",
    "abot.get_answers(qs, [x]*len(qs))"
   ]
  },
  {
   "cell_type": "code",
   "execution_count": 43,
   "metadata": {},
   "outputs": [
    {
     "name": "stdout",
     "output_type": "stream",
     "text": [
      "following the cretaceous – paleogene extinction event , the extinction of the dinosaurs and the wetter climate may have allowed the tropical rainforest to spread out across the continent . from 66 – 34 mya , the rainforest extended as far south as 45 ° . climate fluctuations during the last 34 million years have allowed savanna regions to expand into the tropics . during the oligocene , for example , the rainforest spanned a relatively narrow band . it expanded again during the middle miocene , then retracted to a mostly inland formation at the last glacial maximum . however , the rainforest still managed to thrive during these glacial periods , allowing for the survival and evolution of a broad diversity of species . \n",
      "\n",
      "Q: which type of climate may have allowed the rainforest to spread across the continent ?\n",
      "A: [u'the wetter climate may have allowed the tropical rainforest to spread out across the continent.', u'wetter', u'wetter']\n",
      "\n",
      "Q: what has allowed for the savanna region to expand into the tropics ?\n",
      "A: [u'climate fluctuations during the last 34 million years have allowed savanna regions to expand into the tropics.', u'climate fluctuations during the last 34 million years', u'climate fluctuations']\n",
      "\n",
      "Q: during what time did the rainforest spanned a narrow band ?\n",
      "A: [u'during the oligocene, for example, the rainforest spanned a relatively narrow band.', u'oligocene', u'oligocene']\n",
      "\n",
      "Q: when did it retract to a inland formation ?\n",
      "A: [u'it expanded again during the middle miocene, then retracted to a mostly inland formation at the last glacial maximum.', u'middle miocene', u'at the last glacial maximum']\n",
      "\n",
      "Q: did the rainforest managed to thrive during the glacial periods ?\n",
      "A: [u'however, the rainforest still managed to thrive during these glacial periods, allowing for the survival and evolution of a broad diversity of species.', u'still managed to thrive']\n",
      "\n"
     ]
    },
    {
     "data": {
      "text/plain": [
       "[([u'tropical'], 0.51566482),\n",
       " ([u'climate', u'fluctuations'], 0.97780937),\n",
       " ([u'the', u'oligocene', u','], 0.19961046),\n",
       " ([u'middle', u'miocene'], 0.492405),\n",
       " ([u'still', u'managed', u'to', u'thrive'], 0.31349531)]"
      ]
     },
     "execution_count": 43,
     "metadata": {},
     "output_type": "execute_result"
    }
   ],
   "source": [
    "start_index = 4321\n",
    "num = 5\n",
    "\n",
    "x = ' '.join(dev[start_index][2])\n",
    "qs = [' '.join(d[1]) for d in dev[start_index:start_index+num]]\n",
    "anss = [d[0] for d in dev[start_index:start_index+num]]\n",
    "anss = [[a[1] for a in d] for d in anss]\n",
    "print x, '\\n'\n",
    "for i in range(len(qs)):\n",
    "    print 'Q:', qs[i]\n",
    "    print 'A:', anss[i]\n",
    "    print\n",
    "abot.get_answers(qs, [x]*len(qs))"
   ]
  },
  {
   "cell_type": "code",
   "execution_count": 61,
   "metadata": {},
   "outputs": [
    {
     "name": "stdout",
     "output_type": "stream",
     "text": [
      "quickbooks sponsored a \" small business big game \" contest , in which death wish coffee had a 30 - second commercial aired free of charge courtesy of quickbooks . death wish coffee beat out nine other contenders from across the united states for the free advertisement . \n",
      "\n",
      "Q: what company won a free advertisement due to the quickbooks contest ?\n",
      "A: [u'death wish coffee', u'death wish coffee', u'death wish coffee']\n",
      "\n",
      "Q: how long was the death wish coffee commercial ?\n",
      "A: [u'30-second', u'30-second', u'30-second']\n",
      "\n",
      "Q: besides death wish coffee , how many other competitors participated in the contest ?\n",
      "A: [u'nine', u'nine', u'nine']\n",
      "\n",
      "Q: which company won a contest to have their ad shown for free during super bowl 50 ?\n",
      "A: [u'death wish coffee', u'death wish coffee', u'death wish coffee']\n",
      "\n",
      "Q: how many other contestants did the company , that had their ad shown for free , beat out ?\n",
      "A: [u'nine', u'nine', u'nine']\n",
      "\n",
      "Q: which company sponsored a contest called \" small business big game \" ?\n",
      "A: [u'quickbooks.', u'quickbooks', u'quickbooks']\n",
      "\n"
     ]
    },
    {
     "data": {
      "text/plain": [
       "[([u'coffee'], 0.33887854),\n",
       " ([u'30', u'-', u'second'], 0.77624053),\n",
       " ([u'nine'], 0.62543964),\n",
       " ([u'quickbooks'], 0.29217994),\n",
       " ([u'nine'], 0.79637706),\n",
       " ([u'quickbooks'], 0.99977797)]"
      ]
     },
     "execution_count": 61,
     "metadata": {},
     "output_type": "execute_result"
    }
   ],
   "source": [
    "start_index = 598\n",
    "num = 6\n",
    "\n",
    "x = ' '.join(dev[start_index][2])\n",
    "qs = [' '.join(d[1]) for d in dev[start_index:start_index+num]]\n",
    "anss = [d[0] for d in dev[start_index:start_index+num]]\n",
    "anss = [[a[1] for a in d] for d in anss]\n",
    "print x, '\\n'\n",
    "for i in range(len(qs)):\n",
    "    print 'Q:', qs[i]\n",
    "    print 'A:', anss[i]\n",
    "    print\n",
    "abot.get_answers(qs, [x]*len(qs))"
   ]
  },
  {
   "cell_type": "code",
   "execution_count": 62,
   "metadata": {},
   "outputs": [
    {
     "name": "stdout",
     "output_type": "stream",
     "text": [
      "despite waiving longtime running back deangelo williams and losing top wide receiver kelvin benjamin to a torn acl in the preseason , the carolina panthers had their best regular season in franchise history , becoming the seventh team to win at least 15 regular season games since the league expanded to a 16 - game schedule in 1978 . carolina started the season 14 – 0 , not only setting franchise records for the best start and the longest single - season winning streak , but also posting the best start to a season by an nfc team in nfl history , breaking the 13 – 0 record previously shared with the 2009 new orleans saints and the 2011 green bay packers . with their nfc - best 15 – 1 regular season record , the panthers clinched home - field advantage throughout the nfc playoffs for the first time in franchise history . ten players were selected to the pro bowl ( the most in franchise history ) along with eight all - pro selections . \n",
      "\n",
      "Q: who had the best record in the nfc ?\n",
      "A: [u'carolina panthers', u'the panthers', u'carolina']\n",
      "\n",
      "Q: how many panthers went to the pro bowl ?\n",
      "A: [u'ten', u'ten', u'ten']\n",
      "\n",
      "Q: how many panthers were designated all - pro ?\n",
      "A: [u'eight', u'eight', u'eight']\n",
      "\n",
      "Q: what panther tore his acl in the preseason ?\n",
      "A: [u'kelvin benjamin', u'kelvin benjamin', u'benjamin']\n",
      "\n",
      "Q: what year did the league begin having schedules with 16 games in them ?\n",
      "A: [u'1978', u'1978', u'1978']\n",
      "\n",
      "Q: what year did the the saints hit a 13 - 0 record ?\n",
      "A: [u'2009', u'2009', u'2009']\n",
      "\n"
     ]
    },
    {
     "data": {
      "text/plain": [
       "[([u'carolina', u'panthers'], 0.39416635),\n",
       " ([u'ten'], 0.73643702),\n",
       " ([u'eight'], 0.72282839),\n",
       " ([u'kelvin', u'benjamin'], 0.93562293),\n",
       " ([u'1978'], 0.99421757),\n",
       " ([u'2009'], 0.93824393)]"
      ]
     },
     "execution_count": 62,
     "metadata": {},
     "output_type": "execute_result"
    }
   ],
   "source": [
    "start_index = 200\n",
    "num = 6\n",
    "\n",
    "x = ' '.join(dev[start_index][2])\n",
    "qs = [' '.join(d[1]) for d in dev[start_index:start_index+num]]\n",
    "anss = [d[0] for d in dev[start_index:start_index+num]]\n",
    "anss = [[a[1] for a in d] for d in anss]\n",
    "print x, '\\n'\n",
    "for i in range(len(qs)):\n",
    "    print 'Q:', qs[i]\n",
    "    print 'A:', anss[i]\n",
    "    print\n",
    "abot.get_answers(qs, [x]*len(qs))"
   ]
  },
  {
   "cell_type": "code",
   "execution_count": 69,
   "metadata": {},
   "outputs": [
    {
     "name": "stdout",
     "output_type": "stream",
     "text": [
      "sir charles lyell first published his famous book , principles of geology , in 1830 . this book , which influenced the thought of charles darwin , successfully promoted the doctrine of uniformitarianism . this theory states that slow geological processes have occurred throughout the earth ' s history and are still occurring today . in contrast , catastrophism is the theory that earth ' s features formed in single , catastrophic events and remained unchanged thereafter . though hutton believed in uniformitarianism , the idea was not widely accepted at the time . \n",
      "\n",
      "Q: first published by sir charles lyell in 1830 this book was called what ?\n",
      "A: [u'principles of geology', u'principles of geology', u'principles of geology']\n",
      "\n",
      "Q: what doctrine did the doctrine of the principles of geology successfully promote ?\n",
      "A: [u'uniformitarianism', u'uniformitarianism', u'uniformitarianism']\n",
      "\n",
      "Q: which theory states that slow geological processes are still occurring today , and have occurred throughout earth ' s history ?\n",
      "A: [u'uniformitarianism', u'uniformitarianism', u'uniformitarianism']\n",
      "\n",
      "Q: which theory states that earth ' s features remained unchanged after forming in one single catastrophic event ?\n",
      "A: [u'catastrophism', u'catastrophism', u'catastrophism']\n",
      "\n",
      "Q: which famous evolutionist was influenced by the book principles of geology ?\n",
      "A: [u'charles darwin', u'charles darwin', u'charles darwin']\n",
      "\n"
     ]
    },
    {
     "data": {
      "text/plain": [
       "[([u'principles', u'of', u'geology'], 0.96457863),\n",
       " ([u'the', u'doctrine', u'of', u'uniformitarianism'], 0.63317519),\n",
       " ([u'uniformitarianism'], 0.47548464),\n",
       " ([u'catastrophism'], 0.99940991),\n",
       " ([u'charles', u'darwin'], 0.6520983)]"
      ]
     },
     "execution_count": 69,
     "metadata": {},
     "output_type": "execute_result"
    }
   ],
   "source": [
    "start_index = 5132\n",
    "num = 5\n",
    "\n",
    "x = ' '.join(dev[start_index][2])\n",
    "qs = [' '.join(d[1]) for d in dev[start_index:start_index+num]]\n",
    "anss = [d[0] for d in dev[start_index:start_index+num]]\n",
    "anss = [[a[1] for a in d] for d in anss]\n",
    "print x, '\\n'\n",
    "for i in range(len(qs)):\n",
    "    print 'Q:', qs[i]\n",
    "    print 'A:', anss[i]\n",
    "    print\n",
    "abot.get_answers(qs, [x]*len(qs))"
   ]
  }
 ],
 "metadata": {
  "kernelspec": {
   "display_name": "Python 2",
   "language": "python",
   "name": "python2"
  },
  "language_info": {
   "codemirror_mode": {
    "name": "ipython",
    "version": 2
   },
   "file_extension": ".py",
   "mimetype": "text/x-python",
   "name": "python",
   "nbconvert_exporter": "python",
   "pygments_lexer": "ipython2",
   "version": "2.7.13"
  }
 },
 "nbformat": 4,
 "nbformat_minor": 2
}
