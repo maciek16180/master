{
 "cells": [
  {
   "cell_type": "code",
   "execution_count": null,
   "metadata": {
    "collapsed": true
   },
   "outputs": [],
   "source": [
    "import os\n",
    "import sys\n",
    "import numpy as np\n",
    "import lasagne as L\n",
    "\n",
    "sys.path.append('../')\n",
    "sys.path.append('../scripts/')\n",
    "\n",
    "from os.path import join\n",
    "from squad_tools import load_dict\n",
    "from AnswerBot import AnswerBot\n",
    "from QANet import QANet\n",
    "from my_tokenize import tokenize"
   ]
  },
  {
   "cell_type": "code",
   "execution_count": 35,
   "metadata": {},
   "outputs": [],
   "source": [
    "negative = False\n",
    "train_unk = True\n",
    "\n",
    "if not negative:\n",
    "    model_fname = '../models/6B/best/model.ep09.npz'\n",
    "    conv = 'valid'\n",
    "else:\n",
    "    model_fname = '../models/6B/model_neg03/model.ep07.npz'\n",
    "    conv = 'full'"
   ]
  },
  {
   "cell_type": "code",
   "execution_count": 26,
   "metadata": {
    "collapsed": true
   },
   "outputs": [],
   "source": [
    "glove_path = '/pio/data/data/glove_vec/6B/glove'\n",
    "glove_embs = np.load(join(glove_path, 'glove.6B.300d.npy'))\n",
    "voc_size = glove_embs.shape[0]\n",
    "\n",
    "glove_dict = load_dict(join(glove_path, '..', 'glove.6B.300d.txt'))\n",
    "w_to_i = {w:i for (i,w) in enumerate(glove_dict)}\n",
    "NAW_token = glove_dict.index('<not_a_word>')"
   ]
  },
  {
   "cell_type": "code",
   "execution_count": 36,
   "metadata": {},
   "outputs": [
    {
     "name": "stdout",
     "output_type": "stream",
     "text": [
      "Building the model...\n",
      "Using dropout after wiq calculation.\n",
      "Compiling theano functions:\n",
      "    get_intermediate_results_fn...\n",
      "    get_start_probs_fn...\n",
      "    get_end_probs_fn...\n",
      "Done\n"
     ]
    }
   ],
   "source": [
    "abot = AnswerBot(\n",
    "    model_fname, glove_embs, glove_dict, '6B',\n",
    "    train_unk=train_unk,\n",
    "    negative=negative,\n",
    "    conv=conv)"
   ]
  },
  {
   "cell_type": "markdown",
   "metadata": {},
   "source": [
    "# Demo"
   ]
  },
  {
   "cell_type": "code",
   "execution_count": 33,
   "metadata": {},
   "outputs": [],
   "source": [
    "x = u\"The torch relay started on 24 October 2017 in Greece and ended at \"\\\n",
    "     \"the start of the Olympics on 9 February 2018. On 1 November 2017 the relay \"\\\n",
    "     \"entered Korea. The relay lasted 101 days. There were 7,500 torch bearers to \"\\\n",
    "     \"represent the Korean population of 75 million people. There were also 2018 support \"\\\n",
    "     \"runners to guard the torch and act as messengers.\"\n",
    "    \n",
    "q1 = u\"How long was the torch relay?\"\n",
    "q2 = u\"How long were the winter olympics?\"\n",
    "q3 = u\"When did the relay end?\"\n",
    "q4 = u\"When did the World War II end?\""
   ]
  },
  {
   "cell_type": "code",
   "execution_count": 34,
   "metadata": {},
   "outputs": [
    {
     "data": {
      "text/plain": [
       "[([u'101', u'days'], 0.35858187),\n",
       " (['<not_a_word>'], 0.74940485),\n",
       " (['<not_a_word>'], 0.26989433),\n",
       " (['<not_a_word>'], 0.97529334)]"
      ]
     },
     "execution_count": 34,
     "metadata": {},
     "output_type": "execute_result"
    }
   ],
   "source": [
    "# negative\n",
    "abot.get_answers([q1, q2, q3, q4], [x]*4)"
   ]
  },
  {
   "cell_type": "code",
   "execution_count": 37,
   "metadata": {},
   "outputs": [
    {
     "data": {
      "text/plain": [
       "[([u'101', u'days'], 0.93867058),\n",
       " ([u'101', u'days'], 0.68829244),\n",
       " ([u'1', u'november', u'2017'], 0.41395184),\n",
       " ([u'9', u'february', u'2018'], 0.49419025)]"
      ]
     },
     "execution_count": 37,
     "metadata": {},
     "output_type": "execute_result"
    }
   ],
   "source": [
    "# positive\n",
    "abot.get_answers([q1, q2, q3, q4], [x]*4)"
   ]
  },
  {
   "cell_type": "code",
   "execution_count": null,
   "metadata": {
    "collapsed": true
   },
   "outputs": [],
   "source": []
  }
 ],
 "metadata": {
  "kernelspec": {
   "display_name": "Python 2",
   "language": "python",
   "name": "python2"
  },
  "language_info": {
   "codemirror_mode": {
    "name": "ipython",
    "version": 2
   },
   "file_extension": ".py",
   "mimetype": "text/x-python",
   "name": "python",
   "nbconvert_exporter": "python",
   "pygments_lexer": "ipython2",
   "version": "2.7.13"
  }
 },
 "nbformat": 4,
 "nbformat_minor": 2
}
