{
 "cells": [
  {
   "cell_type": "code",
   "execution_count": 1,
   "metadata": {},
   "outputs": [
    {
     "name": "stderr",
     "output_type": "stream",
     "text": [
      "Using cuDNN version 5105 on context None\n",
      "Preallocating 3661/12204 Mb (0.300000) on cuda"
     ]
    },
    {
     "name": "stdout",
     "output_type": "stream",
     "text": [
      "floatX == float32\n",
      "device == cuda\n"
     ]
    },
    {
     "name": "stderr",
     "output_type": "stream",
     "text": [
      "\n",
      "Mapped name None to device cuda: GeForce GTX TITAN X (0000:01:00.0)\n"
     ]
    }
   ],
   "source": [
    "import os\n",
    "import sys\n",
    "import numpy as np\n",
    "import lasagne as L\n",
    "\n",
    "sys.path.append('../')\n",
    "sys.path.append('../scripts/')\n",
    "\n",
    "from os.path import join\n",
    "from squad_tools import load_glove\n",
    "from AnswerBot import AnswerBot\n",
    "from QANet import QANet\n",
    "from my_tokenize import tokenize"
   ]
  },
  {
   "cell_type": "code",
   "execution_count": 2,
   "metadata": {
    "collapsed": true
   },
   "outputs": [],
   "source": [
    "glove_path = '/pio/data/data/glove_vec/6B/glove.6B.300d.txt'\n",
    "squad_base_path = '/pio/data/data/squad/'\n",
    "\n",
    "squad_path = join(squad_base_path, 'preproc')\n",
    "glove_words, glove_embs = load_glove(glove_path)\n",
    "w_to_i = {w:i for (i,w) in enumerate(glove_words)}\n",
    "voc_size = glove_embs.shape[0]\n",
    "NAW_token = glove_words.index('<not_a_word>')"
   ]
  },
  {
   "cell_type": "markdown",
   "metadata": {},
   "source": [
    "# Demo"
   ]
  },
  {
   "cell_type": "code",
   "execution_count": 4,
   "metadata": {},
   "outputs": [
    {
     "name": "stdout",
     "output_type": "stream",
     "text": [
      "Building the model...\n",
      "Using dropout after wiq calculation.\n",
      "Compiling theano functions:\n",
      "    get_intermediate_results_fn...\n",
      "    get_start_probs_fn...\n",
      "    get_end_probs_fn...\n",
      "Done\n",
      "Building the model...\n",
      "Using dropout after wiq calculation.\n",
      "Compiling theano functions:\n",
      "    get_intermediate_results_fn...\n",
      "    get_start_probs_fn...\n",
      "    get_end_probs_fn...\n",
      "Done\n"
     ]
    }
   ],
   "source": [
    "abot = AnswerBot(\n",
    "    '../models/best/model.ep09.npz',\n",
    "    glove_embs,\n",
    "    glove_words,\n",
    "    train_unk=True,\n",
    "    negative=False,\n",
    "    conv='valid')\n",
    "\n",
    "abot_neg = AnswerBot(\n",
    "    '../models/model_neg03/model.ep07.npz',\n",
    "    glove_embs,\n",
    "    glove_words,\n",
    "    train_unk=True,\n",
    "    negative=True,\n",
    "    conv='full')"
   ]
  },
  {
   "cell_type": "code",
   "execution_count": 6,
   "metadata": {},
   "outputs": [
    {
     "data": {
      "text/plain": [
       "[([u'101', u'days'], 0.93698061)]"
      ]
     },
     "execution_count": 6,
     "metadata": {},
     "output_type": "execute_result"
    }
   ],
   "source": [
    "# x is a fragment in natural language, qs are questions\n",
    "# examples of usage are shown below\n",
    "\n",
    "x = u\"The torch relay started on 24 October 2017 in Greece and ended at \"\\\n",
    "     \"the start of the Olympics on 9 February 2018. On 1 November 2017 the relay \"\\\n",
    "     \"entered Korea. The relay lasted 101 days. There were 7,500 torch bearers to \"\\\n",
    "     \"represent the Korean population of 75 million people. There were also 2018 support \"\\\n",
    "     \"runners to guard the torch and act as messengers.\"\n",
    "    \n",
    "q = u\"How long was the torch relay?\"\n",
    "abot.get_answers([q], [x])"
   ]
  },
  {
   "cell_type": "code",
   "execution_count": 72,
   "metadata": {},
   "outputs": [
    {
     "name": "stdout",
     "output_type": "stream",
     "text": [
      "[([u'15', u'july', u'1410'], 0.94606912), ([u'1', u'march', u'1810'], 0.70233828)]\n",
      "[([u'15', u'july', u'1410'], 0.53974926), (['<not_a_word>'], 0.959436)]\n"
     ]
    }
   ],
   "source": [
    "x1 = u\"The Battle of Grunwald, First Battle of Tannenberg or Battle of Žalgiris, was fought on 15 July 1410 during the Polish–Lithuanian–Teutonic War. The alliance of the Kingdom of Poland and the Grand Duchy of Lithuania, led respectively by King Władysław II Jagiełło (Jogaila) and Grand Duke Vytautas, decisively defeated the German–Prussian Teutonic Knights, led by Grand Master Ulrich von Jungingen.\"\n",
    "x2 = u'Frédéric François Chopin (1 March 1810 – 17 October 1849) was a Polish composer and virtuoso pianist of the Romantic era who wrote primarily for the solo piano. He gained and has maintained renown worldwide as a leading musician of his era, whose \"poetic genius was based on a professional technique that was without equal in his generation.\"'\n",
    "\n",
    "q = u\"When was Battle of Grunwald?\"\n",
    "print abot.get_answers([q,q], [x1,x2])\n",
    "print abot_neg.get_answers([q,q], [x1,x2])"
   ]
  },
  {
   "cell_type": "markdown",
   "metadata": {},
   "source": [
    "### Samples from SQuAD dev"
   ]
  },
  {
   "cell_type": "code",
   "execution_count": 6,
   "metadata": {
    "collapsed": true
   },
   "outputs": [],
   "source": [
    "import json\n",
    "\n",
    "with open(join(squad_path, 'dev.json')) as f:\n",
    "    dev = json.load(f)"
   ]
  },
  {
   "cell_type": "code",
   "execution_count": 42,
   "metadata": {},
   "outputs": [
    {
     "name": "stdout",
     "output_type": "stream",
     "text": [
      "other green spaces in the city include the botanic garden and the university library garden . they have extensive botanical collection of rare domestic and foreign plants , while a palm house in the new orangery displays plants of subtropics from all over the world . besides , within the city borders , there are also : pole mokotowskie ( a big park in the northern mokotów , where was the first horse racetrack and then the airport ) , park ujazdowski ( close to the sejm and john lennon street ) , park of culture and rest in powsin , by the southern city border , park skaryszewski by the right vistula bank , in praga . the oldest park in praga , the praga park , was established in 1865 – 1871 and designed by jan dobrowolski . in 1927 a zoological garden ( ogród zoologiczny ) was established on the park grounds , and in 1952 a bear run , still open today . \n",
      "\n",
      "Q: what type of space in warsaw are the botanic garden and university library garden ?\n",
      "A: [u'green', u'green', u'green']\n",
      "\n",
      "Q: where is a palm house with subtropic plants from all over the world on display ?\n",
      "A: [u'new orangery', u'new orangery', u'new orangery']\n",
      "\n",
      "Q: where was the first horse racetrack located ?\n",
      "A: [u'pole mokotowskie', u'mokot\\xf3w', u'pole mokotowskie']\n",
      "\n",
      "Q: what park is close to john lennon street ?\n",
      "A: [u'park ujazdowski', u'park ujazdowski', u'park ujazdowski']\n",
      "\n",
      "Q: when was a zoological garden established in the praga park ?\n",
      "A: [u'1927', u'1927', u'1927']\n",
      "\n"
     ]
    },
    {
     "data": {
      "text/plain": [
       "[([u'green'], 0.81224889),\n",
       " ([u'new', u'orangery'], 0.34523931),\n",
       " ([u'pole', u'mokotowskie'], 0.34411412),\n",
       " ([u'park', u'ujazdowski'], 0.95149535),\n",
       " ([u'1865', u'\\u2013', u'1871'], 0.77209204)]"
      ]
     },
     "execution_count": 42,
     "metadata": {},
     "output_type": "execute_result"
    }
   ],
   "source": [
    "start_index = 999\n",
    "num = 5\n",
    "\n",
    "x = ' '.join(dev[start_index][2])\n",
    "qs = [' '.join(d[1]) for d in dev[start_index:start_index+num]]\n",
    "anss = [d[0] for d in dev[start_index:start_index+num]]\n",
    "anss = [[a[1] for a in d] for d in anss]\n",
    "print x, '\\n'\n",
    "for i in range(len(qs)):\n",
    "    print 'Q:', qs[i]\n",
    "    print 'A:', anss[i]\n",
    "    print\n",
    "abot.get_answers(qs, [x]*len(qs))"
   ]
  },
  {
   "cell_type": "code",
   "execution_count": 43,
   "metadata": {},
   "outputs": [
    {
     "name": "stdout",
     "output_type": "stream",
     "text": [
      "following the cretaceous – paleogene extinction event , the extinction of the dinosaurs and the wetter climate may have allowed the tropical rainforest to spread out across the continent . from 66 – 34 mya , the rainforest extended as far south as 45 ° . climate fluctuations during the last 34 million years have allowed savanna regions to expand into the tropics . during the oligocene , for example , the rainforest spanned a relatively narrow band . it expanded again during the middle miocene , then retracted to a mostly inland formation at the last glacial maximum . however , the rainforest still managed to thrive during these glacial periods , allowing for the survival and evolution of a broad diversity of species . \n",
      "\n",
      "Q: which type of climate may have allowed the rainforest to spread across the continent ?\n",
      "A: [u'the wetter climate may have allowed the tropical rainforest to spread out across the continent.', u'wetter', u'wetter']\n",
      "\n",
      "Q: what has allowed for the savanna region to expand into the tropics ?\n",
      "A: [u'climate fluctuations during the last 34 million years have allowed savanna regions to expand into the tropics.', u'climate fluctuations during the last 34 million years', u'climate fluctuations']\n",
      "\n",
      "Q: during what time did the rainforest spanned a narrow band ?\n",
      "A: [u'during the oligocene, for example, the rainforest spanned a relatively narrow band.', u'oligocene', u'oligocene']\n",
      "\n",
      "Q: when did it retract to a inland formation ?\n",
      "A: [u'it expanded again during the middle miocene, then retracted to a mostly inland formation at the last glacial maximum.', u'middle miocene', u'at the last glacial maximum']\n",
      "\n",
      "Q: did the rainforest managed to thrive during the glacial periods ?\n",
      "A: [u'however, the rainforest still managed to thrive during these glacial periods, allowing for the survival and evolution of a broad diversity of species.', u'still managed to thrive']\n",
      "\n"
     ]
    },
    {
     "data": {
      "text/plain": [
       "[([u'tropical'], 0.51566482),\n",
       " ([u'climate', u'fluctuations'], 0.97780937),\n",
       " ([u'the', u'oligocene', u','], 0.19961046),\n",
       " ([u'middle', u'miocene'], 0.492405),\n",
       " ([u'still', u'managed', u'to', u'thrive'], 0.31349531)]"
      ]
     },
     "execution_count": 43,
     "metadata": {},
     "output_type": "execute_result"
    }
   ],
   "source": [
    "start_index = 4321\n",
    "num = 5\n",
    "\n",
    "x = ' '.join(dev[start_index][2])\n",
    "qs = [' '.join(d[1]) for d in dev[start_index:start_index+num]]\n",
    "anss = [d[0] for d in dev[start_index:start_index+num]]\n",
    "anss = [[a[1] for a in d] for d in anss]\n",
    "print x, '\\n'\n",
    "for i in range(len(qs)):\n",
    "    print 'Q:', qs[i]\n",
    "    print 'A:', anss[i]\n",
    "    print\n",
    "abot.get_answers(qs, [x]*len(qs))"
   ]
  },
  {
   "cell_type": "code",
   "execution_count": 61,
   "metadata": {},
   "outputs": [
    {
     "name": "stdout",
     "output_type": "stream",
     "text": [
      "quickbooks sponsored a \" small business big game \" contest , in which death wish coffee had a 30 - second commercial aired free of charge courtesy of quickbooks . death wish coffee beat out nine other contenders from across the united states for the free advertisement . \n",
      "\n",
      "Q: what company won a free advertisement due to the quickbooks contest ?\n",
      "A: [u'death wish coffee', u'death wish coffee', u'death wish coffee']\n",
      "\n",
      "Q: how long was the death wish coffee commercial ?\n",
      "A: [u'30-second', u'30-second', u'30-second']\n",
      "\n",
      "Q: besides death wish coffee , how many other competitors participated in the contest ?\n",
      "A: [u'nine', u'nine', u'nine']\n",
      "\n",
      "Q: which company won a contest to have their ad shown for free during super bowl 50 ?\n",
      "A: [u'death wish coffee', u'death wish coffee', u'death wish coffee']\n",
      "\n",
      "Q: how many other contestants did the company , that had their ad shown for free , beat out ?\n",
      "A: [u'nine', u'nine', u'nine']\n",
      "\n",
      "Q: which company sponsored a contest called \" small business big game \" ?\n",
      "A: [u'quickbooks.', u'quickbooks', u'quickbooks']\n",
      "\n"
     ]
    },
    {
     "data": {
      "text/plain": [
       "[([u'coffee'], 0.33887854),\n",
       " ([u'30', u'-', u'second'], 0.77624053),\n",
       " ([u'nine'], 0.62543964),\n",
       " ([u'quickbooks'], 0.29217994),\n",
       " ([u'nine'], 0.79637706),\n",
       " ([u'quickbooks'], 0.99977797)]"
      ]
     },
     "execution_count": 61,
     "metadata": {},
     "output_type": "execute_result"
    }
   ],
   "source": [
    "start_index = 598\n",
    "num = 6\n",
    "\n",
    "x = ' '.join(dev[start_index][2])\n",
    "qs = [' '.join(d[1]) for d in dev[start_index:start_index+num]]\n",
    "anss = [d[0] for d in dev[start_index:start_index+num]]\n",
    "anss = [[a[1] for a in d] for d in anss]\n",
    "print x, '\\n'\n",
    "for i in range(len(qs)):\n",
    "    print 'Q:', qs[i]\n",
    "    print 'A:', anss[i]\n",
    "    print\n",
    "abot.get_answers(qs, [x]*len(qs))"
   ]
  },
  {
   "cell_type": "code",
   "execution_count": 62,
   "metadata": {},
   "outputs": [
    {
     "name": "stdout",
     "output_type": "stream",
     "text": [
      "despite waiving longtime running back deangelo williams and losing top wide receiver kelvin benjamin to a torn acl in the preseason , the carolina panthers had their best regular season in franchise history , becoming the seventh team to win at least 15 regular season games since the league expanded to a 16 - game schedule in 1978 . carolina started the season 14 – 0 , not only setting franchise records for the best start and the longest single - season winning streak , but also posting the best start to a season by an nfc team in nfl history , breaking the 13 – 0 record previously shared with the 2009 new orleans saints and the 2011 green bay packers . with their nfc - best 15 – 1 regular season record , the panthers clinched home - field advantage throughout the nfc playoffs for the first time in franchise history . ten players were selected to the pro bowl ( the most in franchise history ) along with eight all - pro selections . \n",
      "\n",
      "Q: who had the best record in the nfc ?\n",
      "A: [u'carolina panthers', u'the panthers', u'carolina']\n",
      "\n",
      "Q: how many panthers went to the pro bowl ?\n",
      "A: [u'ten', u'ten', u'ten']\n",
      "\n",
      "Q: how many panthers were designated all - pro ?\n",
      "A: [u'eight', u'eight', u'eight']\n",
      "\n",
      "Q: what panther tore his acl in the preseason ?\n",
      "A: [u'kelvin benjamin', u'kelvin benjamin', u'benjamin']\n",
      "\n",
      "Q: what year did the league begin having schedules with 16 games in them ?\n",
      "A: [u'1978', u'1978', u'1978']\n",
      "\n",
      "Q: what year did the the saints hit a 13 - 0 record ?\n",
      "A: [u'2009', u'2009', u'2009']\n",
      "\n"
     ]
    },
    {
     "data": {
      "text/plain": [
       "[([u'carolina', u'panthers'], 0.39416635),\n",
       " ([u'ten'], 0.73643702),\n",
       " ([u'eight'], 0.72282839),\n",
       " ([u'kelvin', u'benjamin'], 0.93562293),\n",
       " ([u'1978'], 0.99421757),\n",
       " ([u'2009'], 0.93824393)]"
      ]
     },
     "execution_count": 62,
     "metadata": {},
     "output_type": "execute_result"
    }
   ],
   "source": [
    "start_index = 200\n",
    "num = 6\n",
    "\n",
    "x = ' '.join(dev[start_index][2])\n",
    "qs = [' '.join(d[1]) for d in dev[start_index:start_index+num]]\n",
    "anss = [d[0] for d in dev[start_index:start_index+num]]\n",
    "anss = [[a[1] for a in d] for d in anss]\n",
    "print x, '\\n'\n",
    "for i in range(len(qs)):\n",
    "    print 'Q:', qs[i]\n",
    "    print 'A:', anss[i]\n",
    "    print\n",
    "abot.get_answers(qs, [x]*len(qs))"
   ]
  },
  {
   "cell_type": "code",
   "execution_count": 69,
   "metadata": {},
   "outputs": [
    {
     "name": "stdout",
     "output_type": "stream",
     "text": [
      "sir charles lyell first published his famous book , principles of geology , in 1830 . this book , which influenced the thought of charles darwin , successfully promoted the doctrine of uniformitarianism . this theory states that slow geological processes have occurred throughout the earth ' s history and are still occurring today . in contrast , catastrophism is the theory that earth ' s features formed in single , catastrophic events and remained unchanged thereafter . though hutton believed in uniformitarianism , the idea was not widely accepted at the time . \n",
      "\n",
      "Q: first published by sir charles lyell in 1830 this book was called what ?\n",
      "A: [u'principles of geology', u'principles of geology', u'principles of geology']\n",
      "\n",
      "Q: what doctrine did the doctrine of the principles of geology successfully promote ?\n",
      "A: [u'uniformitarianism', u'uniformitarianism', u'uniformitarianism']\n",
      "\n",
      "Q: which theory states that slow geological processes are still occurring today , and have occurred throughout earth ' s history ?\n",
      "A: [u'uniformitarianism', u'uniformitarianism', u'uniformitarianism']\n",
      "\n",
      "Q: which theory states that earth ' s features remained unchanged after forming in one single catastrophic event ?\n",
      "A: [u'catastrophism', u'catastrophism', u'catastrophism']\n",
      "\n",
      "Q: which famous evolutionist was influenced by the book principles of geology ?\n",
      "A: [u'charles darwin', u'charles darwin', u'charles darwin']\n",
      "\n"
     ]
    },
    {
     "data": {
      "text/plain": [
       "[([u'principles', u'of', u'geology'], 0.96457863),\n",
       " ([u'the', u'doctrine', u'of', u'uniformitarianism'], 0.63317519),\n",
       " ([u'uniformitarianism'], 0.47548464),\n",
       " ([u'catastrophism'], 0.99940991),\n",
       " ([u'charles', u'darwin'], 0.6520983)]"
      ]
     },
     "execution_count": 69,
     "metadata": {},
     "output_type": "execute_result"
    }
   ],
   "source": [
    "start_index = 5132\n",
    "num = 5\n",
    "\n",
    "x = ' '.join(dev[start_index][2])\n",
    "qs = [' '.join(d[1]) for d in dev[start_index:start_index+num]]\n",
    "anss = [d[0] for d in dev[start_index:start_index+num]]\n",
    "anss = [[a[1] for a in d] for d in anss]\n",
    "print x, '\\n'\n",
    "for i in range(len(qs)):\n",
    "    print 'Q:', qs[i]\n",
    "    print 'A:', anss[i]\n",
    "    print\n",
    "abot.get_answers(qs, [x]*len(qs))"
   ]
  },
  {
   "cell_type": "markdown",
   "metadata": {},
   "source": [
    "### For negative examples"
   ]
  },
  {
   "cell_type": "code",
   "execution_count": 16,
   "metadata": {},
   "outputs": [
    {
     "name": "stdout",
     "output_type": "stream",
     "text": [
      "jacksonville is the largest city by population in the u . s . state of florida , and the largest city by area in the contiguous united states . it is the county seat of duval county , with which the city government consolidated in 1968 . consolidation gave jacksonville its great size and placed most of its metropolitan population within the city limits ; with an estimated population of 853 , 382 in 2014 , it is the most populous city proper in florida and the southeast , and the 12th most populous in the united states . jacksonville is the principal city in the jacksonville metropolitan area , with a population of 1 , 345 , 596 in 2010 . \n",
      "\n",
      "Q: which florida city has the biggest population ?\n",
      "A: [u'jacksonville', u'jacksonville', u'jacksonville']\n",
      "\n",
      "Q: what was the population jacksonville city as of 2010 ?\n",
      "A: [u'1,345,596', u'1,345,596', u'1,345,596']\n",
      "\n",
      "Q: based on population alone , what is jacksonville ' s ranking in the united states ?\n",
      "A: [u'12th', u'12th', u'12th']\n",
      "\n",
      "[([u'jacksonville'], 0.91970539), ([u'1', u',', u'345', u',', u'596'], 0.99642736), ([u'12th'], 0.6338985)]\n",
      "[([u'jacksonville'], 0.54841322), ([u'1', u',', u'345', u',', u'596'], 0.40783593), ([u'12th'], 0.45269045)]\n",
      "\n",
      "Q n: What is the population of Los Angeles?\n",
      "Q n: What is the smallest city in Oklahoma?\n",
      "Q n: Who founded Jacksonville?\n",
      "\n",
      "[([u'853', u',', u'382'], 0.67596269), ([u'jacksonville'], 0.80065739), ([u'population'], 0.21615484)]\n",
      "[(['<not_a_word>'], 0.62657636), (['<not_a_word>'], 0.5996092), ([u'population', u'in', u'the', u'u', u'.', u's', u'.', u'state', u'of', u'florida'], 0.35131937)]\n"
     ]
    }
   ],
   "source": [
    "start_index = 7235\n",
    "num = 3\n",
    "\n",
    "x = ' '.join(dev[start_index][2])\n",
    "qs = [' '.join(d[1]) for d in dev[start_index:start_index+num]]\n",
    "anss = [d[0] for d in dev[start_index:start_index+num]]\n",
    "anss = [[a[1] for a in d] for d in anss]\n",
    "print x, '\\n'\n",
    "for i in range(len(qs)):\n",
    "    print 'Q:', qs[i]\n",
    "    print 'A:', anss[i]\n",
    "    print\n",
    "print abot.get_answers(qs, [x]*len(qs))\n",
    "print abot_neg.get_answers(qs, [x]*len(qs))\n",
    "\n",
    "negqs = [u'What is the population of Los Angeles?',\n",
    "         u'What is the smallest city in Oklahoma?',\n",
    "         u'Who founded Jacksonville?']\n",
    "print \n",
    "for i in range(len(negqs)):\n",
    "    print 'Q n:', negqs[i]\n",
    "print\n",
    "    \n",
    "print abot.get_answers(negqs, [x]*len(negqs))\n",
    "print abot_neg.get_answers(negqs, [x]*len(negqs))"
   ]
  },
  {
   "cell_type": "code",
   "execution_count": 73,
   "metadata": {},
   "outputs": [
    {
     "name": "stdout",
     "output_type": "stream",
     "text": [
      "luther justified his opposition to the rebels on three grounds . first , in choosing violence over lawful submission to the secular government , they were ignoring christ ' s counsel to \" render unto caesar the things that are caesar ' s \" ; st . paul had written in his epistle to the romans 13 : 1 – 7 that all authorities are appointed by god and therefore should not be resisted . this reference from the bible forms the foundation for the doctrine known as the divine right of kings , or , in the german case , the divine right of the princes . second , the violent actions of rebelling , robbing , and plundering placed the peasants \" outside the law of god and empire \" , so they deserved \" death in body and soul , if only as highwaymen and murderers . \" lastly , luther charged the rebels with blasphemy for calling themselves \" christian brethren \" and committing their sinful acts under the banner of the gospel . \n",
      "\n",
      "Q: what were the protesters doing with christ ' s counsel ?\n",
      "A: [u\"ignoring christ's counsel\", u'ignoring', u'ignoring']\n",
      "\n",
      "Q: by whom did st paul say all authorities were appointed ?\n",
      "A: [u'god', u'god', u'god']\n",
      "\n",
      "Q: what is this doctrine of god appointing authorities called ?\n",
      "A: [u'divine right of kings', u'divine right of kings', u'divine right of kings']\n",
      "\n",
      "[([u'render', u'unto', u'caesar', u'the', u'things'], 0.40775216), ([u'god'], 0.99718887), ([u'the', u'divine', u'right', u'of', u'kings'], 0.63506085)]\n",
      "[(['<not_a_word>'], 0.36165848), ([u'god'], 0.88718611), (['<not_a_word>'], 0.39315102)]\n",
      "\n",
      "Q n: Who was Martin Luther?\n",
      "Q n: How many epistles did St. Paul write?\n",
      "Q n: When did Luther annouce his three treatises?\n",
      "\n",
      "[([u'the', u'rebels', u'with', u'blasphemy'], 0.28616667), ([u'13', u':', u'1', u'\\u2013', u'7'], 0.6227057), ([u'second'], 0.21990745)]\n",
      "[(['<not_a_word>'], 0.71958655), ([u'three'], 0.41325924), (['<not_a_word>'], 0.96411198)]\n"
     ]
    }
   ],
   "source": [
    "start_index = 2341\n",
    "num = 3\n",
    "\n",
    "x = ' '.join(dev[start_index][2])\n",
    "qs = [' '.join(d[1]) for d in dev[start_index:start_index+num]]\n",
    "anss = [d[0] for d in dev[start_index:start_index+num]]\n",
    "anss = [[a[1] for a in d] for d in anss]\n",
    "print x, '\\n'\n",
    "for i in range(len(qs)):\n",
    "    print 'Q:', qs[i]\n",
    "    print 'A:', anss[i]\n",
    "    print\n",
    "print abot.get_answers(qs, [x]*len(qs))\n",
    "print abot_neg.get_answers(qs, [x]*len(qs))\n",
    "\n",
    "negqs = [u'Who was Martin Luther?',\n",
    "         u'How many epistles did St. Paul write?',\n",
    "         u'When did Luther annouce his three treatises?']\n",
    "print \n",
    "for i in range(len(negqs)):\n",
    "    print 'Q n:', negqs[i]\n",
    "print\n",
    "    \n",
    "print abot.get_answers(negqs, [x]*len(negqs))\n",
    "print abot_neg.get_answers(negqs, [x]*len(negqs))"
   ]
  },
  {
   "cell_type": "code",
   "execution_count": 89,
   "metadata": {},
   "outputs": [
    {
     "name": "stdout",
     "output_type": "stream",
     "text": [
      "in a report , published in early february 2007 by the ear institute at the university college london , and widex , a danish hearing aid manufacturer , newcastle was named as the noisiest city in the whole of the uk , with an average level of 80 . 4 decibels . the report claimed that these noise levels would have a negative long - term impact on the health of the city ' s residents . the report was criticized , however , for attaching too much weight to readings at arbitrarily selected locations , which in newcastle ' s case included a motorway underpass without pedestrian access . \n",
      "\n",
      "Q: what ' s the average decibel level of noise in newcastle ?\n",
      "A: [u'80.4', u'80.4', u'80.4 decibels']\n",
      "\n",
      "Q: what type of impact can the residents of newcastle expect the city ' s noise to have on them ?\n",
      "A: [u'negative', u'negative long-term', u'negative long-term impact on the health']\n",
      "\n",
      "Q: what was one location the noise readings in newcastle were taken at ?\n",
      "A: [u'a motorway underpass', u'a motorway underpass', u'a motorway underpass']\n",
      "\n",
      "[([u'80', u'.', u'4', u'decibels'], 0.71676922), ([u'negative', u'long', u'-', u'term'], 0.34708109), ([u'motorway', u'underpass'], 0.25219619)]\n",
      "[([u'80', u'.', u'4', u'decibels'], 0.8274619), ([u'negative', u'long', u'-', u'term', u'impact'], 0.41437843), (['<not_a_word>'], 0.27052519)]\n",
      "\n",
      "Q n: When was Widex founded?\n",
      "Q n: How many UK citizens have hearing problems?\n",
      "Q n: What is the average length of a motorway?\n",
      "\n",
      "[([u'february', u'2007'], 0.81789595), ([u'80', u'.', u'4'], 0.46142423), ([u'80', u'.', u'4', u'decibels'], 0.9264515)]\n",
      "[(['<not_a_word>'], 0.34613433), (['<not_a_word>'], 0.56907463), ([u'80', u'.', u'4', u'decibels'], 0.61078656)]\n"
     ]
    }
   ],
   "source": [
    "start_index = 5253\n",
    "num = 3\n",
    "\n",
    "x = ' '.join(dev[start_index][2])\n",
    "qs = [' '.join(d[1]) for d in dev[start_index:start_index+num]]\n",
    "anss = [d[0] for d in dev[start_index:start_index+num]]\n",
    "anss = [[a[1] for a in d] for d in anss]\n",
    "print x, '\\n'\n",
    "for i in range(len(qs)):\n",
    "    print 'Q:', qs[i]\n",
    "    print 'A:', anss[i]\n",
    "    print\n",
    "print abot.get_answers(qs, [x]*len(qs))\n",
    "print abot_neg.get_answers(qs, [x]*len(qs))\n",
    "\n",
    "negqs = [u'When was Widex founded?',\n",
    "         u'How many UK citizens have hearing problems?',\n",
    "         u'What is the average length of a motorway?']\n",
    "print \n",
    "for i in range(len(negqs)):\n",
    "    print 'Q n:', negqs[i]\n",
    "print\n",
    "    \n",
    "print abot.get_answers(negqs, [x]*len(negqs))\n",
    "print abot_neg.get_answers(negqs, [x]*len(negqs))"
   ]
  }
 ],
 "metadata": {
  "kernelspec": {
   "display_name": "Python 2",
   "language": "python",
   "name": "python2"
  },
  "language_info": {
   "codemirror_mode": {
    "name": "ipython",
    "version": 2
   },
   "file_extension": ".py",
   "mimetype": "text/x-python",
   "name": "python",
   "nbconvert_exporter": "python",
   "pygments_lexer": "ipython2",
   "version": "2.7.13"
  }
 },
 "nbformat": 4,
 "nbformat_minor": 2
}
