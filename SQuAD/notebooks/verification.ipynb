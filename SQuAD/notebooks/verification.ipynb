{
 "cells": [
  {
   "cell_type": "code",
   "execution_count": 1,
   "metadata": {},
   "outputs": [
    {
     "name": "stderr",
     "output_type": "stream",
     "text": [
      "Using cuDNN version 5105 on context None\n",
      "Preallocating 906/3020 Mb (0.300000) on cuda\n",
      "Mapped name None to device cuda: GeForce GTX 780 (0000:01:00.0)\n"
     ]
    }
   ],
   "source": [
    "import os\n",
    "\n",
    "%load_ext autoreload\n",
    "%autoreload 1\n",
    "\n",
    "import numpy as np\n",
    "import lasagne as L\n",
    "\n",
    "import sys\n",
    "sys.path.append('../')"
   ]
  },
  {
   "cell_type": "code",
   "execution_count": 2,
   "metadata": {},
   "outputs": [
    {
     "name": "stdout",
     "output_type": "stream",
     "text": [
      "floatX == float32\n",
      "device == cuda\n"
     ]
    }
   ],
   "source": [
    "%aimport QANet"
   ]
  },
  {
   "cell_type": "code",
   "execution_count": 3,
   "metadata": {
    "collapsed": true
   },
   "outputs": [],
   "source": [
    "glove_ver = '840B'\n",
    "\n",
    "glove_path = '/pio/data/data/glove_vec/' + glove_ver + '/glove/'\n",
    "glove_embs = np.load(glove_path + 'glove.' + glove_ver + '.300d.npy')\n",
    "voc_size = glove_embs.shape[0]"
   ]
  },
  {
   "cell_type": "code",
   "execution_count": 27,
   "metadata": {
    "collapsed": true
   },
   "outputs": [],
   "source": [
    "glove_words_fname = 'glove.' + glove_ver + '.wordlist.pkl'\n",
    "glove_words_path  = '/pio/data/data/glove_vec/' + glove_ver + '/glove/' + glove_words_fname\n",
    "glove_words = np.load(glove_words_path)\n",
    "NAW_token = glove_words.index('<not_a_word>')"
   ]
  },
  {
   "cell_type": "markdown",
   "metadata": {},
   "source": [
    "# Weryfikacja modeli"
   ]
  },
  {
   "cell_type": "code",
   "execution_count": 5,
   "metadata": {
    "collapsed": true
   },
   "outputs": [],
   "source": [
    "squad_base_path = '/pio/data/data/squad/'\n",
    "squad_path = squad_base_path + 'glove' + glove_ver + '/'"
   ]
  },
  {
   "cell_type": "code",
   "execution_count": 7,
   "metadata": {},
   "outputs": [
    {
     "name": "stdout",
     "output_type": "stream",
     "text": [
      "Only positive samples.\n"
     ]
    }
   ],
   "source": [
    "from squad_tools import load_squad_train, filter_empty_answers, trim_data\n",
    "\n",
    "train_data = load_squad_train(squad_path)\n",
    "train_data = filter_empty_answers(train_data)\n",
    "train_data = trim_data(train_data, 300)"
   ]
  },
  {
   "cell_type": "code",
   "execution_count": 28,
   "metadata": {},
   "outputs": [
    {
     "name": "stdout",
     "output_type": "stream",
     "text": [
      "Adding NAW token to dev set.\n"
     ]
    }
   ],
   "source": [
    "from squad_tools import load_squad_dev\n",
    "\n",
    "dev_data = load_squad_dev(squad_base_path, squad_path, make_negative=True, NAW_token=NAW_token)"
   ]
  },
  {
   "cell_type": "code",
   "execution_count": 29,
   "metadata": {
    "scrolled": true
   },
   "outputs": [
    {
     "name": "stdout",
     "output_type": "stream",
     "text": [
      "Building the model...\n",
      "Using dropout after wiq calculation.\n",
      "Compiling theano functions:\n",
      "    get_intermediate_results_fn...\n",
      "    get_start_probs_fn...\n",
      "    get_end_probs_fn...\n",
      "Done\n",
      "CPU times: user 9.47 s, sys: 81.9 ms, total: 9.55 s\n",
      "Wall time: 9.44 s\n"
     ]
    }
   ],
   "source": [
    "%%time\n",
    "qa_net = QANet.QANet(voc_size=voc_size,\n",
    "                     dev_data=dev_data,\n",
    "                     emb_init=glove_embs,\n",
    "                     emb_dropout=True,\n",
    "                     skip_train_fn=True,\n",
    "                     train_unk=True,\n",
    "                     negative=True,\n",
    "                     prefetch_word_embs=True)"
   ]
  },
  {
   "cell_type": "code",
   "execution_count": 10,
   "metadata": {
    "collapsed": true
   },
   "outputs": [],
   "source": [
    "qa_net.load_params('trained_models/glove_vocab/wiki_negative/charemb_trainNAW_dropout_memory_crashed/charemb_trainNAW_dropout_ep5.npz', glove_embs)"
   ]
  },
  {
   "cell_type": "code",
   "execution_count": 8,
   "metadata": {
    "collapsed": true
   },
   "outputs": [],
   "source": [
    "qa_net.load_params('../models/840B/best/model.ep09.npz', glove_embs)"
   ]
  },
  {
   "cell_type": "code",
   "execution_count": 30,
   "metadata": {
    "collapsed": true
   },
   "outputs": [],
   "source": [
    "qa_net.load_params('../models/840B/best_neg/model.ep10.npz', glove_embs)"
   ]
  },
  {
   "cell_type": "code",
   "execution_count": 9,
   "metadata": {
    "collapsed": true
   },
   "outputs": [],
   "source": [
    "for batch in qa_net._iterate_minibatches(dev_data[-3:], 10, with_answer_inds=False):\n",
    "    inter_res = qa_net.get_intermediate_results_fn(*batch)\n",
    "    break"
   ]
  },
  {
   "cell_type": "code",
   "execution_count": 23,
   "metadata": {},
   "outputs": [
    {
     "data": {
      "text/plain": [
       "[(0.20208944, u'what'),\n",
       " (0.57205999, u'does'),\n",
       " (0.0076373792, u'afc'),\n",
       " (0.056363955, u'stand'),\n",
       " (0.16111681, u'for'),\n",
       " (0.00073242665, u'?')]"
      ]
     },
     "execution_count": 23,
     "metadata": {},
     "output_type": "execute_result"
    }
   ],
   "source": [
    "i = 9\n",
    "\n",
    "zip(inter_res[2][i], dev_data[1][i][1])"
   ]
  },
  {
   "cell_type": "code",
   "execution_count": 5,
   "metadata": {
    "collapsed": true
   },
   "outputs": [],
   "source": [
    "qa_net.load_params('trained_models/glove6B/charemb_fixed_dropout2/charemb_fixed_dropout2_ep3.npz', glove_embs)"
   ]
  },
  {
   "cell_type": "code",
   "execution_count": 31,
   "metadata": {},
   "outputs": [
    {
     "name": "stdout",
     "output_type": "stream",
     "text": [
      "Calculating validation F1...\n",
      "Done 2500 examples\n",
      "Done 5000 examples\n",
      "Done 7500 examples\n",
      "Done 10000 examples\n",
      "Predictions done\n",
      "F1:  60.3167757659\n",
      "EM:  53.6707663198\n",
      "CPU times: user 1min, sys: 1.49 s, total: 1min 1s\n",
      "Wall time: 1min 1s\n"
     ]
    },
    {
     "data": {
      "text/plain": [
       "60.316775765885865"
      ]
     },
     "execution_count": 31,
     "metadata": {},
     "output_type": "execute_result"
    }
   ],
   "source": [
    "%%time\n",
    "qa_net.calc_dev_f1(0) # best_neg neg"
   ]
  },
  {
   "cell_type": "code",
   "execution_count": 12,
   "metadata": {},
   "outputs": [
    {
     "name": "stdout",
     "output_type": "stream",
     "text": [
      "Calculating validation F1...\n",
      "Done 2500 examples\n",
      "Done 5000 examples\n",
      "Done 7500 examples\n",
      "Done 10000 examples\n",
      "Predictions done\n",
      "F1:  71.4700068683\n",
      "EM:  61.9962157048\n",
      "CPU times: user 1min, sys: 1.45 s, total: 1min 1s\n",
      "Wall time: 1min 1s\n"
     ]
    },
    {
     "data": {
      "text/plain": [
       "71.47000686829753"
      ]
     },
     "execution_count": 12,
     "metadata": {},
     "output_type": "execute_result"
    }
   ],
   "source": [
    "%%time\n",
    "qa_net.calc_dev_f1(0) # float32, intermediate"
   ]
  },
  {
   "cell_type": "code",
   "execution_count": null,
   "metadata": {
    "collapsed": true
   },
   "outputs": [],
   "source": [
    "'''\n",
    "best:\n",
    "    Pos: F1: 71.47   Exact: 61.99\n",
    "best_neg:\n",
    "    Pos: F1: 71.07   Exact: 62.08\n",
    "    Neg: F1: 60.31   Exact: 53.67\n",
    "'''\n",
    "\n",
    "\n",
    "'''\n",
    "OLD\n",
    "\n",
    "charemb_trainNAW_dropout_memory_crashed/charemb_trainNAW_dropout_ep5.npz\n",
    "    Pos: F1: 68.12   Exact: 58.04\n",
    "    Neg: F1: 60.17   Exact: 51.84\n",
    "    \n",
    "    Classification task:\n",
    "        [[TN=9857  FP= 455]\n",
    "         [FN=1275  TP=9295]]\n",
    "    \n",
    "charemb_glove_fixed_dropout_ep13.npz\n",
    "    Pos: F1: 69.56   Exact: 59.33\n",
    "'''"
   ]
  }
 ],
 "metadata": {
  "kernelspec": {
   "display_name": "Python 2",
   "language": "python",
   "name": "python2"
  },
  "language_info": {
   "codemirror_mode": {
    "name": "ipython",
    "version": 2
   },
   "file_extension": ".py",
   "mimetype": "text/x-python",
   "name": "python",
   "nbconvert_exporter": "python",
   "pygments_lexer": "ipython2",
   "version": "2.7.13"
  }
 },
 "nbformat": 4,
 "nbformat_minor": 2
}
