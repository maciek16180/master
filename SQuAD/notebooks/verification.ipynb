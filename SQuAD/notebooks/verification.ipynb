{
 "cells": [
  {
   "cell_type": "code",
   "execution_count": null,
   "metadata": {
    "collapsed": true
   },
   "outputs": [],
   "source": [
    "# This is a notebook for model validation, for my own purposes."
   ]
  },
  {
   "cell_type": "code",
   "execution_count": 1,
   "metadata": {},
   "outputs": [
    {
     "name": "stderr",
     "output_type": "stream",
     "text": [
      "Using cuDNN version 5105 on context None\n",
      "Preallocating 3661/12204 Mb (0.300000) on cuda"
     ]
    },
    {
     "name": "stdout",
     "output_type": "stream",
     "text": [
      "floatX == float32\n",
      "device == cuda\n"
     ]
    },
    {
     "name": "stderr",
     "output_type": "stream",
     "text": [
      "\n",
      "Mapped name None to device cuda: GeForce GTX TITAN X (0000:01:00.0)\n"
     ]
    }
   ],
   "source": [
    "import os\n",
    "import sys\n",
    "import numpy as np\n",
    "import lasagne as L\n",
    "\n",
    "sys.path.append('../')\n",
    "sys.path.append('../scripts/')\n",
    "\n",
    "from squad_tools import load_glove, load_squad_dev\n",
    "from os.path import join\n",
    "from QANet import QANet"
   ]
  },
  {
   "cell_type": "code",
   "execution_count": 2,
   "metadata": {
    "collapsed": true
   },
   "outputs": [],
   "source": [
    "glove_path = '/pio/data/data/glove_vec/6B/glove.6B.300d.txt'\n",
    "squad_base_path = '/pio/data/data/squad/'\n",
    "squad_path = join(squad_base_path, 'preproc')\n",
    "\n",
    "glove_words, glove_embs = load_glove(glove_path)\n",
    "voc_size = glove_embs.shape[0]\n",
    "NAW_token = glove_words.index('<not_a_word>')"
   ]
  },
  {
   "cell_type": "markdown",
   "metadata": {},
   "source": [
    "# Weryfikacja modeli"
   ]
  },
  {
   "cell_type": "code",
   "execution_count": 6,
   "metadata": {
    "scrolled": true
   },
   "outputs": [
    {
     "name": "stdout",
     "output_type": "stream",
     "text": [
      "Adding NAW token to dev set.\n",
      "Building the model...\n",
      "Using dropout after wiq calculation.\n",
      "Compiling theano functions:\n",
      "    get_intermediate_results_fn...\n",
      "    get_start_probs_fn...\n",
      "    get_end_probs_fn...\n",
      "Done\n",
      "CPU times: user 14.1 s, sys: 332 ms, total: 14.4 s\n",
      "Wall time: 17.4 s\n"
     ]
    }
   ],
   "source": [
    "%%time\n",
    "negative = True  # whether or not to use negative model\n",
    "train_unk = True\n",
    "\n",
    "if not negative:\n",
    "    model_fname = '../models/best/model.ep09.npz'\n",
    "    conv = 'valid'\n",
    "else:\n",
    "    # this was trained with squad-rng, wiki-neg, wiki-pos\n",
    "    model_fname = '../models/model_neg03/model.ep07.npz'\n",
    "    conv = 'full'\n",
    "    \n",
    "dev_data = load_squad_dev(\n",
    "    squad_base_path, \n",
    "    squad_path, \n",
    "    lower_raw=True,\n",
    "    make_negative=negative, \n",
    "    NAW_token=NAW_token)\n",
    "\n",
    "qa_net = QANet(\n",
    "    voc_size=voc_size,\n",
    "    dev_data=dev_data,\n",
    "    emb_init=glove_embs,\n",
    "    skip_train_fn=True,\n",
    "    train_unk=train_unk,\n",
    "    negative=negative,\n",
    "    conv=conv)\n",
    "\n",
    "qa_net.load_params(model_fname)"
   ]
  },
  {
   "cell_type": "code",
   "execution_count": 5,
   "metadata": {},
   "outputs": [
    {
     "name": "stdout",
     "output_type": "stream",
     "text": [
      "Calculating validation F1...\n",
      "Done 2500 examples\n",
      "Done 5000 examples\n",
      "Done 7500 examples\n",
      "Done 10000 examples\n",
      "Predictions done\n",
      "Getting answers...\n",
      "Done\n",
      "F1:  72.34538298\n",
      "EM:  63.1031220435\n",
      "CPU times: user 46.5 s, sys: 688 ms, total: 47.2 s\n",
      "Wall time: 47.5 s\n"
     ]
    },
    {
     "data": {
      "text/plain": [
       "72.34538298000702"
      ]
     },
     "execution_count": 5,
     "metadata": {},
     "output_type": "execute_result"
    }
   ],
   "source": [
    "%%time\n",
    "# with negative=False (default)\n",
    "qa_net.calc_dev_f1(0)"
   ]
  },
  {
   "cell_type": "code",
   "execution_count": 7,
   "metadata": {},
   "outputs": [
    {
     "name": "stdout",
     "output_type": "stream",
     "text": [
      "Calculating validation F1...\n",
      "Done 2500 examples\n",
      "Done 5000 examples\n",
      "Done 7500 examples\n",
      "Done 10000 examples\n",
      "Predictions done\n",
      "Getting answers...\n",
      "Done\n",
      "F1:  57.8313072749\n",
      "EM:  50.8514664144\n",
      "CPU times: user 49 s, sys: 700 ms, total: 49.7 s\n",
      "Wall time: 49.6 s\n"
     ]
    },
    {
     "data": {
      "text/plain": [
       "57.8313072748809"
      ]
     },
     "execution_count": 7,
     "metadata": {},
     "output_type": "execute_result"
    }
   ],
   "source": [
    "%%time\n",
    "# with negative=True (F1 neg)\n",
    "qa_net.calc_dev_f1(0)"
   ]
  }
 ],
 "metadata": {
  "kernelspec": {
   "display_name": "Python 2",
   "language": "python",
   "name": "python2"
  },
  "language_info": {
   "codemirror_mode": {
    "name": "ipython",
    "version": 2
   },
   "file_extension": ".py",
   "mimetype": "text/x-python",
   "name": "python",
   "nbconvert_exporter": "python",
   "pygments_lexer": "ipython2",
   "version": "2.7.13"
  }
 },
 "nbformat": 4,
 "nbformat_minor": 2
}
