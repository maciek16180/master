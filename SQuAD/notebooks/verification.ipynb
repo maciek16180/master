{
 "cells": [
  {
   "cell_type": "code",
   "execution_count": 1,
   "metadata": {},
   "outputs": [
    {
     "name": "stderr",
     "output_type": "stream",
     "text": [
      "ERROR (theano.gpuarray): Could not initialize pygpu, support disabled\n",
      "Traceback (most recent call last):\n",
      "  File \"/home/i258346/.local/lib/python2.7/site-packages/theano/gpuarray/__init__.py\", line 164, in <module>\n",
      "    use(config.device)\n",
      "  File \"/home/i258346/.local/lib/python2.7/site-packages/theano/gpuarray/__init__.py\", line 151, in use\n",
      "    init_dev(device)\n",
      "  File \"/home/i258346/.local/lib/python2.7/site-packages/theano/gpuarray/__init__.py\", line 60, in init_dev\n",
      "    sched=config.gpuarray.sched)\n",
      "  File \"pygpu/gpuarray.pyx\", line 634, in pygpu.gpuarray.init\n",
      "  File \"pygpu/gpuarray.pyx\", line 584, in pygpu.gpuarray.pygpu_init\n",
      "  File \"pygpu/gpuarray.pyx\", line 1057, in pygpu.gpuarray.GpuContext.__cinit__\n",
      "GpuArrayException: cuInit: CUDA_ERROR_UNKNOWN: unknown error\n"
     ]
    }
   ],
   "source": [
    "import os\n",
    "\n",
    "%load_ext autoreload\n",
    "%autoreload 1\n",
    "\n",
    "import numpy as np\n",
    "import lasagne as L\n",
    "\n",
    "import sys\n",
    "sys.path.append('../')\n",
    "\n",
    "from squad_tools import load_dict\n",
    "from os.path import join"
   ]
  },
  {
   "cell_type": "code",
   "execution_count": 2,
   "metadata": {},
   "outputs": [
    {
     "name": "stdout",
     "output_type": "stream",
     "text": [
      "floatX == float32\n",
      "device == cuda\n"
     ]
    }
   ],
   "source": [
    "%aimport QANet"
   ]
  },
  {
   "cell_type": "code",
   "execution_count": 3,
   "metadata": {
    "collapsed": true
   },
   "outputs": [],
   "source": [
    "glove_ver = '6B'\n",
    "\n",
    "glove_path = join('/pio/data/data/glove_vec', glove_ver, 'glove')\n",
    "glove_embs = np.load(join(glove_path, 'glove.' + glove_ver + '.300d.npy'))\n",
    "voc_size = glove_embs.shape[0]"
   ]
  },
  {
   "cell_type": "code",
   "execution_count": 4,
   "metadata": {
    "collapsed": true
   },
   "outputs": [],
   "source": [
    "glove_words = load_dict(join(glove_path, '..', 'glove.' + glove_ver + '.300d.txt'))\n",
    "NAW_token = glove_words.index('<not_a_word>')"
   ]
  },
  {
   "cell_type": "markdown",
   "metadata": {},
   "source": [
    "# Weryfikacja modeli"
   ]
  },
  {
   "cell_type": "code",
   "execution_count": 5,
   "metadata": {
    "collapsed": true
   },
   "outputs": [],
   "source": [
    "squad_base_path = '/pio/data/data/squad/'\n",
    "squad_path = join(squad_base_path, 'glove' + glove_ver)"
   ]
  },
  {
   "cell_type": "code",
   "execution_count": 7,
   "metadata": {},
   "outputs": [
    {
     "name": "stdout",
     "output_type": "stream",
     "text": [
      "Only positive samples.\n"
     ]
    }
   ],
   "source": [
    "from squad_tools import load_squad_train, filter_empty_answers, trim_data\n",
    "\n",
    "train_data = load_squad_train(squad_path)\n",
    "train_data = filter_empty_answers(train_data)\n",
    "train_data = trim_data(train_data, 300)"
   ]
  },
  {
   "cell_type": "code",
   "execution_count": 6,
   "metadata": {},
   "outputs": [
    {
     "name": "stdout",
     "output_type": "stream",
     "text": [
      "Adding NAW token to dev set.\n"
     ]
    }
   ],
   "source": [
    "from squad_tools import load_squad_dev\n",
    "\n",
    "dev_data = load_squad_dev(squad_base_path, squad_path, lower_raw=glove_ver=='6B',\n",
    "                          make_negative=True, NAW_token=NAW_token)"
   ]
  },
  {
   "cell_type": "code",
   "execution_count": 13,
   "metadata": {
    "collapsed": true
   },
   "outputs": [],
   "source": [
    "from squad_tools import load_squad_dev\n",
    "\n",
    "dev_data_pos = load_squad_dev(squad_base_path, squad_path, lower_raw=glove_ver=='6B',\n",
    "                          make_negative=False, NAW_token=NAW_token)"
   ]
  },
  {
   "cell_type": "code",
   "execution_count": 24,
   "metadata": {
    "scrolled": true
   },
   "outputs": [
    {
     "name": "stdout",
     "output_type": "stream",
     "text": [
      "Building the model...\n",
      "Using dropout after wiq calculation.\n",
      "Compiling theano functions:\n",
      "    get_intermediate_results_fn...\n",
      "    get_start_probs_fn...\n",
      "    get_end_probs_fn...\n",
      "Done\n",
      "CPU times: user 8.25 s, sys: 66.6 ms, total: 8.31 s\n",
      "Wall time: 8.19 s\n"
     ]
    }
   ],
   "source": [
    "%%time\n",
    "qa_net = QANet.QANet(voc_size=voc_size,\n",
    "                     dev_data=dev_data_pos,\n",
    "                     emb_init=glove_embs,\n",
    "                     skip_train_fn=True,\n",
    "                     train_unk=True,\n",
    "                     negative=False,\n",
    "                     conv='valid')"
   ]
  },
  {
   "cell_type": "code",
   "execution_count": 25,
   "metadata": {
    "collapsed": true
   },
   "outputs": [],
   "source": [
    "qa_net.load_params('../models/6B/best/model.ep09.npz')"
   ]
  },
  {
   "cell_type": "code",
   "execution_count": 26,
   "metadata": {},
   "outputs": [
    {
     "name": "stdout",
     "output_type": "stream",
     "text": [
      "Calculating validation F1...\n",
      "Done 2500 examples\n",
      "Done 5000 examples\n",
      "Done 7500 examples\n",
      "Done 10000 examples\n",
      "Predictions done\n",
      "Getting answers...\n",
      "Done\n",
      "F1:  72.366287839\n",
      "EM:  63.1409649953\n",
      "CPU times: user 1min 4s, sys: 1.66 s, total: 1min 6s\n",
      "Wall time: 1min 6s\n"
     ]
    },
    {
     "data": {
      "text/plain": [
       "72.36628783904861"
      ]
     },
     "execution_count": 26,
     "metadata": {},
     "output_type": "execute_result"
    }
   ],
   "source": [
    "%%time\n",
    "qa_net.calc_dev_f1(0)"
   ]
  },
  {
   "cell_type": "code",
   "execution_count": null,
   "metadata": {
    "collapsed": true
   },
   "outputs": [],
   "source": [
    "'''\n",
    "best:\n",
    "    Pos: F1: 71.47   Exact: 61.99\n",
    "best_neg:\n",
    "    Pos: F1: 71.07   Exact: 62.08\n",
    "    Neg: F1: 60.31   Exact: 53.67\n",
    "'''\n",
    "\n",
    "\n",
    "'''\n",
    "OLD\n",
    "\n",
    "charemb_trainNAW_dropout_memory_crashed/charemb_trainNAW_dropout_ep5.npz\n",
    "    Pos: F1: 68.12   Exact: 58.04\n",
    "    Neg: F1: 60.17   Exact: 51.84\n",
    "    \n",
    "    Classification task:\n",
    "        [[TN=9857  FP= 455]\n",
    "         [FN=1275  TP=9295]]\n",
    "    \n",
    "charemb_glove_fixed_dropout_ep13.npz\n",
    "    Pos: F1: 69.56   Exact: 59.33\n",
    "'''"
   ]
  }
 ],
 "metadata": {
  "kernelspec": {
   "display_name": "Python 2",
   "language": "python",
   "name": "python2"
  },
  "language_info": {
   "codemirror_mode": {
    "name": "ipython",
    "version": 2
   },
   "file_extension": ".py",
   "mimetype": "text/x-python",
   "name": "python",
   "nbconvert_exporter": "python",
   "pygments_lexer": "ipython2",
   "version": "2.7.13"
  }
 },
 "nbformat": 4,
 "nbformat_minor": 2
}
