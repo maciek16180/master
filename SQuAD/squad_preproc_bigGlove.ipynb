{
 "cells": [
  {
   "cell_type": "code",
   "execution_count": 1,
   "metadata": {
    "collapsed": false
   },
   "outputs": [],
   "source": [
    "import json, nltk, io, pickle\n",
    "import numpy as np\n",
    "from itertools import chain"
   ]
  },
  {
   "cell_type": "code",
   "execution_count": 34,
   "metadata": {
    "collapsed": true
   },
   "outputs": [],
   "source": [
    "dev8_char = np.load('/pio/data/data/squad/glove840B/dev_char_ascii.pkl')"
   ]
  },
  {
   "cell_type": "code",
   "execution_count": 37,
   "metadata": {
    "collapsed": true
   },
   "outputs": [],
   "source": [
    "fixed = []\n",
    "\n",
    "for q, x in dev8_char:\n",
    "    q_fix = list(chain(*q))\n",
    "    x_fix = list(chain(*x))\n",
    "    fixed.append([q_fix, x_fix])"
   ]
  },
  {
   "cell_type": "code",
   "execution_count": 39,
   "metadata": {
    "collapsed": false
   },
   "outputs": [],
   "source": [
    "with open('/pio/data/data/squad/glove840B/dev_char_ascii.pkl', 'w') as f:\n",
    "    pickle.dump(fixed, f)"
   ]
  },
  {
   "cell_type": "markdown",
   "metadata": {},
   "source": [
    "### Read data"
   ]
  },
  {
   "cell_type": "code",
   "execution_count": 88,
   "metadata": {
    "collapsed": true
   },
   "outputs": [],
   "source": [
    "with io.open('/pio/data/data/squad/dev-v1.1.json', 'r', encoding='utf-8') as f:\n",
    "    dev = json.load(f)\n",
    "\n",
    "with io.open('/pio/data/data/squad/train-v1.1.json', 'r', encoding='utf-8') as f:\n",
    "    train = json.load(f)"
   ]
  },
  {
   "cell_type": "code",
   "execution_count": 8,
   "metadata": {
    "collapsed": false
   },
   "outputs": [],
   "source": [
    "glove6B = np.load('/pio/data/data/glove_vec/6B/glove/glove.6B.wordlist.pkl')\n",
    "glove840B = np.load('/pio/data/data/glove_vec/840B/glove/glove.840B.wordlist.pkl')"
   ]
  },
  {
   "cell_type": "code",
   "execution_count": 69,
   "metadata": {
    "collapsed": true
   },
   "outputs": [],
   "source": [
    "w_to_i_840B = {glove840B[i] : i for i in xrange(len(glove840B))}"
   ]
  },
  {
   "cell_type": "code",
   "execution_count": 26,
   "metadata": {
    "collapsed": true
   },
   "outputs": [],
   "source": [
    "train6B = np.load('/pio/data/data/squad/glove6B/train_words.pkl')"
   ]
  },
  {
   "cell_type": "code",
   "execution_count": 134,
   "metadata": {
    "collapsed": true
   },
   "outputs": [],
   "source": [
    "dev6B = np.load('/pio/data/data/squad/glove6B/dev_words.pkl')"
   ]
  },
  {
   "cell_type": "code",
   "execution_count": 89,
   "metadata": {
    "collapsed": true
   },
   "outputs": [],
   "source": [
    "data = []\n",
    "\n",
    "for par in train['data']:    \n",
    "    for con in par['paragraphs']:\n",
    "        context = con['context']\n",
    "        context_tok = nltk.word_tokenize(context)\n",
    "        \n",
    "        for q in con['qas']:\n",
    "            question = q['question']\n",
    "            question_tok = nltk.word_tokenize(question)\n",
    "                   \n",
    "            data.append([question_tok, context_tok])"
   ]
  },
  {
   "cell_type": "code",
   "execution_count": 132,
   "metadata": {
    "collapsed": true
   },
   "outputs": [],
   "source": [
    "data_dev = []\n",
    "\n",
    "for par in dev['data']:    \n",
    "    for con in par['paragraphs']:\n",
    "        context = con['context']\n",
    "        context_tok = nltk.word_tokenize(context)\n",
    "        \n",
    "        for q in con['qas']:\n",
    "            question = q['question']\n",
    "            question_tok = nltk.word_tokenize(question)\n",
    "                   \n",
    "            data_dev.append([question_tok, context_tok])"
   ]
  },
  {
   "cell_type": "code",
   "execution_count": 96,
   "metadata": {
    "collapsed": false
   },
   "outputs": [],
   "source": [
    "def get_num(w):\n",
    "    return w_to_i_840B.get(w, 0)\n",
    "\n",
    "train = []\n",
    "\n",
    "for i, (q, x) in enumerate(data):\n",
    "    ans = train6B[i][0]\n",
    "    q_num = map(get_num, q)\n",
    "    x_num = map(get_num, x)\n",
    "    train.append([ans, q_num, x_num])"
   ]
  },
  {
   "cell_type": "code",
   "execution_count": 139,
   "metadata": {
    "collapsed": true
   },
   "outputs": [],
   "source": [
    "dev = []\n",
    "\n",
    "for i, (q, x) in enumerate(data_dev):\n",
    "    ans = dev6B[i][0]\n",
    "    q_num = map(get_num, q)\n",
    "    x_num = map(get_num, x)\n",
    "    dev.append([ans, q_num, x_num])"
   ]
  },
  {
   "cell_type": "code",
   "execution_count": 116,
   "metadata": {
    "collapsed": true
   },
   "outputs": [],
   "source": [
    "def make_bin_feats(sample):\n",
    "    q, x = sample\n",
    "    qset = set(q)\n",
    "    return [w in qset for w in x]"
   ]
  },
  {
   "cell_type": "code",
   "execution_count": 117,
   "metadata": {
    "collapsed": false
   },
   "outputs": [],
   "source": [
    "train_bin = map(make_bin_feats, data)"
   ]
  },
  {
   "cell_type": "code",
   "execution_count": 143,
   "metadata": {
    "collapsed": true
   },
   "outputs": [],
   "source": [
    "dev_bin = map(make_bin_feats, data_dev)"
   ]
  },
  {
   "cell_type": "code",
   "execution_count": null,
   "metadata": {
    "collapsed": true
   },
   "outputs": [],
   "source": [
    "# 0 - unk\n",
    "# 1 - start\n",
    "# 2 - end\n",
    "# 3 - not_a_word char (added later, in wikipedia negative samples)\n",
    "# there are no 1s or 2s in data, so these are safe\n",
    "\n",
    "chars = [unichr(i) for i in xrange(128)]\n",
    "c_to_i = {chars[i] : i for i in xrange(128)}\n",
    "\n",
    "def get_char_nums_for_word(w):\n",
    "    return [[1] + [c_to_i.get(c, 0) for c in w] + [2]]"
   ]
  },
  {
   "cell_type": "code",
   "execution_count": 33,
   "metadata": {
    "collapsed": false
   },
   "outputs": [
    {
     "data": {
      "text/plain": [
       "'\\nwynik char jest zly, trzeba usunac jeden wymiar\\n'"
      ]
     },
     "execution_count": 33,
     "metadata": {},
     "output_type": "execute_result"
    }
   ],
   "source": [
    "'''\n",
    "wynik char jest zly, trzeba usunac jeden wymiar (fix na powyzej)\n",
    "'''"
   ]
  },
  {
   "cell_type": "code",
   "execution_count": 124,
   "metadata": {
    "collapsed": true
   },
   "outputs": [],
   "source": [
    "train_char = []\n",
    "\n",
    "for q, x in data:\n",
    "    q_char = map(get_char_nums_for_word, q)\n",
    "    x_char = map(get_char_nums_for_word, x)\n",
    "    train_char.append([q_char, x_char])"
   ]
  },
  {
   "cell_type": "code",
   "execution_count": 144,
   "metadata": {
    "collapsed": true
   },
   "outputs": [],
   "source": [
    "dev_char = []\n",
    "\n",
    "for q, x in data_dev:\n",
    "    q_char = map(get_char_nums_for_word, q)\n",
    "    x_char = map(get_char_nums_for_word, x)\n",
    "    dev_char.append([q_char, x_char])"
   ]
  },
  {
   "cell_type": "code",
   "execution_count": 122,
   "metadata": {
    "collapsed": true
   },
   "outputs": [],
   "source": [
    "with open('/pio/data/data/squad/glove840B/train_words.pkl', 'w') as f:\n",
    "    pickle.dump(train, f)\n",
    "\n",
    "with open('/pio/data/data/squad/glove840B/train_bin_feats.pkl', 'w') as f:\n",
    "    pickle.dump(train_bin, f)\n",
    "    \n",
    "with open('/pio/data/data/squad/glove840B/train_char_ascii.pkl', 'w') as f:\n",
    "    pickle.dump(train_char, f)"
   ]
  },
  {
   "cell_type": "code",
   "execution_count": 146,
   "metadata": {
    "collapsed": true
   },
   "outputs": [],
   "source": [
    "with open('/pio/data/data/squad/glove840B/dev_words.pkl', 'w') as f:\n",
    "    pickle.dump(dev, f)\n",
    "\n",
    "with open('/pio/data/data/squad/glove840B/dev_bin_feats.pkl', 'w') as f:\n",
    "    pickle.dump(dev_bin, f)\n",
    "    \n",
    "with open('/pio/data/data/squad/glove840B/dev_char_ascii.pkl', 'w') as f:\n",
    "    pickle.dump(dev_char, f)"
   ]
  }
 ],
 "metadata": {
  "kernelspec": {
   "display_name": "Python 2",
   "language": "python",
   "name": "python2"
  },
  "language_info": {
   "codemirror_mode": {
    "name": "ipython",
    "version": 2
   },
   "file_extension": ".py",
   "mimetype": "text/x-python",
   "name": "python",
   "nbconvert_exporter": "python",
   "pygments_lexer": "ipython2",
   "version": "2.7.13"
  }
 },
 "nbformat": 4,
 "nbformat_minor": 2
}
