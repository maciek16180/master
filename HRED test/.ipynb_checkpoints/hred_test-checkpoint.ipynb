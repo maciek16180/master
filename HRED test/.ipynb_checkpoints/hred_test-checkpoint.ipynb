{
 "cells": [
  {
   "cell_type": "code",
   "execution_count": 114,
   "metadata": {
    "collapsed": false
   },
   "outputs": [],
   "source": [
    "# HRED (https://arxiv.org/pdf/1507.02221.pdf [*])\n",
    "\n",
    "import theano\n",
    "import theano.tensor as T\n",
    "import numpy as np"
   ]
  },
  {
   "cell_type": "code",
   "execution_count": 115,
   "metadata": {
    "collapsed": false
   },
   "outputs": [],
   "source": [
    "# MODEL PARAMETERS\n",
    "# notation similar to [*]\n",
    "\n",
    "V = 10 # vocabulary size\n",
    "d_h = 5\n",
    "d_s = 5\n",
    "d_e = 5\n",
    "\n",
    "\n",
    "model_params = []\n",
    "\n",
    "# Training sample\n",
    "\n",
    "Utts = T.tensor3('Utts', dtype='float32') # ut_count x ut_len x V\n",
    "\n",
    "\n",
    "# Encoder\n",
    "\n",
    "Ir_enc = theano.shared(np.zeros((d_h, V), dtype='float32'), name='Ir_enc')\n",
    "Iu_enc = theano.shared(np.zeros((d_h, V), dtype='float32'), name='Iu_enc')\n",
    "I_enc  = theano.shared(np.zeros((d_h, V), dtype='float32'), name='I_enc')\n",
    "\n",
    "Hr_enc = theano.shared(np.zeros((d_h, d_h), dtype='float32'), name='Hr_enc')\n",
    "Hu_enc = theano.shared(np.zeros((d_h, d_h), dtype='float32'), name='Hu_enc')\n",
    "H_enc  = theano.shared(np.zeros((d_h, d_h), dtype='float32'), name='H_enc')\n",
    "\n",
    "model_params += [Ir_enc, Iu_enc, I_enc, Hr_enc, Hu_enc, H_enc]\n",
    "\n",
    "\n",
    "# Session context\n",
    "\n",
    "Ir_ses = theano.shared(np.zeros((d_s, d_h), dtype='float32'), name='Ir_ses')\n",
    "Iu_ses = theano.shared(np.zeros((d_s, d_h), dtype='float32'), name='Iu_ses')\n",
    "I_ses  = theano.shared(np.zeros((d_s, d_h), dtype='float32'), name='I_ses')\n",
    "\n",
    "Hr_ses = theano.shared(np.zeros((d_s, d_s), dtype='float32'), name='Hr_ses')\n",
    "Hu_ses = theano.shared(np.zeros((d_s, d_s), dtype='float32'), name='Hu_ses')\n",
    "H_ses  = theano.shared(np.zeros((d_s, d_s), dtype='float32'), name='H_ses')\n",
    "\n",
    "model_params += [Ir_ses, Iu_ses, I_ses, Hr_ses, Hu_ses, H_ses]\n",
    "\n",
    "\n",
    "# Decoder\n",
    "\n",
    "Ir_dec = theano.shared(np.zeros((d_h, V), dtype='float32'), name='Ir_dec')\n",
    "Iu_dec = theano.shared(np.zeros((d_h, V), dtype='float32'), name='Iu_dec')\n",
    "I_dec  = theano.shared(np.zeros((d_h, V), dtype='float32'), name='I_dec')\n",
    "\n",
    "Hr_dec = theano.shared(np.zeros((d_h, d_h), dtype='float32'), name='Hr_dec')\n",
    "Hu_dec = theano.shared(np.zeros((d_h, d_h), dtype='float32'), name='Hu_dec')\n",
    "H_dec  = theano.shared(np.zeros((d_h, d_h), dtype='float32'), name='H_dec')\n",
    "\n",
    "D = theano.shared(np.zeros((d_h, d_s), dtype='float32'), name='D')\n",
    "b = theano.shared(np.zeros((d_h,), dtype='float32'), name='b')\n",
    "\n",
    "Ho = theano.shared(np.zeros((d_e, d_h), dtype='float32'), name='Ho')\n",
    "Eo = theano.shared(np.zeros((d_e, V), dtype='float32'), name='Eo')\n",
    "bo = theano.shared(np.zeros((d_e,), dtype='float32'), name='bo')\n",
    "\n",
    "O = theano.shared(np.zeros((V, d_e), dtype='float32'), name='O')\n",
    "\n",
    "model_params += [Ir_dec, Iu_dec, I_dec, Hr_dec, Hu_dec, H_dec, D, b, Ho, Eo, bo, O]"
   ]
  },
  {
   "cell_type": "code",
   "execution_count": 116,
   "metadata": {
    "collapsed": false
   },
   "outputs": [],
   "source": [
    "# GRU gate\n",
    "\n",
    "def gru(w, h, Ir, Iu, I, Hr, Hu, H): # w = current input, h = current hidden state\n",
    "    r = T.nnet.sigmoid(T.dot(Ir,w) + T.dot(Hr,h))\n",
    "    u = T.nnet.sigmoid(T.dot(Iu,w) + T.dot(Hu,h))\n",
    "    h_ = T.tanh(T.dot(I,w) + T.dot(H,r*h))\n",
    "    h_next = (1-u)*h + u*h_\n",
    "    return h_next\n",
    "\n",
    "\n",
    "# Networks' steps\n",
    "\n",
    "def step_enc(w, h_prev, Ir_enc, Iu_enc, I_enc, Hr_enc, Hu_enc, H_enc):\n",
    "    return gru(w, h_prev, Ir_enc, Iu_enc, I_enc, Hr_enc, Hu_enc, H_enc)\n",
    "\n",
    "def step_ses(q, s_prev, Ir_ses, Iu_ses, I_ses, Hr_ses, Hu_ses, H_ses):\n",
    "    return gru(q, s_prev, Ir_ses, Iu_ses, I_ses, Hr_ses, Hu_ses, H_ses)\n",
    "\n",
    "def omega(d, w, Ho, Eo, bo):\n",
    "    return T.dot(Ho, d) + T.dot(Eo,w) + bo\n",
    "\n",
    "def step_dec(w, w_prev, d_prev, Ir_dec, Iu_dec, I_dec, Hr_dec, Hu_dec, H_dec, Ho, Eo, bo, O):\n",
    "    d_next = gru(w, d_prev, Ir_dec, Iu_dec, I_dec, Hr_dec, Hu_dec, H_dec)\n",
    "    out = T.dot(T.dot(O.T,w), omega(d_prev, w_prev, Ho, Eo, bo))\n",
    "    return [d_next, out]"
   ]
  },
  {
   "cell_type": "code",
   "execution_count": 117,
   "metadata": {
    "collapsed": false
   },
   "outputs": [],
   "source": [
    "def h_final(U):\n",
    "    h0 = T.zeros((d_h,), dtype='float32')\n",
    "    hs, _ = theano.scan(fn=step_enc,\n",
    "                        sequences=U,\n",
    "                        outputs_info=h0,\n",
    "                        non_sequences=[Ir_enc, Iu_enc, I_enc, Hr_enc, Hu_enc, H_enc],\n",
    "                        strict=True)\n",
    "    return hs[-1]"
   ]
  },
  {
   "cell_type": "code",
   "execution_count": 118,
   "metadata": {
    "collapsed": false
   },
   "outputs": [],
   "source": [
    "def contexts(qs):\n",
    "    s0 = T.zeros((d_s,), dtype='float32')\n",
    "    ss, _ = theano.scan(fn=step_ses,\n",
    "                        sequences=qs,\n",
    "                        outputs_info=s0,\n",
    "                        non_sequences=[Ir_ses, Iu_ses, I_ses, Hr_ses, Hu_ses, H_ses],\n",
    "                        strict=True)\n",
    "    return ss # doesn't contain s0"
   ]
  },
  {
   "cell_type": "code",
   "execution_count": 120,
   "metadata": {
    "collapsed": false
   },
   "outputs": [],
   "source": [
    "def dec(U, s, D, b): # s = context\n",
    "    d0 = T.tanh(T.dot(D,s) + b)\n",
    "    [ds,os], _ = theano.scan(fn=step_dec,\n",
    "                             sequences=[U, T.concatenate([T.zeros_like(U[0]).dimshuffle(0,'x'), U])],\n",
    "                             outputs_info=[d0,None],\n",
    "                             non_sequences=[Ir_dec, Iu_dec, I_dec, Hr_dec, Hu_dec, H_dec, Ho, Eo, bo, O],\n",
    "                             strict=True)\n",
    "    return [ds,os]"
   ]
  },
  {
   "cell_type": "code",
   "execution_count": null,
   "metadata": {
    "collapsed": true
   },
   "outputs": [],
   "source": []
  },
  {
   "cell_type": "code",
   "execution_count": 8,
   "metadata": {
    "collapsed": false
   },
   "outputs": [],
   "source": [
    "# crap below\n",
    "#\n",
    "#nll = 0\n",
    "#\n",
    "#s = T.zeros((d_s,), dtype='float32')\n",
    "#for U in [U1,U2,U3]:\n",
    "#    h = T.zeros((d_h,), dtype='float32')\n",
    "#    d = T.tanh(T.dot(D,s) + b)\n",
    "#    w_prev = None\n",
    "#    for w in U.eval():\n",
    "#        nll -= lprob(w, d, w_prev)\n",
    "#        h = gru_w(Ir_enc, Iu_enc, I_enc, w, Hr_enc, Hu_enc, H_enc, h)\n",
    "#        d = gru_w(Ir_dec, Iu_dec, I_dec, w, Hr_dec, Hu_dec, H_dec, d)        \n",
    "#        w_prev = w        \n",
    "#    s = gru_h(Ir_ses, Iu_ses, I_ses, h, Hr_ses, Hu_ses, H_ses, s)\n",
    "#    \n",
    "#\n",
    "#cost = theano.function([], nll)\n",
    "#\n",
    "#def gru_w(Ir, Iu, I, w, Hr, Hu, H, h):\n",
    "#    r = T.nnet.sigmoid(Ir[:,w] + T.dot(Hr,h))\n",
    "#    u = T.nnet.sigmoid(Iu[:,w] + T.dot(Hu,h))\n",
    "#    h_ = T.tanh(I[:,w] + T.dot(H,r*h))\n",
    "#    h_next = (1-u)*h + u*h_\n",
    "#    return h_next"
   ]
  }
 ],
 "metadata": {
  "kernelspec": {
   "display_name": "Python 2",
   "language": "python",
   "name": "python2"
  },
  "language_info": {
   "codemirror_mode": {
    "name": "ipython",
    "version": 2
   },
   "file_extension": ".py",
   "mimetype": "text/x-python",
   "name": "python",
   "nbconvert_exporter": "python",
   "pygments_lexer": "ipython2",
   "version": "2.7.11"
  }
 },
 "nbformat": 4,
 "nbformat_minor": 0
}
