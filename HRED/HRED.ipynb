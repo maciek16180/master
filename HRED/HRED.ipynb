{
 "cells": [
  {
   "cell_type": "code",
   "execution_count": 1,
   "metadata": {
    "collapsed": false
   },
   "outputs": [
    {
     "name": "stderr",
     "output_type": "stream",
     "text": [
      "WARNING (theano.sandbox.cuda): The cuda backend is deprecated and will be removed in the next release (v0.10).  Please switch to the gpuarray backend. You can get more information about how to switch at this URL:\n",
      " https://github.com/Theano/Theano/wiki/Converting-to-the-new-gpu-back-end%28gpuarray%29\n",
      "\n",
      "Using gpu device 0: GeForce GTX 780 (CNMeM is enabled with initial size: 30.0% of memory, cuDNN 5105)\n"
     ]
    }
   ],
   "source": [
    "import numpy as np\n",
    "import theano\n",
    "import theano.tensor as T\n",
    "import time\n",
    "\n",
    "import lasagne as L\n",
    "\n",
    "import sys\n",
    "sys.path.insert(0, '../rnn_ex/')\n",
    "\n",
    "from HRED import HRED\n",
    "from mt_load import load_mt, get_mt_voc, get_w2v_embs\n",
    "from load_subtle import load_subtle\n",
    "from diverse_beam_search import diverse_beam_search"
   ]
  },
  {
   "cell_type": "code",
   "execution_count": 2,
   "metadata": {
    "collapsed": true
   },
   "outputs": [],
   "source": [
    "# remember, now the pad value is the same as the <utt_end> token\n",
    "\n",
    "pad_value = -1 # <utt_end>'s vector is the last one"
   ]
  },
  {
   "cell_type": "code",
   "execution_count": 3,
   "metadata": {
    "collapsed": false
   },
   "outputs": [
    {
     "ename": "IOError",
     "evalue": "Failed to interpret file '/pio/data/data/mtriples/Subtle_Dataset.triples.pkl' as a pickle",
     "output_type": "error",
     "traceback": [
      "\u001b[1;31m---------------------------------------------------------------------------\u001b[0m",
      "\u001b[1;31mIOError\u001b[0m                                   Traceback (most recent call last)",
      "\u001b[1;32m<ipython-input-3-a96cd8c94280>\u001b[0m in \u001b[0;36m<module>\u001b[1;34m()\u001b[0m\n\u001b[0;32m      2\u001b[0m \u001b[0msubtle_path\u001b[0m \u001b[1;33m=\u001b[0m \u001b[1;34m\"/pio/data/data/mtriples/\"\u001b[0m\u001b[1;33m\u001b[0m\u001b[0m\n\u001b[0;32m      3\u001b[0m \u001b[1;33m\u001b[0m\u001b[0m\n\u001b[1;32m----> 4\u001b[1;33m \u001b[0mtrain_subtle\u001b[0m \u001b[1;33m=\u001b[0m \u001b[0mload_subtle\u001b[0m\u001b[1;33m(\u001b[0m\u001b[0msubtle_path\u001b[0m\u001b[1;33m,\u001b[0m \u001b[0msplit\u001b[0m\u001b[1;33m=\u001b[0m\u001b[0mTrue\u001b[0m\u001b[1;33m,\u001b[0m \u001b[0mtrim\u001b[0m\u001b[1;33m=\u001b[0m\u001b[1;36m200\u001b[0m\u001b[1;33m)\u001b[0m\u001b[1;33m\u001b[0m\u001b[0m\n\u001b[0m\u001b[0;32m      5\u001b[0m \u001b[1;32mprint\u001b[0m \u001b[0mtime\u001b[0m\u001b[1;33m.\u001b[0m\u001b[0mtime\u001b[0m\u001b[1;33m(\u001b[0m\u001b[1;33m)\u001b[0m \u001b[1;33m-\u001b[0m \u001b[0mt0\u001b[0m\u001b[1;33m\u001b[0m\u001b[0m\n",
      "\u001b[1;32m/home/i258346/Desktop/masters_thesis/HRED/load_subtle.pyc\u001b[0m in \u001b[0;36mload_subtle\u001b[1;34m(path, split, trim)\u001b[0m\n\u001b[0;32m     11\u001b[0m \u001b[1;33m\u001b[0m\u001b[0m\n\u001b[0;32m     12\u001b[0m \u001b[1;32mdef\u001b[0m \u001b[0mload_subtle\u001b[0m\u001b[1;33m(\u001b[0m\u001b[0mpath\u001b[0m\u001b[1;33m,\u001b[0m \u001b[0msplit\u001b[0m\u001b[1;33m=\u001b[0m\u001b[0mFalse\u001b[0m\u001b[1;33m,\u001b[0m \u001b[0mtrim\u001b[0m\u001b[1;33m=\u001b[0m\u001b[1;36m200\u001b[0m\u001b[1;33m)\u001b[0m\u001b[1;33m:\u001b[0m\u001b[1;33m\u001b[0m\u001b[0m\n\u001b[1;32m---> 13\u001b[1;33m     \u001b[0mdata\u001b[0m \u001b[1;33m=\u001b[0m \u001b[0mnp\u001b[0m\u001b[1;33m.\u001b[0m\u001b[0mload\u001b[0m\u001b[1;33m(\u001b[0m\u001b[0mpath\u001b[0m \u001b[1;33m+\u001b[0m \u001b[1;34m'Subtle_Dataset.triples.pkl'\u001b[0m\u001b[1;33m)\u001b[0m\u001b[1;33m\u001b[0m\u001b[0m\n\u001b[0m\u001b[0;32m     14\u001b[0m \u001b[1;33m\u001b[0m\u001b[0m\n\u001b[0;32m     15\u001b[0m     \u001b[1;32mif\u001b[0m \u001b[0msplit\u001b[0m\u001b[1;33m:\u001b[0m\u001b[1;33m\u001b[0m\u001b[0m\n",
      "\u001b[1;32m/home/i258346/.local/lib/python2.7/site-packages/numpy/lib/npyio.pyc\u001b[0m in \u001b[0;36mload\u001b[1;34m(file, mmap_mode, allow_pickle, fix_imports, encoding)\u001b[0m\n\u001b[0;32m    427\u001b[0m             \u001b[1;32mexcept\u001b[0m\u001b[1;33m:\u001b[0m\u001b[1;33m\u001b[0m\u001b[0m\n\u001b[0;32m    428\u001b[0m                 raise IOError(\n\u001b[1;32m--> 429\u001b[1;33m                     \"Failed to interpret file %s as a pickle\" % repr(file))\n\u001b[0m\u001b[0;32m    430\u001b[0m     \u001b[1;32mfinally\u001b[0m\u001b[1;33m:\u001b[0m\u001b[1;33m\u001b[0m\u001b[0m\n\u001b[0;32m    431\u001b[0m         \u001b[1;32mif\u001b[0m \u001b[0mown_fid\u001b[0m\u001b[1;33m:\u001b[0m\u001b[1;33m\u001b[0m\u001b[0m\n",
      "\u001b[1;31mIOError\u001b[0m: Failed to interpret file '/pio/data/data/mtriples/Subtle_Dataset.triples.pkl' as a pickle"
     ]
    }
   ],
   "source": [
    "t0 = time.time()\n",
    "subtle_path = \"/pio/data/data/mtriples/\"\n",
    "\n",
    "train_subtle = load_subtle(subtle_path, split=True, trim=200)\n",
    "print time.time() - t0"
   ]
  },
  {
   "cell_type": "code",
   "execution_count": 3,
   "metadata": {
    "collapsed": false
   },
   "outputs": [],
   "source": [
    "mt_path = \"/pio/data/data/mtriples/\"\n",
    "# mt_path = \"../DATA/MovieTriples_Dataset/\"\n",
    "\n",
    "train, valid, test = load_mt(path=mt_path, split=True, trim=200)\n",
    "idx_to_w, w_to_idx, voc_size, freqs = get_mt_voc(path=mt_path, train_len=len(train))"
   ]
  },
  {
   "cell_type": "code",
   "execution_count": 4,
   "metadata": {
    "collapsed": false
   },
   "outputs": [],
   "source": [
    "word2vec_embs, word2vec_embs_mask = get_w2v_embs(path=mt_path)\n",
    "\n",
    "w2v_train_mask = np.where(word2vec_embs_mask[:,0] == 1)[0]"
   ]
  },
  {
   "cell_type": "code",
   "execution_count": 5,
   "metadata": {
    "collapsed": false
   },
   "outputs": [
    {
     "name": "stdout",
     "output_type": "stream",
     "text": [
      "Building the model...\n",
      "Compiling theano functions...\n",
      "Building a network for generating...\n",
      "Done\n",
      "CPU times: user 39.1 s, sys: 829 ms, total: 39.9 s\n",
      "Wall time: 39.7 s\n"
     ]
    }
   ],
   "source": [
    "%%time\n",
    "hred_net = HRED(voc_size=voc_size,\n",
    "                emb_size=300,\n",
    "                lv1_rec_size=300, \n",
    "                lv2_rec_size=300, \n",
    "                out_emb_size=300, \n",
    "                num_sampled=200,\n",
    "                ssoft_probs=freqs,\n",
    "                emb_init=word2vec_embs)"
   ]
  },
  {
   "cell_type": "code",
   "execution_count": 6,
   "metadata": {
    "collapsed": true
   },
   "outputs": [],
   "source": [
    "hred_net.load_params('trained_models/subtleFixed_300_300_300_300_ssoft200unigr_bs30_cut200_early5.npz')"
   ]
  },
  {
   "cell_type": "code",
   "execution_count": 7,
   "metadata": {
    "collapsed": true
   },
   "outputs": [],
   "source": [
    "def print_utt(utt):\n",
    "    return ' '.join([idx_to_w[x] for x in utt])\n",
    "\n",
    "def rnd_next_word(probs, size=1):\n",
    "    return np.random.choice(np.append(np.arange(probs.shape[0]-1), -1).astype(np.int32), \n",
    "                            size=size, p=probs)\n",
    "\n",
    "def utt_to_array(utt):\n",
    "    arr = np.array([w_to_idx.get(w, w_to_idx['<unk>']) for w in utt])[np.newaxis].astype(np.int32)\n",
    "    arr[arr == -voc_size] = -1\n",
    "    return arr\n",
    "\n",
    "def context_summary(context, lookup=True):\n",
    "    con_init = np.zeros((1, hred_net.lv2_rec_size), dtype=np.float32)\n",
    "    for utt in context:\n",
    "        con_init = hred_net.get_new_con_init_fn(utt_to_array(utt) if lookup else utt, con_init)\n",
    "    return con_init"
   ]
  },
  {
   "cell_type": "code",
   "execution_count": 9,
   "metadata": {
    "collapsed": false,
    "scrolled": true
   },
   "outputs": [
    {
     "name": "stdout",
     "output_type": "stream",
     "text": [
      "<s> i couldn ' t say . </s>\n",
      "<s> you were a prosecutor . </s>\n"
     ]
    }
   ],
   "source": [
    "context = map(lambda x: np.array(x, dtype=np.int32)[np.newaxis], train[99:101])\n",
    "lookup = False\n",
    "for u in context:\n",
    "    print print_utt(u[0])"
   ]
  },
  {
   "cell_type": "code",
   "execution_count": 8,
   "metadata": {
    "collapsed": true
   },
   "outputs": [],
   "source": [
    "context = ['<s> hi . </s>'.split(), '<s> hello , what \\' s up ? </s>'.split()]\n",
    "lookup = True"
   ]
  },
  {
   "cell_type": "code",
   "execution_count": 14,
   "metadata": {
    "collapsed": true
   },
   "outputs": [],
   "source": [
    "context = ['<s> yeah , okay . </s>'.split(), '<s> well , i guess i \\' ll be going now . </s>'.split()]\n",
    "lookup = True"
   ]
  },
  {
   "cell_type": "code",
   "execution_count": 17,
   "metadata": {
    "collapsed": true
   },
   "outputs": [],
   "source": [
    "context= ['<s> what would the table think about if it could think ? </s>'.split()]\n",
    "lookup = True"
   ]
  },
  {
   "cell_type": "code",
   "execution_count": 19,
   "metadata": {
    "collapsed": true
   },
   "outputs": [],
   "source": [
    "context= ['<s> i saw a pretty good movie yesterday . </s>'.split()]\n",
    "lookup = True"
   ]
  },
  {
   "cell_type": "code",
   "execution_count": 31,
   "metadata": {
    "collapsed": true
   },
   "outputs": [],
   "source": [
    "context= ['<s> hi . </s>'.split()]\n",
    "lookup = True"
   ]
  },
  {
   "cell_type": "code",
   "execution_count": 20,
   "metadata": {
    "collapsed": false,
    "scrolled": true
   },
   "outputs": [
    {
     "name": "stdout",
     "output_type": "stream",
     "text": [
      "-1.234   is that what you ' re talking about ?\n",
      "\n",
      "-1.262   what are you doing ?\n",
      "\n",
      "-1.290   is that what you ' re doing ?\n",
      "\n",
      "-1.371   what are you talking about ?\n",
      "\n",
      "-1.399   so what ' s the matter ?\n",
      "\n",
      "-1.478   it ' s not like that .\n",
      "\n",
      "-1.493   is that what you think ?\n",
      "\n",
      "-1.495   really ? well , i ' m sorry .\n",
      "\n",
      "-1.510   yes , i ' m sorry .\n",
      "\n",
      "-1.511   so what ' s your name ?\n",
      "\n",
      "-1.576   is that what you ' re talking about ? <continued_utterance> i ' m sorry .\n",
      "\n",
      "-1.581   i ' m sorry .\n",
      "\n",
      "-1.586   oh , yeah .\n",
      "\n",
      "-1.591   really ?\n",
      "\n",
      "-1.619   are you kidding ?\n",
      "\n",
      "-1.638   what are you talking about ? i ' m not gon na do that .\n",
      "\n",
      "-1.641   did you see that ?\n",
      "\n",
      "-1.655   what are you talking about ? i ' m not gon na do it .\n",
      "\n",
      "-1.661   i ' m sorry , but it ' s okay .\n",
      "\n",
      "-1.677   uh-huh .\n",
      "\n",
      "-1.682   are you kidding ? <continued_utterance> i ' m sorry .\n",
      "\n",
      "-1.687   is that what you ' re talking about ? <continued_utterance> i ' m sorry . i ' m not going to tell you anything . i don ' t know why you ' re here .\n",
      "\n",
      "-1.688   is that what you ' re talking about ? <continued_utterance> i ' m sorry . i ' m not going to tell you anything .\n",
      "\n",
      "-1.703   is that what you ' re talking about ? <continued_utterance> i ' m sorry . i ' m not going to tell you something .\n",
      "\n",
      "-1.707   yes , i ' m sorry . <continued_utterance> i don ' t know what to do with you .\n",
      "\n",
      "-1.710   do you have any idea how much i can ' t be ?\n",
      "\n",
      "-1.710   is that what you ' re talking about ? <continued_utterance> i ' m sorry . i ' m not going to tell you anything . i don ' t want to be here anymore .\n",
      "\n",
      "-1.718   i ' m sorry , sir .\n",
      "\n",
      "-1.719   it ' s not like that . you know what i mean ?\n",
      "\n",
      "-1.726   yes , i ' m sorry . <continued_utterance> i don ' t know what to do with it .\n",
      "\n",
      "-1.738   are you kidding ? <continued_utterance> i ' m sorry . i didn ' t mean to say anything about it .\n",
      "\n",
      "-1.741   yes , i ' m sorry . <continued_utterance> i don ' t know what to do .\n",
      "\n",
      "-1.741   i ' m sorry , but it ' s okay . <continued_utterance> what ' s the matter ?\n",
      "\n",
      "-1.742   yes , i ' m sorry . <continued_utterance> you know what i mean ?\n",
      "\n",
      "-1.747   do you have any idea how much i can ' t get ?\n",
      "\n",
      "-1.750   are you kidding ? <continued_utterance> i ' m sorry . i didn ' t mean to say that .\n",
      "\n",
      "-1.754   so what ' s the matter ? you ' re not gon na be a good man , aren ' t you ?\n",
      "\n",
      "-1.770   are you kidding ? <continued_utterance> i ' m sorry . i didn ' t mean to say anything about that .\n",
      "\n",
      "-1.773   do you have any idea how much i can get ?\n",
      "\n",
      "-1.780   really ? well , i ' m sorry . i ' m just a little tired .\n",
      "\n",
      "-1.791   oh , yeah . well , you know what i mean ?\n",
      "\n",
      "-1.796   is that what you ' re talking about ? <continued_utterance> i ' m sorry . i ' m not going to tell you anything . i don ' t know why you ' re here . i just want to see you .\n",
      "\n",
      "-1.810   so what ' s the matter ? you ' re not gon na be a good man , aren ' t you ? <continued_utterance> i ' m sorry .\n",
      "\n",
      "-1.812   really ? well , i ' m sorry . i ' m just a little tired of the way you ' re going to do .\n",
      "\n",
      "-1.813   really ? well , i ' m sorry . i ' m just a little tired of the way you ' re doing .\n",
      "\n",
      "-1.815   is that what you ' re talking about ? <continued_utterance> i ' m sorry . i ' m not going to tell you anything . i don ' t know why you ' re here . i just want to see you again .\n",
      "\n",
      "-1.816   i ' m sorry , but it ' s okay . <continued_utterance> you ' re not going to have to do this .\n",
      "\n",
      "-1.820   i ' m sorry , but it ' s okay . <continued_utterance> you ' re not going to have to do this anymore .\n",
      "\n",
      "-1.822   yes , i ' m sorry . <continued_utterance> i don ' t know what to do with you . i just want to see you again .\n",
      "\n",
      "-1.824   is it ?\n",
      "\n",
      "-1.824   i ' m sorry , but it ' s not .\n",
      "\n",
      "-1.838   what are you talking about ? i ' m not gon na do that . <continued_utterance> i ' m sorry .\n",
      "\n",
      "-1.839   yes , i ' m not .\n",
      "\n",
      "-1.839   really ? well , i ' m sorry . i ' m just a little tired of the way you ' re going to be .\n",
      "\n",
      "-1.840   it ' s not like that . you know what ?\n",
      "\n",
      "-1.850   are you kidding me ?\n",
      "\n",
      "-1.852   is that what you ' re talking about ? <continued_utterance> i ' m sorry . i ' m not going to tell you anything . i don ' t know why you ' re here . i just want to see you again , okay ?\n",
      "\n",
      "-1.857   are you kidding ? <continued_utterance> i ' m not .\n",
      "\n",
      "-1.858   yes , i was .\n",
      "\n",
      "-1.860   i ' m sorry , but it ' s okay . <continued_utterance> you ' re not going to have to do this anymore ?\n",
      "\n",
      "-1.861   do you have any idea how much i can ' t be ? <continued_utterance> i ' m not a bad man . i don ' t know what to say .\n",
      "\n",
      "-1.863   so what ' s the matter ? you ' re not gon na be a good man , aren ' t you .\n",
      "\n",
      "-1.867   do you have any idea how much i can ' t be ? <continued_utterance> i ' m not a bad man . i don ' t know what to do .\n",
      "\n",
      "-1.868   so what ' s the matter ? you ' re not gon na be a good man .\n",
      "\n",
      "-1.870   yes , i ' m sorry . <continued_utterance> i don ' t know what to do with you . i just want to see you .\n",
      "\n",
      "-1.874   really ? well , i ' m sorry . i ' m just a little tired of the way you ' re going to do . <continued_utterance> i ' ll be right back .\n",
      "\n",
      "-1.876   really ? well , i ' m sorry . i ' m just a little tired of being here .\n",
      "\n",
      "-1.890   so what ' s the matter ? you ' re not gon na be a good man , aren ' t you ? <continued_utterance> i ' m sorry . i ' m sorry .\n",
      "\n",
      "-1.892   what are you talking about ? i ' m not gon na do that . <continued_utterance> i ' m sorry , i ' m fine .\n",
      "\n",
      "-1.896   are you kidding ? <continued_utterance> i ' m sorry . i didn ' t mean to say anything about it . i just wanted to see you .\n",
      "\n",
      "-1.903   really ? well , i ' m sorry . i ' m just a little tired of the way you ' re going to do . <continued_utterance> i ' ll be fine .\n",
      "\n",
      "-1.904   so what ' s the matter ? you ' re not gon na be a good man , aren ' t you ? <continued_utterance> i ' m sorry . i was just thinking about you .\n",
      "\n",
      "-1.904   so what ' s the matter ? you ' re not gon na be a good man , you know .\n",
      "\n",
      "-1.912   do you have any idea how much i can ' t be ? <continued_utterance> i ' m not a bad man .\n",
      "\n",
      "-1.912   are you kidding ? <continued_utterance> i ' m sorry . i didn ' t mean to say anything about it . i just wanted to see that .\n",
      "\n",
      "-1.914   really ? well , i ' m sorry . i ' m just a little tired of the way you ' re going to do . <continued_utterance> i ' ll be right back . i ' m not gon na say that .\n",
      "\n",
      "-1.914   do you have any idea how much i can ' t be ? <continued_utterance> i ' m not a good person .\n",
      "\n",
      "-1.915   do you have any idea how much i can ' t be ? <continued_utterance> i ' m not .\n",
      "\n",
      "-1.917   really ? well , i ' m sorry . i ' m just a little tired of the way you ' re going to do . <continued_utterance> i ' ll be right back in the morning .\n",
      "\n",
      "-1.918   really ? well , i ' m sorry . i ' m just a little tired of the way you ' re going to do . <continued_utterance> i ' ll be right back . i ' m not gon na go .\n",
      "\n",
      "-1.918   so what ' s the matter ? you ' re not gon na be a good man , aren ' t you . ?\n",
      "\n",
      "-1.921   yes , i ' m sorry . <continued_utterance> i don ' t know what to do with you . i just want to see you again . <continued_utterance> you ' re not gon na be okay ?\n",
      "\n",
      "-1.930   do you have any idea how much i can ' t be ? <continued_utterance> i ' m not a bad man . i don ' t know what to do . i just want to see you again .\n",
      "\n",
      "-1.931   do you have any idea how much i can ' t be ? <continued_utterance> i ' m not a bad man . i don ' t know what to do . i just want to see you .\n",
      "\n",
      "-1.932   really ? well , i ' m sorry . i ' m just a little tired of the way you ' re going to do . <continued_utterance> i ' ll be right back . i ' m not gon na say that again .\n",
      "\n",
      "-1.942   yes , i ' m sorry . <continued_utterance> i don ' t know what to do with you . i just want to see you again . <continued_utterance> you ' re not gon na be okay .\n",
      "\n",
      "-1.945   oh , yeah . well , you know what i mean .\n",
      "\n",
      "-1.947   it ' s not like that . you know what i mean , i ' m just a little more than i can do .\n",
      "\n",
      "-1.950   what are you talking about ? i ' m not gon na do that . <continued_utterance> i ' m sorry , i ' m just a little tired of being here .\n",
      "\n",
      "-1.953   it ' s not like that . you know what i mean , i ' m just a little more than i can do . <continued_utterance> i don ' t want to talk about it .\n",
      "\n",
      "-1.956   so what ' s the matter ? you ' re not gon na be a good man , aren ' t you ? <continued_utterance> i ' m sorry . i was just thinking about you and your friends .\n",
      "\n",
      "-1.957   so what ' s the matter ? you ' re not gon na be a good man , aren ' t you ? <continued_utterance> i ' m sorry . i was just thinking about you and me .\n",
      "\n",
      "-1.967   oh , yeah . well , you know what ?\n",
      "\n",
      "-1.968   it ' s not like that . you know what i mean , i ' m just a little bit of a bad idea .\n",
      "\n",
      "-1.969   it ' s not like that . you know what i mean , i ' m just a little more than i can do . <continued_utterance> i don ' t want to talk about this .\n",
      "\n",
      "-1.971   so what ' s the matter ? you ' re not gon na be a good man , aren ' t you ? <continued_utterance> i ' m sorry . i was just thinking about you and your friends are going to get you out of here .\n",
      "\n",
      "-1.972   so what ' s the matter ? you ' re not gon na be a good man , aren ' t you ? <continued_utterance> i ' m sorry . i was just thinking about you and your friends are going to get me out of here .\n",
      "\n",
      "-1.973   so what ' s the matter ? you ' re not gon na be a good man , aren ' t you ? <continued_utterance> i ' m sorry . i was just thinking about you and your friends are here .\n",
      "\n",
      "-1.980   what are you talking about ? i ' m not gon na do that . <continued_utterance> i ' m sorry , i ' m just a little tired of being here . i ' ve been thinking about it .\n",
      "\n",
      "-1.981   do you have any idea how much i can ' t be ? <continued_utterance> i ' m not a bad man . i don ' t know what to do . i just want to see you again , and i ' ll be right back .\n",
      "\n",
      "-1.981   yes , i ' m sorry . <continued_utterance> i don ' t know what to do with you . i just want to see you again . <continued_utterance> you ' re not gon na be okay . you ' ll have to go home .\n",
      "\n",
      "-1.984   so what ' s the matter ? you ' re not gon na be a good man , aren ' t you ? <continued_utterance>\n",
      "\n",
      "-1.988   what are you talking about ? i ' m not gon na do that . <continued_utterance> i ' m sorry , i ' m just a little tired of being here . i ' ve got to go home .\n",
      "\n",
      "-1.990   yes , i ' m sorry . <continued_utterance> i don ' t know what to do with you . i just want to see you again . <continued_utterance> you ' re not gon na be okay . you ' ll have to go back to the hospital .\n",
      "\n",
      "-1.997   yeah .\n",
      "\n",
      "-1.997   what are you talking about ? i ' m not gon na do that . <continued_utterance> i ' m sorry , i ' m just a little bit of a good time .\n",
      "\n",
      "-2.001   oh , yeah . well , you know what i mean ? <continued_utterance> i ' m not gon na do that .\n",
      "\n",
      "-2.004   yes , i ' m sorry . <continued_utterance> i don ' t know what to do with you . i just want to see you again . <continued_utterance> you ' re not gon na be okay . you ' ll have to go back to work .\n",
      "\n",
      "-2.004   i ' m sorry , but it ' s okay . <continued_utterance> you ' re not going to have to do this anymore ? are you ?\n",
      "\n",
      "-2.008   oh , yeah . well , you know what i mean ? <continued_utterance> i ' m not gon na do it !\n",
      "\n",
      "-2.016   it ' s not like that . you know what i mean , i ' m just a little more than i can do . <continued_utterance> i don ' t want to talk about it . i don ' t know why i ' m here .\n",
      "\n",
      "-2.024   what are you talking about ? i ' m not gon na do that . <continued_utterance> i ' m sorry , i ' m just a little tired of being here . i ' ve been thinking about it . <continued_utterance> i ' ll be right back .\n",
      "\n",
      "-2.037   oh , yeah . well .\n",
      "\n",
      "-2.045   oh , yeah . well , you know what i mean ? <continued_utterance> i ' m not gon na do that . <continued_utterance> i don ' t know how to make it .\n",
      "\n",
      "-2.047   oh , yeah . well , you know what i mean ? <continued_utterance> i ' m not gon na do that . <continued_utterance> i don ' t know how to make it . i ' ll be back in the morning .\n",
      "\n",
      "-2.047   i ' m sorry , but it ' s okay . <continued_utterance> you ' re not going to have to do this anymore . we can ' t go out with that .\n",
      "\n",
      "-2.051   what are you talking about ? i ' m not gon na do that . <continued_utterance> i ' m sorry , i ' m just a little tired of being here . i ' ve been thinking about it . <continued_utterance> i ' ll be right in .\n",
      "\n",
      "-2.058   it ' s not like that . you know what i mean , i ' m just a little more than i can do . <continued_utterance> i don ' t want to talk about it . i don ' t know why i ' m doing this .\n",
      "\n",
      "-2.059   yes .\n",
      "\n",
      "-2.065   are you kidding ? <continued_utterance> i ' m sorry . i didn ' t mean to say anything about it . i just wanted to see you . <continued_utterance> you know what i mean ?\n",
      "\n",
      "-2.070   i ' m sorry , but it ' s okay . <continued_utterance> you ' re not going to have to do this anymore . we can ' t go out with that shit .\n",
      "\n",
      "-2.082   oh , yeah . well , you know what i mean ? <continued_utterance> i ' m not gon na do that . <continued_utterance> i don ' t know how to make it . i ' ll be right back .\n",
      "\n",
      "-2.083   are you kidding ? <continued_utterance> i ' m sorry . i didn ' t mean to say anything about it . i just wanted to see you . <continued_utterance> you know what you think ?\n",
      "\n",
      "-2.086   i ' m sorry , but it ' s okay . <continued_utterance> you ' re not going to have to do this anymore . we can ' t go out with that shit !\n",
      "\n",
      "-2.098   oh , yeah . well , you know what i mean ? <continued_utterance> i ' m not gon na do that . <continued_utterance> i don ' t know how to make it up .\n",
      "\n",
      "-2.129   i ' m sorry , but it ' s okay . <continued_utterance> you ' re not going to have to do this anymore . we can ' t go out with that shit . we ' ll be back in the morning .\n",
      "\n",
      "-2.142   are you kidding ? <continued_utterance> i ' m sorry . i didn ' t mean to say anything about it . i just wanted to see you . <continued_utterance> you know what i mean ? i ' ve been thinking about it .\n",
      "\n",
      "-2.154   are you kidding ? <continued_utterance> i ' m sorry . i didn ' t mean to say anything about it . i just wanted to see you . <continued_utterance> you know what i mean ? i ' ve been thinking about it all day .\n",
      "\n",
      "-2.156   i ' m sorry , but it ' s okay . <continued_utterance> you ' re not going to have to do this anymore . we can ' t go out with that shit . we ' ll be back in the same way .\n",
      "\n",
      "-2.158   are you kidding ? <continued_utterance> i ' m sorry . i didn ' t mean to say anything about it . i just wanted to see you . <continued_utterance> you know what i mean ? i ' ve been thinking about it all over the world .\n",
      "\n",
      "-2.167   are you kidding ? <continued_utterance> i ' m sorry . i didn ' t mean to say anything about it . i just wanted to see you . <continued_utterance> you know what i mean ? i ' ve been thinking about it all over the way .\n",
      "\n",
      "-2.170   i ' m sorry , but it ' s okay . <continued_utterance> you ' re not going to have to do this anymore . we can ' t go out with that shit . we ' re all right .\n",
      "\n",
      "-2.206   i ' m sorry , but it ' s okay . <continued_utterance> you ' re not going to have to do this anymore . we can ' t go out with that shit . we ' ll be back in the morning . <continued_utterance> what ?\n",
      "\n"
     ]
    }
   ],
   "source": [
    "beam_size = 20\n",
    "group_size = 2\n",
    "con_init = context_summary(context, lookup)\n",
    "W = L.layers.get_all_param_values(hred_net.train_net)[31]\n",
    "b = L.layers.get_all_param_values(hred_net.train_net)[32]\n",
    "dec_init = np.repeat(np.tanh(con_init.dot(W) + b), beam_size, axis=0)\n",
    "\n",
    "mean = True\n",
    "\n",
    "beamsearch = diverse_beam_search(beam_size, group_size, dec_init, voc_size, hred_net, \n",
    "                                 init_seq=utt_to_array('<s> '.split()), rank_penalty=0, group_diversity_penalty=1, \n",
    "                                 seq_diversity_penalty=1, verbose_log=False)\n",
    "\n",
    "# print print_utt(beamsearch)\n",
    "\n",
    "len_bonus = lambda size: 0#np.log(size)**2\n",
    "\n",
    "def fn_score(x, y, mean=mean, len_bonus=len_bonus):\n",
    "    denom = (x.size - 1) if mean else 1\n",
    "    return (y + len_bonus(x.size)) / denom\n",
    "\n",
    "sort1 = sorted(beamsearch, key=lambda (x,y): fn_score(x, y), reverse=True)\n",
    "sort2 = sorted(beamsearch, key=lambda x: ' '.join(print_utt(x[0][1:-1])))\n",
    "\n",
    "for utt, scr in sort1:\n",
    "    print '{:.3f}  '.format(fn_score(utt, scr)), print_utt(utt[1:-1])\n",
    "    print ''"
   ]
  },
  {
   "cell_type": "code",
   "execution_count": 25,
   "metadata": {
    "collapsed": false,
    "scrolled": true
   },
   "outputs": [
    {
     "name": "stdout",
     "output_type": "stream",
     "text": [
      "<s> you lied to me so many times -- </s>\n",
      "<s> reggie -- trust me once more -- please . </s>\n",
      "-1.421   i don ' t know what to do .\n",
      "\n",
      "<s> even by modern male standards you ' re a <unk> immature little shit . <unk> with the kind of money you have access to , that ' s deadly . <person> may not have a four hour stand up routine about the <unk> building , but she ' s a solid girl who will look after you . </s>\n",
      "<s> i have you for that . </s>\n",
      "-1.524   what do you want me to do ?\n",
      "\n",
      "<s> is that what you think i was thinking ? </s>\n",
      "<s> no -- that ' s what i know you were thinking . <continued_utterance> how often do you make love to your wife , <person> ? once a week ? sometimes twice ? there once was passion , wasn ' t there ? but now it ' s <unk> , predictable . tell me , when you do it -- do you always think of her ? or do you wonder what it would be like to be with someone else ? someone wild . someone who would force you to lose control . <continued_utterance> there ' s nothing wrong in admitting that you want me , <person> . </s>\n",
      "-1.269   i don ' t know .\n",
      "\n",
      "<s> i have been waiting for you . </s>\n",
      "<s> <person> me . i was detained for a few moments . because i revealed my <unk> to you , i ' m in retreat . it ' s your move . </s>\n",
      "-1.349   is that what you ' re talking about ?\n",
      "\n",
      "<s> it ' s a <number> <person> . <person> . <person> ' , except for the mess inside . about twenty minutes . nobody who ' ll be missed . you ' re a good man , <person> . see ya soon . how we comin ' , <person> ? </s>\n",
      "<s> mr . <person> , you got ta understand somethin ' </s>\n",
      "-1.251   i don ' t know what you ' re talking about .\n",
      "\n",
      "<s> it ' s just a very hard move to explain . people are going to think you ' ve lost your mind . </s>\n",
      "<s> why ' s that a problem <person> ? </s>\n",
      "-1.328   so what ' s the matter with you ?\n",
      "\n",
      "<s> <person> is the case . <person> , there ' s `` evidence '' down in that hole . you understand evidence ? little things that are `` clues . `` clues can be very helpful to a fella when he ' s trying to solve a crime . </s>\n",
      "<s> i understand that . </s>\n",
      "-1.580   we ' ve got to get out of here .\n",
      "\n",
      "<s> there was no sex . she was very traditional . we were waiting until we were married . </s>\n",
      "<s> you ' re kidding . no sex ? nothing ? no mu-shu ? </s>\n",
      "-1.225   no .\n",
      "\n",
      "<s> what ? </s>\n",
      "<s> i want you to come in till i get the lights on . </s>\n",
      "-1.202   i don ' t know .\n",
      "\n",
      "<s> no i haven ' t . </s>\n",
      "<s> babe it ' s me . i won ' t let you get away . </s>\n",
      "-1.186   what do you want me to do ?\n",
      "\n",
      "<s> well what ? </s>\n",
      "<s> this saturday - you coming to call or what ? </s>\n",
      "-1.317   what do you mean ?\n",
      "\n",
      "<s> what do you mean , `` no '' ? </s>\n",
      "<s> no . </s>\n",
      "-1.203   no , you ' re not .\n",
      "\n",
      "<s> absolutely nothing . </s>\n",
      "<s> <person> . </s>\n",
      "-1.439   i don ' t know .\n",
      "\n",
      "<s> . in <unk> <unk> , the nine members of the asian dawn movement . </s>\n",
      "<s> ' asian dawn movement ? ' </s>\n",
      "-1.674   as far as i ' m in , it ' s the only way to get out of here .\n",
      "\n",
      "<s> what am i going to do ? </s>\n",
      "<s> it ' s okay . it ' s alright . </s>\n",
      "-1.183   i can ' t .\n",
      "\n",
      "<s> it ' s okay . </s>\n",
      "<s> i have an idea . if you ' re interested . </s>\n",
      "-1.224   i don ' t know .\n",
      "\n",
      "<s> <person> , dad . i ' m seventeen now . i ' m driving . i ' ve got a girlfriend . well , actually , we broke up . but you guys treat me like a kid . is it too much to ask for to be a normal teenager with a normal life ? </s>\n",
      "<s> you broke up with <person> ? </s>\n",
      "-0.980   i don ' t know .\n",
      "\n",
      "<s> <unk> . </s>\n",
      "<s> that gag ' s got <unk> on it ! </s>\n",
      "-1.511   i don ' t know .\n",
      "\n",
      "<s> [ well . we ' re surrounded by the police and we have no way out . what are we going to do ? ] <person> slaps him across the face . </s>\n",
      "<s> [ what are you doing <person> ? talking of all this false doubt . what do you think we ' re going to do ? ] </s>\n",
      "-1.335   i don ' t know .\n",
      "\n",
      "<s> excuse me ? what ? this is a mistake . i ' ve lived here since <number> . i ' m applying for <unk> . </s>\n",
      "<s> you need <unk> now ? after the big promotion ? </s>\n",
      "-1.606   all right . i ' ll be back in the morning .\n",
      "\n",
      "<s> <person> , just apologize . </s>\n",
      "<s> <person> here was on the <continued_utterance> shut the fuck up . </s>\n",
      "-1.206   i don ' t know what you ' re talking about .\n",
      "\n",
      "<s> you sing like a bird . </s>\n",
      "<s> a bird with <unk> . a <unk> bird . that hasn ' t long to live . </s>\n",
      "-1.454   that ' s what i ' m talking about .\n",
      "\n",
      "<s> the streets are getting full of guys you ' ve <unk> . </s>\n",
      "<s> been thinking about <person> . there ' s nothing to keep me here . </s>\n",
      "-1.382   i don ' t know .\n",
      "\n",
      "<s> <person> ' numbers without i know about it is both illegal and <unk> . you remember that . <continued_utterance> <person> , son . you ' re not finished . pour his . </s>\n",
      "<s> i prefer it in the bottle -- </s>\n",
      "-1.378   i don ' t know what you ' re talking about .\n",
      "\n",
      "<s> <person> ' t tell me you ' re jealous ? </s>\n",
      "<s> yeah , jealous . a little bit like <person> . lem me , lem me <unk> i show you something , lady ? what i have here . i found this in the apartment . <person> soap . she used to wash her face eight hundred times a day with black soap . <person> ' t ask me why . </s>\n",
      "-1.410   what do you mean ?\n",
      "\n",
      "<s> that ' s a good one . </s>\n",
      "<s> i ' m serious , dude . you always seem to be on top of things , even when you ' re <unk> ' . </s>\n",
      "-1.220   no , i don ' t .\n",
      "\n",
      "<s> we have a new site in montana . at least until the money runs out . </s>\n",
      "<s> anything good ? </s>\n",
      "-1.542   of course .\n",
      "\n",
      "<s> oh boy ! </s>\n",
      "<s> now , <person> , we ' re leaving on the electronic collar . i don ' t think we ' ll need to shock you , but just in case . </s>\n",
      "-1.401   then what ' s the matter with you ?\n",
      "\n",
      "<s> well , they ' ll go along with anything . </s>\n",
      "<s> sure . but eventually , even the more <unk> birds began to listen . `` why should humans rule ? '' they asked themselves . </s>\n",
      "-1.321   is that what you ' re talking about ?\n",
      "\n",
      "<s> see that up there ? your mother thought i was crazy for wanting to buy this place , middle of nowhere . but i just knew this was what i was supposed to do . told your mom , `` just wait . `` told her when they finally ran the freeway through here like they were <unk> ' on , this place would be like <person> . <continued_utterance> but i was wrong . the freeway never came and now the only people who ever stop here are the ones who are lost . <continued_utterance> and your mom ? well she got tired of waitin ' . </s>\n",
      "<s> c ' mon dad . you can ' t blame yourself for what she did -- </s>\n",
      "-1.116   i don ' t know .\n",
      "\n",
      "<s> <person> . </s>\n",
      "<s> i ' m sorry . i shouldn ' t have fucked this kid last night . i should have slept . now i ' ve got all this stuff to do , and i ' m tired , i ' m <unk> up , i ' m in a fuckin ' mood . </s>\n",
      "-1.350   i don ' t know what you ' re talking about .\n",
      "\n",
      "<s> you have kids , <person> ? </s>\n",
      "<s> uh . actually , yes . two . good ones . </s>\n",
      "-1.604   there ' s a lot of people in the world .\n",
      "\n",
      "<s> i don ' t want to go out with some who wears <unk> pants . </s>\n",
      "<s> well , there we go . i could go <unk> , but i don ' t think that ' s acceptable in government . </s>\n",
      "-1.471   why don ' t you just go home ?\n",
      "\n",
      "<s> i couldn ' t say . </s>\n",
      "<s> you were a prosecutor . </s>\n",
      "-1.549   i ' m sorry .\n",
      "\n"
     ]
    }
   ],
   "source": [
    "beam_size = 40\n",
    "group_size = 2\n",
    "\n",
    "for i in xrange(0, 100, 3):\n",
    "    context = map(lambda x: np.array(x, dtype=np.int32)[np.newaxis], train[i:i+2])\n",
    "    lookup = False\n",
    "    for u in context:\n",
    "        print print_utt(u[0])\n",
    "        \n",
    "    con_init = context_summary(context, lookup)\n",
    "    W = L.layers.get_all_param_values(hred_net.train_net)[31]\n",
    "    b = L.layers.get_all_param_values(hred_net.train_net)[32]\n",
    "    dec_init = np.repeat(np.tanh(con_init.dot(W) + b), beam_size, axis=0)\n",
    "\n",
    "    beamsearch = diverse_beam_search(beam_size, group_size, dec_init, voc_size, hred_net,\n",
    "                                     init_seq=utt_to_array('<s> '.split()))\n",
    "    \n",
    "    len_bonus = lambda size: 0#np.log(size)**2\n",
    "\n",
    "    mean = True\n",
    "        \n",
    "    def fn_score(x, y, mean=mean, len_bonus=len_bonus):\n",
    "        denom = (x.size - 1) if mean else 1\n",
    "        return (y + len_bonus(x.size)) / denom\n",
    "\n",
    "    for utt, scr in sorted(beamsearch, key=lambda (x,y): fn_score(x, y), reverse=True)[:1]:\n",
    "        print '{:.3f}  '.format(fn_score(utt, scr)), print_utt(utt[1:-1])\n",
    "        print ''\n",
    "        \n",
    "# for utt in beamsearch:\n",
    "#     print_utt(utt)\n",
    "#     print ''"
   ]
  },
  {
   "cell_type": "code",
   "execution_count": 10,
   "metadata": {
    "collapsed": false,
    "scrolled": true
   },
   "outputs": [
    {
     "name": "stdout",
     "output_type": "stream",
     "text": [
      "Done 10 batches in 0.86s\ttraining loss:\t7.176166\n",
      "Done 20 batches in 1.69s\ttraining loss:\t6.175796\n",
      "Done 30 batches in 2.44s\ttraining loss:\t5.697121\n",
      "Done 40 batches in 3.47s\ttraining loss:\t5.374195\n",
      "Done 50 batches in 4.27s\ttraining loss:\t5.207509\n",
      "Done 60 batches in 5.11s\ttraining loss:\t5.063584\n",
      "Done 70 batches in 5.92s\ttraining loss:\t4.934647\n",
      "Done 80 batches in 6.69s\ttraining loss:\t4.840843\n"
     ]
    },
    {
     "ename": "KeyboardInterrupt",
     "evalue": "",
     "output_type": "error",
     "traceback": [
      "\u001b[1;31m---------------------------------------------------------------------------\u001b[0m",
      "\u001b[1;31mKeyboardInterrupt\u001b[0m                         Traceback (most recent call last)",
      "\u001b[1;32m<ipython-input-10-e0bc5d556518>\u001b[0m in \u001b[0;36m<module>\u001b[1;34m()\u001b[0m\n\u001b[1;32m----> 1\u001b[1;33m \u001b[0mhred_net\u001b[0m\u001b[1;33m.\u001b[0m\u001b[0mtrain_one_epoch\u001b[0m\u001b[1;33m(\u001b[0m\u001b[0mtrain_subtle2\u001b[0m\u001b[1;33m,\u001b[0m \u001b[1;36m60\u001b[0m\u001b[1;33m)\u001b[0m\u001b[1;33m\u001b[0m\u001b[0m\n\u001b[0m",
      "\u001b[1;32m/home/i258346/Desktop/masters_thesis/rnn_ex/SimpleRNNLM.pyc\u001b[0m in \u001b[0;36mtrain_one_epoch\u001b[1;34m(self, train_data, batch_size, log_interval)\u001b[0m\n\u001b[0;32m    101\u001b[0m \u001b[1;33m\u001b[0m\u001b[0m\n\u001b[0;32m    102\u001b[0m             \u001b[0mnum_batch_words\u001b[0m \u001b[1;33m=\u001b[0m \u001b[0mmask\u001b[0m\u001b[1;33m.\u001b[0m\u001b[0msum\u001b[0m\u001b[1;33m(\u001b[0m\u001b[1;33m)\u001b[0m\u001b[1;33m\u001b[0m\u001b[0m\n\u001b[1;32m--> 103\u001b[1;33m             \u001b[0mtrain_err\u001b[0m \u001b[1;33m+=\u001b[0m \u001b[0mself\u001b[0m\u001b[1;33m.\u001b[0m\u001b[0mtrain_fn\u001b[0m\u001b[1;33m(\u001b[0m\u001b[0minputs\u001b[0m\u001b[1;33m,\u001b[0m \u001b[0mtargets\u001b[0m\u001b[1;33m,\u001b[0m \u001b[0mmask\u001b[0m\u001b[1;33m)\u001b[0m \u001b[1;33m*\u001b[0m \u001b[0mnum_batch_words\u001b[0m\u001b[1;33m\u001b[0m\u001b[0m\n\u001b[0m\u001b[0;32m    104\u001b[0m             \u001b[0mtrain_batches\u001b[0m \u001b[1;33m+=\u001b[0m \u001b[1;36m1\u001b[0m\u001b[1;33m\u001b[0m\u001b[0m\n\u001b[0;32m    105\u001b[0m             \u001b[0mnum_training_words\u001b[0m \u001b[1;33m+=\u001b[0m \u001b[0mnum_batch_words\u001b[0m\u001b[1;33m\u001b[0m\u001b[0m\n",
      "\u001b[1;32m/home/i258346/.local/lib/python2.7/site-packages/theano/compile/function_module.pyc\u001b[0m in \u001b[0;36m__call__\u001b[1;34m(self, *args, **kwargs)\u001b[0m\n\u001b[0;32m    882\u001b[0m         \u001b[1;32mtry\u001b[0m\u001b[1;33m:\u001b[0m\u001b[1;33m\u001b[0m\u001b[0m\n\u001b[0;32m    883\u001b[0m             \u001b[0moutputs\u001b[0m \u001b[1;33m=\u001b[0m\u001b[0;31m\\\u001b[0m\u001b[1;33m\u001b[0m\u001b[0m\n\u001b[1;32m--> 884\u001b[1;33m                 \u001b[0mself\u001b[0m\u001b[1;33m.\u001b[0m\u001b[0mfn\u001b[0m\u001b[1;33m(\u001b[0m\u001b[1;33m)\u001b[0m \u001b[1;32mif\u001b[0m \u001b[0moutput_subset\u001b[0m \u001b[1;32mis\u001b[0m \u001b[0mNone\u001b[0m \u001b[1;32melse\u001b[0m\u001b[0;31m\\\u001b[0m\u001b[1;33m\u001b[0m\u001b[0m\n\u001b[0m\u001b[0;32m    885\u001b[0m                 \u001b[0mself\u001b[0m\u001b[1;33m.\u001b[0m\u001b[0mfn\u001b[0m\u001b[1;33m(\u001b[0m\u001b[0moutput_subset\u001b[0m\u001b[1;33m=\u001b[0m\u001b[0moutput_subset\u001b[0m\u001b[1;33m)\u001b[0m\u001b[1;33m\u001b[0m\u001b[0m\n\u001b[0;32m    886\u001b[0m         \u001b[1;32mexcept\u001b[0m \u001b[0mException\u001b[0m\u001b[1;33m:\u001b[0m\u001b[1;33m\u001b[0m\u001b[0m\n",
      "\u001b[1;32m/home/i258346/.local/lib/python2.7/site-packages/theano/gof/op.pyc\u001b[0m in \u001b[0;36mrval\u001b[1;34m(p, i, o, n)\u001b[0m\n\u001b[0;32m    858\u001b[0m         \u001b[1;32mif\u001b[0m \u001b[0mparams\u001b[0m \u001b[1;32mis\u001b[0m \u001b[0mgraph\u001b[0m\u001b[1;33m.\u001b[0m\u001b[0mNoParams\u001b[0m\u001b[1;33m:\u001b[0m\u001b[1;33m\u001b[0m\u001b[0m\n\u001b[0;32m    859\u001b[0m             \u001b[1;31m# default arguments are stored in the closure of `rval`\u001b[0m\u001b[1;33m\u001b[0m\u001b[1;33m\u001b[0m\u001b[0m\n\u001b[1;32m--> 860\u001b[1;33m             \u001b[1;32mdef\u001b[0m \u001b[0mrval\u001b[0m\u001b[1;33m(\u001b[0m\u001b[0mp\u001b[0m\u001b[1;33m=\u001b[0m\u001b[0mp\u001b[0m\u001b[1;33m,\u001b[0m \u001b[0mi\u001b[0m\u001b[1;33m=\u001b[0m\u001b[0mnode_input_storage\u001b[0m\u001b[1;33m,\u001b[0m \u001b[0mo\u001b[0m\u001b[1;33m=\u001b[0m\u001b[0mnode_output_storage\u001b[0m\u001b[1;33m,\u001b[0m \u001b[0mn\u001b[0m\u001b[1;33m=\u001b[0m\u001b[0mnode\u001b[0m\u001b[1;33m)\u001b[0m\u001b[1;33m:\u001b[0m\u001b[1;33m\u001b[0m\u001b[0m\n\u001b[0m\u001b[0;32m    861\u001b[0m                 \u001b[0mr\u001b[0m \u001b[1;33m=\u001b[0m \u001b[0mp\u001b[0m\u001b[1;33m(\u001b[0m\u001b[0mn\u001b[0m\u001b[1;33m,\u001b[0m \u001b[1;33m[\u001b[0m\u001b[0mx\u001b[0m\u001b[1;33m[\u001b[0m\u001b[1;36m0\u001b[0m\u001b[1;33m]\u001b[0m \u001b[1;32mfor\u001b[0m \u001b[0mx\u001b[0m \u001b[1;32min\u001b[0m \u001b[0mi\u001b[0m\u001b[1;33m]\u001b[0m\u001b[1;33m,\u001b[0m \u001b[0mo\u001b[0m\u001b[1;33m)\u001b[0m\u001b[1;33m\u001b[0m\u001b[0m\n\u001b[0;32m    862\u001b[0m                 \u001b[1;32mfor\u001b[0m \u001b[0mo\u001b[0m \u001b[1;32min\u001b[0m \u001b[0mnode\u001b[0m\u001b[1;33m.\u001b[0m\u001b[0moutputs\u001b[0m\u001b[1;33m:\u001b[0m\u001b[1;33m\u001b[0m\u001b[0m\n",
      "\u001b[1;31mKeyboardInterrupt\u001b[0m: "
     ]
    }
   ],
   "source": [
    "hred_net.train_one_epoch(train_subtle2, 60)"
   ]
  },
  {
   "cell_type": "code",
   "execution_count": 7,
   "metadata": {
    "collapsed": false,
    "scrolled": true
   },
   "outputs": [
    {
     "name": "stdout",
     "output_type": "stream",
     "text": [
      "Done 100 batches in 4.07s\n",
      "Done 200 batches in 8.39s\n",
      "Done 300 batches in 12.95s\n",
      "Done 400 batches in 17.68s\n",
      "Done 500 batches in 21.70s\n",
      "Done 600 batches in 26.34s\n",
      "Done 700 batches in 31.03s\n",
      "Done 800 batches in 35.56s\n",
      "Done 900 batches in 40.01s\n",
      "Done 1000 batches in 44.49s\n",
      "Done 1100 batches in 48.81s\n",
      "Done 1200 batches in 53.21s\n",
      "Done 1300 batches in 57.49s\n",
      "Done 1400 batches in 61.62s\n",
      "Done 1500 batches in 66.13s\n",
      "Done 1600 batches in 70.65s\n",
      "Done 1700 batches in 74.90s\n",
      "Done 1800 batches in 79.24s\n",
      "Done 1900 batches in 83.80s\n",
      "Done 2000 batches in 88.35s\n",
      "Done 2100 batches in 92.88s\n",
      "Done 2200 batches in 97.45s\n",
      "Done 2300 batches in 101.66s\n",
      "Done 2400 batches in 106.09s\n"
     ]
    },
    {
     "data": {
      "text/plain": [
       "3.2819798801888118"
      ]
     },
     "execution_count": 7,
     "metadata": {},
     "output_type": "execute_result"
    }
   ],
   "source": [
    "hred_net.validate(test, 30)"
   ]
  },
  {
   "cell_type": "code",
   "execution_count": 8,
   "metadata": {
    "collapsed": true
   },
   "outputs": [],
   "source": [
    "'''full softmax, bs=30'''\n",
    "# train, 1 dir, 1 epoch: 3.485554076321884\n",
    "# val: 3.455356876018342\n",
    "\n",
    "# train, 2 dir, concat, 1 epoch: 3.4864403798772239\n",
    "# val: 3.4579001751897063\n",
    "\n",
    "# train, 2 dir, L2 + concat, 1 epoch: 3.4881669768474675\n",
    "# val: 3.4584704095551695\n",
    "# training time: ~4700s\n",
    "\n",
    "'''sampled softmax'''\n",
    "# bs=30\n",
    "# train, 2 dir, L2 + concat, 1 epoch: 3.486180601246621\n",
    "# val: 3.4811877499289308\n",
    "# training time: ~2300s\n",
    "\n",
    "# bs=60\n",
    "# train, 2 dir, L2 + concat, 1 epoch: 3.5235153449672456\n",
    "# val: 3.5063306987542759\n",
    "# training time: ~1900s"
   ]
  }
 ],
 "metadata": {
  "anaconda-cloud": {},
  "kernelspec": {
   "display_name": "Python 2",
   "language": "python",
   "name": "python2"
  },
  "language_info": {
   "codemirror_mode": {
    "name": "ipython",
    "version": 2
   },
   "file_extension": ".py",
   "mimetype": "text/x-python",
   "name": "python",
   "nbconvert_exporter": "python",
   "pygments_lexer": "ipython2",
   "version": "2.7.13"
  }
 },
 "nbformat": 4,
 "nbformat_minor": 0
}
